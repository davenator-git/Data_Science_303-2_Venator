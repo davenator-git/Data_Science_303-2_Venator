{
 "cells": [
  {
   "cell_type": "raw",
   "id": "33dd6c4c",
   "metadata": {},
   "source": [
    "---\n",
    "title: \"Project Report\"\n",
    "subtitle: JHED\n",
    "author: Hiba Khatib, Emily Leibfritz, David Venator, Jazmyn Lu\n",
    "date: 03/13/2023\n",
    "number-sections: true\n",
    "abstract: _The Titanic was a tragic event that taught the world a lot about the fallbacks of having a large hubris when it comes to new technology. One of the main contributions to why so many people died in the Titanic was the fact that they did not have enough lifeboats for everyone on board. Analyzing who was able to survive Titanic would shed light on what lives were prioritized during that period of time, which is what we aim to do through this project. We hypothesize that the lives of women, children, and the upper class were prioritized over men, elderly people, and the lower class._.\n",
    "format: \n",
    "  html:\n",
    "    toc: true\n",
    "    toc-title: Contents\n",
    "    self-contained: true\n",
    "    font-size: 100%\n",
    "    toc-depth: 4\n",
    "    mainfont: serif\n",
    "jupyter: python3\n",
    "---"
   ]
  },
  {
   "cell_type": "markdown",
   "id": "aba5ee91",
   "metadata": {},
   "source": [
    "## Length of the report {-}\n",
    "The length of the report must be no more than 15 pages, when printed as PDF. However, there is no requirement on the minimum number of pages.\n",
    "\n",
    "You may put additional stuff as Appendix. You may refer to the Appendix in the main report to support your arguments. However, your appendix is unlikely to be checked while grading, unless the grader deems it necessary. The appendix, references, and information about GitHub and individual contribution will not be included in the page count, and there is no limit on the length of the appendix.\n",
    "\n",
    "**Delete this section from the report, when using this template.** "
   ]
  },
  {
   "cell_type": "markdown",
   "id": "93d3d9ed",
   "metadata": {},
   "source": [
    "## Code should be put separately in the code template {-}\n",
    "Your report should be in a research-paper like style. If there is something that can only be explained by showing the code, then you may put it, otherwise do not put the code in the report. We will check your code in the code template. \n",
    "\n",
    "**Delete this section from the report, when using this template.** "
   ]
  },
  {
   "cell_type": "markdown",
   "id": "0116f49b",
   "metadata": {},
   "source": [
    "## Background / Motivation"
   ]
  },
  {
   "cell_type": "markdown",
   "id": "281187bd",
   "metadata": {},
   "source": [
    "We wanted to work on this problem because we all really love the film Titanic. The Titanic was a British passenger ship which sank on April 15, 1912 after colliding with an iceberg. It was one of the largest and most luxurious ships at the time and considered to be a safe and unsinkable ship. It included amenities such as a swimming pool, gymnasium, and multiple dining options for passengers. This explains why the crew was not prepared for disaster; with 2,224 people on board, there was only enough lifeboats for half of the total amount of people, leading to the death of 1,500. The sinking of the Titanic led to significant changes in maritime safety regulations, including requiring ships to carry enough lifeboats for all passengers and crew and improving communication and navigation systems on board. The Titanic's story has been the subject of numerous books, movies, and documentaries, and has become a symbol of human hubris and the dangers of overconfidence in technology.\n",
    "\n",
    "We would like to explore which people's lives were prioritized in this state of emergency, and which lives were not. This would give valuable insight into the social structure of British and American society during that time."
   ]
  },
  {
   "cell_type": "markdown",
   "id": "84ff1421",
   "metadata": {},
   "source": [
    "## Problem statement "
   ]
  },
  {
   "cell_type": "markdown",
   "id": "282e48c7",
   "metadata": {},
   "source": [
    "We would like to predict the survival of the passengers on the Titanic based on features of the passengers such as their class, gender, port of embarkation, cabin number, cost of fare, relatives on board, and age. \n",
    "\n",
    "This is a classification problem because we want to figure out whether or not the passengers survived, a qualitative response. This is more of an inference problem since we don't want to necessarily predict future deaths of passengers of the Titanic, something that won't happen again, but instead understand how each indepedent variable impacts the likelihood of that passenger dying. \n",
    "\n",
    "Since this is a classification problem, we obviously want to minimize the classification error rate, and hopefully achieve a model of at least 95% accuracy. Since we are not using this data to make any future predictions, we aren't necessarily interested in precision, recall, FNR, or TPR."
   ]
  },
  {
   "cell_type": "markdown",
   "id": "38c7b95f",
   "metadata": {},
   "source": [
    "## Data sources\n",
    "What data did you use? Provide details about your data. Include links to data if you are using open-access data."
   ]
  },
  {
   "cell_type": "markdown",
   "id": "4e428f16",
   "metadata": {},
   "source": [
    "The data we used is a Kaggle dataset found at this link: https://www.kaggle.com/competitions/titanic/data?select=test.csv\n",
    "<br>\n",
    "<br>\n",
    "Our variable of interest is 'Survived' and the rest of the variables were considered as predictors. \n",
    "<br> \n",
    "<br>\n",
    "Variable descriptions: \n",
    "<br> \n",
    "<br>\n",
    "1. Survived: 0=No, 1=Yes\n",
    "<br> \n",
    "2. Pclass: 1 = first class, 2 = second class, 3 = third class\n",
    "<br> \n",
    "3. sibsp: number of siblings and spouses aboard Titanic\n",
    "<br> \n",
    "4. parch: number of parents and children aboard Titanic\n",
    "<br> \n",
    "5. ticket: ticket number\n",
    "<br> \n",
    "6. fare: passenger fare\n",
    "<br> \n",
    "7. cabin: cabin number\n",
    "<br> \n",
    "8. embarked: port of embarkation: C = Cherbourg, Q = Queenstown, S = Southampton\n"
   ]
  },
  {
   "cell_type": "markdown",
   "id": "8c255035",
   "metadata": {},
   "source": [
    "## Stakeholders"
   ]
  },
  {
   "cell_type": "markdown",
   "id": "67b0b71f",
   "metadata": {},
   "source": [
    "We are mostly interested in understanding the background of a historical event, and if certain factors like sex or class could have decided on a person's life. This would help honor the victims of this tragic accident.\n",
    "\n",
    "Additionally, for someone paranoid and scared of boatrides, it might help them feel prepared if they knew what helped people survive on the Titanic, so they could improve their chances of survival through fare, cabin placement, etc. as well"
   ]
  },
  {
   "cell_type": "markdown",
   "id": "fe7ea9bb",
   "metadata": {},
   "source": [
    "## Data quality check / cleaning / preparation "
   ]
  },
  {
   "cell_type": "markdown",
   "id": "a8c5ecf4",
   "metadata": {},
   "source": [
    "The following variables were discarded as they did not provide any unique data; they were specific to each passenger\n",
    "- PassengerId\n",
    "- Name\n",
    "- Ticket\n",
    "- Cabin"
   ]
  },
  {
   "cell_type": "code",
   "execution_count": 108,
   "id": "76853a3c",
   "metadata": {},
   "outputs": [],
   "source": [
    "import pandas as pd\n",
    "import numpy as np\n",
    "import seaborn as sns\n",
    "import matplotlib.pyplot as plt\n",
    "import statsmodels.api as sm\n",
    "import statsmodels.formula.api as smf\n",
    "train = pd.read_csv('../train.csv')\n",
    "train = train.drop(['PassengerId','Name','Ticket','Cabin'],axis=1)"
   ]
  },
  {
   "cell_type": "markdown",
   "id": "3b04918a",
   "metadata": {},
   "source": [
    "The frequency for the continuous variables is as follows:"
   ]
  },
  {
   "cell_type": "code",
   "execution_count": 96,
   "id": "e839a3e9",
   "metadata": {},
   "outputs": [
    {
     "data": {
      "text/html": [
       "<div>\n",
       "<style scoped>\n",
       "    .dataframe tbody tr th:only-of-type {\n",
       "        vertical-align: middle;\n",
       "    }\n",
       "\n",
       "    .dataframe tbody tr th {\n",
       "        vertical-align: top;\n",
       "    }\n",
       "\n",
       "    .dataframe thead th {\n",
       "        text-align: right;\n",
       "    }\n",
       "</style>\n",
       "<table border=\"1\" class=\"dataframe\">\n",
       "  <thead>\n",
       "    <tr style=\"text-align: right;\">\n",
       "      <th></th>\n",
       "      <th>Age</th>\n",
       "      <th>Fare</th>\n",
       "    </tr>\n",
       "  </thead>\n",
       "  <tbody>\n",
       "    <tr>\n",
       "      <th>count</th>\n",
       "      <td>714.0</td>\n",
       "      <td>891.0</td>\n",
       "    </tr>\n",
       "    <tr>\n",
       "      <th>mean</th>\n",
       "      <td>29.699118</td>\n",
       "      <td>32.204208</td>\n",
       "    </tr>\n",
       "    <tr>\n",
       "      <th>std</th>\n",
       "      <td>14.526497</td>\n",
       "      <td>49.693429</td>\n",
       "    </tr>\n",
       "    <tr>\n",
       "      <th>min</th>\n",
       "      <td>0.42</td>\n",
       "      <td>0.0</td>\n",
       "    </tr>\n",
       "    <tr>\n",
       "      <th>25%</th>\n",
       "      <td>20.125</td>\n",
       "      <td>7.9104</td>\n",
       "    </tr>\n",
       "    <tr>\n",
       "      <th>50%</th>\n",
       "      <td>28.0</td>\n",
       "      <td>14.4542</td>\n",
       "    </tr>\n",
       "    <tr>\n",
       "      <th>75%</th>\n",
       "      <td>38.0</td>\n",
       "      <td>31.0</td>\n",
       "    </tr>\n",
       "    <tr>\n",
       "      <th>max</th>\n",
       "      <td>80.0</td>\n",
       "      <td>512.3292</td>\n",
       "    </tr>\n",
       "    <tr>\n",
       "      <th># missing</th>\n",
       "      <td>177</td>\n",
       "      <td>0</td>\n",
       "    </tr>\n",
       "    <tr>\n",
       "      <th># unique</th>\n",
       "      <td>88</td>\n",
       "      <td>248</td>\n",
       "    </tr>\n",
       "  </tbody>\n",
       "</table>\n",
       "</div>"
      ],
      "text/plain": [
       "                 Age       Fare\n",
       "count          714.0      891.0\n",
       "mean       29.699118  32.204208\n",
       "std        14.526497  49.693429\n",
       "min             0.42        0.0\n",
       "25%           20.125     7.9104\n",
       "50%             28.0    14.4542\n",
       "75%             38.0       31.0\n",
       "max             80.0   512.3292\n",
       "# missing        177          0\n",
       "# unique          88        248"
      ]
     },
     "execution_count": 96,
     "metadata": {},
     "output_type": "execute_result"
    }
   ],
   "source": [
    "df = train[['Age','Fare']].isnull().sum().reset_index().transpose().append(train[['Age','Fare']].nunique().reset_index().transpose())\n",
    "df = df.rename(columns=df.iloc[0]).drop(df.index[0])\n",
    "df = df.set_index([pd.Index(['# missing','# unique'])])\n",
    "train[['Age','Fare']].describe().append(df)"
   ]
  },
  {
   "cell_type": "markdown",
   "id": "ec780dcb",
   "metadata": {},
   "source": [
    "The frequency table for the categorical variable \"Survived\":"
   ]
  },
  {
   "cell_type": "code",
   "execution_count": 97,
   "id": "b6507b24",
   "metadata": {},
   "outputs": [
    {
     "data": {
      "text/html": [
       "<div>\n",
       "<style scoped>\n",
       "    .dataframe tbody tr th:only-of-type {\n",
       "        vertical-align: middle;\n",
       "    }\n",
       "\n",
       "    .dataframe tbody tr th {\n",
       "        vertical-align: top;\n",
       "    }\n",
       "\n",
       "    .dataframe thead th {\n",
       "        text-align: right;\n",
       "    }\n",
       "</style>\n",
       "<table border=\"1\" class=\"dataframe\">\n",
       "  <thead>\n",
       "    <tr style=\"text-align: right;\">\n",
       "      <th></th>\n",
       "      <th>count</th>\n",
       "      <th># missing</th>\n",
       "      <th># unique</th>\n",
       "    </tr>\n",
       "  </thead>\n",
       "  <tbody>\n",
       "    <tr>\n",
       "      <th>0</th>\n",
       "      <td>549</td>\n",
       "      <td>0</td>\n",
       "      <td>2</td>\n",
       "    </tr>\n",
       "    <tr>\n",
       "      <th>1</th>\n",
       "      <td>342</td>\n",
       "      <td></td>\n",
       "      <td></td>\n",
       "    </tr>\n",
       "  </tbody>\n",
       "</table>\n",
       "</div>"
      ],
      "text/plain": [
       "   count # missing # unique\n",
       "0    549         0        2\n",
       "1    342                   "
      ]
     },
     "execution_count": 97,
     "metadata": {},
     "output_type": "execute_result"
    }
   ],
   "source": [
    "df1=pd.crosstab(train['Survived'], columns = 'count')\n",
    "df2=pd.DataFrame(data={'# missing': [0, ' '], '# unique': [2, ' ']}, index=[0, 1])\n",
    "pd.concat([df1,df2],axis=1)"
   ]
  },
  {
   "cell_type": "markdown",
   "id": "36add97b",
   "metadata": {},
   "source": [
    "The frequency table for the categorical variable \"Pclass\":"
   ]
  },
  {
   "cell_type": "code",
   "execution_count": 98,
   "id": "23ba1030",
   "metadata": {},
   "outputs": [
    {
     "data": {
      "text/html": [
       "<div>\n",
       "<style scoped>\n",
       "    .dataframe tbody tr th:only-of-type {\n",
       "        vertical-align: middle;\n",
       "    }\n",
       "\n",
       "    .dataframe tbody tr th {\n",
       "        vertical-align: top;\n",
       "    }\n",
       "\n",
       "    .dataframe thead th {\n",
       "        text-align: right;\n",
       "    }\n",
       "</style>\n",
       "<table border=\"1\" class=\"dataframe\">\n",
       "  <thead>\n",
       "    <tr style=\"text-align: right;\">\n",
       "      <th></th>\n",
       "      <th>count</th>\n",
       "      <th># missing</th>\n",
       "      <th># unique</th>\n",
       "    </tr>\n",
       "  </thead>\n",
       "  <tbody>\n",
       "    <tr>\n",
       "      <th>1</th>\n",
       "      <td>216</td>\n",
       "      <td>0</td>\n",
       "      <td>3</td>\n",
       "    </tr>\n",
       "    <tr>\n",
       "      <th>2</th>\n",
       "      <td>184</td>\n",
       "      <td></td>\n",
       "      <td></td>\n",
       "    </tr>\n",
       "    <tr>\n",
       "      <th>3</th>\n",
       "      <td>491</td>\n",
       "      <td></td>\n",
       "      <td></td>\n",
       "    </tr>\n",
       "  </tbody>\n",
       "</table>\n",
       "</div>"
      ],
      "text/plain": [
       "   count # missing # unique\n",
       "1    216         0        3\n",
       "2    184                   \n",
       "3    491                   "
      ]
     },
     "execution_count": 98,
     "metadata": {},
     "output_type": "execute_result"
    }
   ],
   "source": [
    "df1=pd.crosstab(train['Pclass'], columns = 'count')\n",
    "df2=pd.DataFrame(data={'# missing': [0, ' ',' '], '# unique': [3, ' ',' ']}, index=[1,2,3])\n",
    "pd.concat([df1,df2],axis=1)"
   ]
  },
  {
   "cell_type": "markdown",
   "id": "99341dbf",
   "metadata": {},
   "source": [
    "The frequency table for the categorical variable \"Sex\":"
   ]
  },
  {
   "cell_type": "code",
   "execution_count": 99,
   "id": "ac3ef0eb",
   "metadata": {},
   "outputs": [
    {
     "data": {
      "text/html": [
       "<div>\n",
       "<style scoped>\n",
       "    .dataframe tbody tr th:only-of-type {\n",
       "        vertical-align: middle;\n",
       "    }\n",
       "\n",
       "    .dataframe tbody tr th {\n",
       "        vertical-align: top;\n",
       "    }\n",
       "\n",
       "    .dataframe thead th {\n",
       "        text-align: right;\n",
       "    }\n",
       "</style>\n",
       "<table border=\"1\" class=\"dataframe\">\n",
       "  <thead>\n",
       "    <tr style=\"text-align: right;\">\n",
       "      <th></th>\n",
       "      <th>count</th>\n",
       "      <th># missing</th>\n",
       "      <th># unique</th>\n",
       "    </tr>\n",
       "  </thead>\n",
       "  <tbody>\n",
       "    <tr>\n",
       "      <th>female</th>\n",
       "      <td>314</td>\n",
       "      <td>0</td>\n",
       "      <td>2</td>\n",
       "    </tr>\n",
       "    <tr>\n",
       "      <th>male</th>\n",
       "      <td>577</td>\n",
       "      <td></td>\n",
       "      <td></td>\n",
       "    </tr>\n",
       "  </tbody>\n",
       "</table>\n",
       "</div>"
      ],
      "text/plain": [
       "        count # missing # unique\n",
       "female    314         0        2\n",
       "male      577                   "
      ]
     },
     "execution_count": 99,
     "metadata": {},
     "output_type": "execute_result"
    }
   ],
   "source": [
    "df1=pd.crosstab(train['Sex'], columns = 'count')\n",
    "df2=pd.DataFrame(data={'# missing': [0, ' '], '# unique': [2, ' ']}, index=['female','male'])\n",
    "pd.concat([df1,df2],axis=1)"
   ]
  },
  {
   "cell_type": "markdown",
   "id": "32d6d908",
   "metadata": {},
   "source": [
    "The frequency table for the categorical variable \"SibSp\":"
   ]
  },
  {
   "cell_type": "code",
   "execution_count": 100,
   "id": "ba326235",
   "metadata": {},
   "outputs": [
    {
     "data": {
      "text/html": [
       "<div>\n",
       "<style scoped>\n",
       "    .dataframe tbody tr th:only-of-type {\n",
       "        vertical-align: middle;\n",
       "    }\n",
       "\n",
       "    .dataframe tbody tr th {\n",
       "        vertical-align: top;\n",
       "    }\n",
       "\n",
       "    .dataframe thead th {\n",
       "        text-align: right;\n",
       "    }\n",
       "</style>\n",
       "<table border=\"1\" class=\"dataframe\">\n",
       "  <thead>\n",
       "    <tr style=\"text-align: right;\">\n",
       "      <th></th>\n",
       "      <th>count</th>\n",
       "      <th># missing</th>\n",
       "      <th># unique</th>\n",
       "    </tr>\n",
       "  </thead>\n",
       "  <tbody>\n",
       "    <tr>\n",
       "      <th>0</th>\n",
       "      <td>608</td>\n",
       "      <td>0</td>\n",
       "      <td>7</td>\n",
       "    </tr>\n",
       "    <tr>\n",
       "      <th>1</th>\n",
       "      <td>209</td>\n",
       "      <td></td>\n",
       "      <td></td>\n",
       "    </tr>\n",
       "    <tr>\n",
       "      <th>2</th>\n",
       "      <td>28</td>\n",
       "      <td></td>\n",
       "      <td></td>\n",
       "    </tr>\n",
       "    <tr>\n",
       "      <th>3</th>\n",
       "      <td>16</td>\n",
       "      <td></td>\n",
       "      <td></td>\n",
       "    </tr>\n",
       "    <tr>\n",
       "      <th>4</th>\n",
       "      <td>18</td>\n",
       "      <td></td>\n",
       "      <td></td>\n",
       "    </tr>\n",
       "    <tr>\n",
       "      <th>5</th>\n",
       "      <td>5</td>\n",
       "      <td></td>\n",
       "      <td></td>\n",
       "    </tr>\n",
       "    <tr>\n",
       "      <th>8</th>\n",
       "      <td>7</td>\n",
       "      <td></td>\n",
       "      <td></td>\n",
       "    </tr>\n",
       "  </tbody>\n",
       "</table>\n",
       "</div>"
      ],
      "text/plain": [
       "   count # missing # unique\n",
       "0    608         0        7\n",
       "1    209                   \n",
       "2     28                   \n",
       "3     16                   \n",
       "4     18                   \n",
       "5      5                   \n",
       "8      7                   "
      ]
     },
     "execution_count": 100,
     "metadata": {},
     "output_type": "execute_result"
    }
   ],
   "source": [
    "df1=pd.crosstab(train['SibSp'], columns = 'count')\n",
    "df2=pd.DataFrame(data={'# missing': [0,'','','','','',''], '# unique': [7,'','','','','','']}, index=[0,1,2,3,4,5,8])\n",
    "pd.concat([df1,df2],axis=1)"
   ]
  },
  {
   "cell_type": "markdown",
   "id": "b6592da3",
   "metadata": {},
   "source": [
    "The frequency table for the categorical variable \"Parch\":"
   ]
  },
  {
   "cell_type": "code",
   "execution_count": 101,
   "id": "b6be16eb",
   "metadata": {},
   "outputs": [
    {
     "data": {
      "text/html": [
       "<div>\n",
       "<style scoped>\n",
       "    .dataframe tbody tr th:only-of-type {\n",
       "        vertical-align: middle;\n",
       "    }\n",
       "\n",
       "    .dataframe tbody tr th {\n",
       "        vertical-align: top;\n",
       "    }\n",
       "\n",
       "    .dataframe thead th {\n",
       "        text-align: right;\n",
       "    }\n",
       "</style>\n",
       "<table border=\"1\" class=\"dataframe\">\n",
       "  <thead>\n",
       "    <tr style=\"text-align: right;\">\n",
       "      <th></th>\n",
       "      <th>count</th>\n",
       "      <th># missing</th>\n",
       "      <th># unique</th>\n",
       "    </tr>\n",
       "  </thead>\n",
       "  <tbody>\n",
       "    <tr>\n",
       "      <th>0</th>\n",
       "      <td>678</td>\n",
       "      <td>0</td>\n",
       "      <td>7</td>\n",
       "    </tr>\n",
       "    <tr>\n",
       "      <th>1</th>\n",
       "      <td>118</td>\n",
       "      <td></td>\n",
       "      <td></td>\n",
       "    </tr>\n",
       "    <tr>\n",
       "      <th>2</th>\n",
       "      <td>80</td>\n",
       "      <td></td>\n",
       "      <td></td>\n",
       "    </tr>\n",
       "    <tr>\n",
       "      <th>3</th>\n",
       "      <td>5</td>\n",
       "      <td></td>\n",
       "      <td></td>\n",
       "    </tr>\n",
       "    <tr>\n",
       "      <th>4</th>\n",
       "      <td>4</td>\n",
       "      <td></td>\n",
       "      <td></td>\n",
       "    </tr>\n",
       "    <tr>\n",
       "      <th>5</th>\n",
       "      <td>5</td>\n",
       "      <td></td>\n",
       "      <td></td>\n",
       "    </tr>\n",
       "    <tr>\n",
       "      <th>6</th>\n",
       "      <td>1</td>\n",
       "      <td></td>\n",
       "      <td></td>\n",
       "    </tr>\n",
       "  </tbody>\n",
       "</table>\n",
       "</div>"
      ],
      "text/plain": [
       "   count # missing # unique\n",
       "0    678         0        7\n",
       "1    118                   \n",
       "2     80                   \n",
       "3      5                   \n",
       "4      4                   \n",
       "5      5                   \n",
       "6      1                   "
      ]
     },
     "execution_count": 101,
     "metadata": {},
     "output_type": "execute_result"
    }
   ],
   "source": [
    "df1=pd.crosstab(train['Parch'], columns = 'count')\n",
    "df2=pd.DataFrame(data={'# missing': [0,'','','','','',''], '# unique': [7,'','','','','','']}, index=[0,1,2,3,4,5,6])\n",
    "pd.concat([df1,df2],axis=1)"
   ]
  },
  {
   "cell_type": "markdown",
   "id": "0ef4c552",
   "metadata": {},
   "source": [
    "The frequency table for the categorical variable \"Embarked\""
   ]
  },
  {
   "cell_type": "code",
   "execution_count": 102,
   "id": "dc84afc3",
   "metadata": {},
   "outputs": [
    {
     "data": {
      "text/html": [
       "<div>\n",
       "<style scoped>\n",
       "    .dataframe tbody tr th:only-of-type {\n",
       "        vertical-align: middle;\n",
       "    }\n",
       "\n",
       "    .dataframe tbody tr th {\n",
       "        vertical-align: top;\n",
       "    }\n",
       "\n",
       "    .dataframe thead th {\n",
       "        text-align: right;\n",
       "    }\n",
       "</style>\n",
       "<table border=\"1\" class=\"dataframe\">\n",
       "  <thead>\n",
       "    <tr style=\"text-align: right;\">\n",
       "      <th></th>\n",
       "      <th>count</th>\n",
       "      <th># missing</th>\n",
       "      <th># unique</th>\n",
       "    </tr>\n",
       "  </thead>\n",
       "  <tbody>\n",
       "    <tr>\n",
       "      <th>C</th>\n",
       "      <td>168</td>\n",
       "      <td>0</td>\n",
       "      <td>3</td>\n",
       "    </tr>\n",
       "    <tr>\n",
       "      <th>Q</th>\n",
       "      <td>77</td>\n",
       "      <td></td>\n",
       "      <td></td>\n",
       "    </tr>\n",
       "    <tr>\n",
       "      <th>S</th>\n",
       "      <td>644</td>\n",
       "      <td></td>\n",
       "      <td></td>\n",
       "    </tr>\n",
       "  </tbody>\n",
       "</table>\n",
       "</div>"
      ],
      "text/plain": [
       "   count # missing # unique\n",
       "C    168         0        3\n",
       "Q     77                   \n",
       "S    644                   "
      ]
     },
     "execution_count": 102,
     "metadata": {},
     "output_type": "execute_result"
    }
   ],
   "source": [
    "df1=pd.crosstab(train['Embarked'], columns = 'count')\n",
    "df2=pd.DataFrame(data={'# missing': [0,'',''], '# unique': [3,'','']}, index=['C','S','Q'])\n",
    "pd.concat([df1,df2],axis=1)"
   ]
  },
  {
   "cell_type": "markdown",
   "id": "4efcf2da",
   "metadata": {},
   "source": [
    "The only data cleaning necessary for this dataset was the values of Age -- there were 177 missing values, and there was enough information for me to impute them. In order to impute the 177 values of Age, I decided to run a linear regression on all of the other variables and figure out if there was a model that could reliably predict values of Age. Hence, I made a model with Pclass, Sex, SibSp, Parch, Fare, and Embarked. I did some preliminary data analysis on those 6 variables on Age, and found that there was significant correlation between SibSp, Parch, and Pclass, but not Sex or Embarked. This is probably because Sex and Embarked would have a pretty evenly split age groups. The specific correlations can be seen in the Code section. \n",
    "\n",
    "To impute the values, I split the entire training dataset into two: one with all of the ages, and one without all of the ages. I ran my multiple linear regression on the dataset with all of the equations. I also edited the dataframe so that the variables SibSp, Parch, and Pclass were strings instead of integers, in order for the model to read them as categorical variables. I found that doing this improved the R-squared of my model drastically. I believe this is because these three variables only have discrete values (you can't have 4.5 siblings). I initially used the formula 'Age~SibSp+Parch+Pclass+Fare', and performed a residual analysis, as I found the R-squared value of 0.302 to be a bit unsatisfactory."
   ]
  },
  {
   "cell_type": "code",
   "execution_count": 117,
   "id": "03f85014",
   "metadata": {},
   "outputs": [
    {
     "data": {
      "text/plain": [
       "Text(0, 0.5, 'Residuals')"
      ]
     },
     "execution_count": 117,
     "metadata": {},
     "output_type": "execute_result"
    },
    {
     "data": {
      "image/png": "[encoded data removed]",
      "text/plain": [
       "<Figure size 504x288 with 1 Axes>"
      ]
     },
     "metadata": {},
     "output_type": "display_data"
    }
   ],
   "source": [
    "train['Pclass'] = train['Pclass'].apply(str)\n",
    "train['Parch'] = train['Parch'].apply(str)\n",
    "train['SibSp'] = train['SibSp'].apply(str)\n",
    "missing_age = train[train['Age'].isna()] #dataframe containing only rows missing Age\n",
    "has_age = train.dropna(subset=['Age']) #dataframe containing only no rows missing Age\n",
    "ols_object = smf.ols(formula = 'Age~SibSp+Parch+Pclass+Fare', data = has_age)\n",
    "model = ols_object.fit()\n",
    "plt.rcParams[\"figure.figsize\"] = (7,4)\n",
    "sns.set(font_scale=1.25)\n",
    "ax = sns.scatterplot(x = model.fittedvalues, y=model.resid,color = 'orange')\n",
    "sns.lineplot(x = [0,55],y = [0,0],color = 'blue')\n",
    "plt.xlabel('Fitted values')\n",
    "plt.ylabel('Residuals')"
   ]
  },
  {
   "cell_type": "markdown",
   "id": "1107468f",
   "metadata": {},
   "source": [
    "Here, you can clearly see that the constant variance assumption is violated, and hence we must take a transformation of the response variable. I found that taking the square-root of age was able make the variance of the residuals a bit more constant.\n",
    "Doing so improved the R-squared of this model to 0.349. As a last step, I checked to see if there were a need to remove any outliers, high leverage points, and influential points. I found 4 outliers, 35 high leverage points, and no influential points. Because there were no influential points, I decided not to remove any data from the model."
   ]
  },
  {
   "cell_type": "code",
   "execution_count": 118,
   "id": "f5962faf",
   "metadata": {},
   "outputs": [
    {
     "data": {
      "text/plain": [
       "Text(0, 0.5, 'Residuals')"
      ]
     },
     "execution_count": 118,
     "metadata": {},
     "output_type": "execute_result"
    },
    {
     "data": {
      "image/png": "[encoded data removed]",
      "text/plain": [
       "<Figure size 504x288 with 1 Axes>"
      ]
     },
     "metadata": {},
     "output_type": "display_data"
    }
   ],
   "source": [
    "ols_object = smf.ols(formula = 'np.sqrt(Age)~SibSp+Parch+Pclass+Fare', data = has_age)\n",
    "model_sqrt_age = ols_object.fit()\n",
    "plt.rcParams[\"figure.figsize\"] = (7,4)\n",
    "sns.set(font_scale=1.25)\n",
    "ax = sns.scatterplot(x = model_sqrt_age.fittedvalues, y=model_sqrt_age.resid,color = 'orange')\n",
    "sns.lineplot(x = [2,6.5],y = [0,0],color = 'blue')\n",
    "plt.xlabel('Fitted values')\n",
    "plt.ylabel('Residuals')"
   ]
  },
  {
   "cell_type": "markdown",
   "id": "8dc7853c",
   "metadata": {},
   "source": [
    "With this final model now set, I was now ready to impute the data on the part of the dataset that did not have values of Age. However, I immediately ran into an issue -- 7 datapoints had \"SibSp\" values of 8, but my model could only predict Ages of those with \"SibSp\" values from 0 to 5. Since \"SibSp\" has to do with the number of siblings and spouses, I hypothesized that the people who had a \"SibSp\" of 8 probably belonged to the same large family. I looked for these values in the dataframe and was correct! They call came from the Sage family."
   ]
  },
  {
   "cell_type": "code",
   "execution_count": 119,
   "id": "f260c0ac",
   "metadata": {},
   "outputs": [
    {
     "data": {
      "text/html": [
       "<div>\n",
       "<style scoped>\n",
       "    .dataframe tbody tr th:only-of-type {\n",
       "        vertical-align: middle;\n",
       "    }\n",
       "\n",
       "    .dataframe tbody tr th {\n",
       "        vertical-align: top;\n",
       "    }\n",
       "\n",
       "    .dataframe thead th {\n",
       "        text-align: right;\n",
       "    }\n",
       "</style>\n",
       "<table border=\"1\" class=\"dataframe\">\n",
       "  <thead>\n",
       "    <tr style=\"text-align: right;\">\n",
       "      <th></th>\n",
       "      <th>PassengerId</th>\n",
       "      <th>Survived</th>\n",
       "      <th>Pclass</th>\n",
       "      <th>Name</th>\n",
       "      <th>Sex</th>\n",
       "      <th>Age</th>\n",
       "      <th>SibSp</th>\n",
       "      <th>Parch</th>\n",
       "      <th>Ticket</th>\n",
       "      <th>Fare</th>\n",
       "      <th>Cabin</th>\n",
       "      <th>Embarked</th>\n",
       "    </tr>\n",
       "  </thead>\n",
       "  <tbody>\n",
       "    <tr>\n",
       "      <th>159</th>\n",
       "      <td>160</td>\n",
       "      <td>0</td>\n",
       "      <td>3</td>\n",
       "      <td>Sage, Master. Thomas Henry</td>\n",
       "      <td>male</td>\n",
       "      <td>NaN</td>\n",
       "      <td>8</td>\n",
       "      <td>2</td>\n",
       "      <td>CA. 2343</td>\n",
       "      <td>69.55</td>\n",
       "      <td>NaN</td>\n",
       "      <td>S</td>\n",
       "    </tr>\n",
       "    <tr>\n",
       "      <th>180</th>\n",
       "      <td>181</td>\n",
       "      <td>0</td>\n",
       "      <td>3</td>\n",
       "      <td>Sage, Miss. Constance Gladys</td>\n",
       "      <td>female</td>\n",
       "      <td>NaN</td>\n",
       "      <td>8</td>\n",
       "      <td>2</td>\n",
       "      <td>CA. 2343</td>\n",
       "      <td>69.55</td>\n",
       "      <td>NaN</td>\n",
       "      <td>S</td>\n",
       "    </tr>\n",
       "    <tr>\n",
       "      <th>201</th>\n",
       "      <td>202</td>\n",
       "      <td>0</td>\n",
       "      <td>3</td>\n",
       "      <td>Sage, Mr. Frederick</td>\n",
       "      <td>male</td>\n",
       "      <td>NaN</td>\n",
       "      <td>8</td>\n",
       "      <td>2</td>\n",
       "      <td>CA. 2343</td>\n",
       "      <td>69.55</td>\n",
       "      <td>NaN</td>\n",
       "      <td>S</td>\n",
       "    </tr>\n",
       "    <tr>\n",
       "      <th>324</th>\n",
       "      <td>325</td>\n",
       "      <td>0</td>\n",
       "      <td>3</td>\n",
       "      <td>Sage, Mr. George John Jr</td>\n",
       "      <td>male</td>\n",
       "      <td>NaN</td>\n",
       "      <td>8</td>\n",
       "      <td>2</td>\n",
       "      <td>CA. 2343</td>\n",
       "      <td>69.55</td>\n",
       "      <td>NaN</td>\n",
       "      <td>S</td>\n",
       "    </tr>\n",
       "    <tr>\n",
       "      <th>792</th>\n",
       "      <td>793</td>\n",
       "      <td>0</td>\n",
       "      <td>3</td>\n",
       "      <td>Sage, Miss. Stella Anna</td>\n",
       "      <td>female</td>\n",
       "      <td>NaN</td>\n",
       "      <td>8</td>\n",
       "      <td>2</td>\n",
       "      <td>CA. 2343</td>\n",
       "      <td>69.55</td>\n",
       "      <td>NaN</td>\n",
       "      <td>S</td>\n",
       "    </tr>\n",
       "    <tr>\n",
       "      <th>846</th>\n",
       "      <td>847</td>\n",
       "      <td>0</td>\n",
       "      <td>3</td>\n",
       "      <td>Sage, Mr. Douglas Bullen</td>\n",
       "      <td>male</td>\n",
       "      <td>NaN</td>\n",
       "      <td>8</td>\n",
       "      <td>2</td>\n",
       "      <td>CA. 2343</td>\n",
       "      <td>69.55</td>\n",
       "      <td>NaN</td>\n",
       "      <td>S</td>\n",
       "    </tr>\n",
       "    <tr>\n",
       "      <th>863</th>\n",
       "      <td>864</td>\n",
       "      <td>0</td>\n",
       "      <td>3</td>\n",
       "      <td>Sage, Miss. Dorothy Edith \"Dolly\"</td>\n",
       "      <td>female</td>\n",
       "      <td>NaN</td>\n",
       "      <td>8</td>\n",
       "      <td>2</td>\n",
       "      <td>CA. 2343</td>\n",
       "      <td>69.55</td>\n",
       "      <td>NaN</td>\n",
       "      <td>S</td>\n",
       "    </tr>\n",
       "  </tbody>\n",
       "</table>\n",
       "</div>"
      ],
      "text/plain": [
       "     PassengerId  Survived  Pclass                               Name     Sex  \\\n",
       "159          160         0       3         Sage, Master. Thomas Henry    male   \n",
       "180          181         0       3       Sage, Miss. Constance Gladys  female   \n",
       "201          202         0       3                Sage, Mr. Frederick    male   \n",
       "324          325         0       3           Sage, Mr. George John Jr    male   \n",
       "792          793         0       3            Sage, Miss. Stella Anna  female   \n",
       "846          847         0       3           Sage, Mr. Douglas Bullen    male   \n",
       "863          864         0       3  Sage, Miss. Dorothy Edith \"Dolly\"  female   \n",
       "\n",
       "     Age  SibSp  Parch    Ticket   Fare Cabin Embarked  \n",
       "159  NaN      8      2  CA. 2343  69.55   NaN        S  \n",
       "180  NaN      8      2  CA. 2343  69.55   NaN        S  \n",
       "201  NaN      8      2  CA. 2343  69.55   NaN        S  \n",
       "324  NaN      8      2  CA. 2343  69.55   NaN        S  \n",
       "792  NaN      8      2  CA. 2343  69.55   NaN        S  \n",
       "846  NaN      8      2  CA. 2343  69.55   NaN        S  \n",
       "863  NaN      8      2  CA. 2343  69.55   NaN        S  "
      ]
     },
     "execution_count": 119,
     "metadata": {},
     "output_type": "execute_result"
    }
   ],
   "source": [
    "train = pd.read_csv('../train.csv')\n",
    "missing_age = train[train['Age'].isna()]\n",
    "missing_age.loc[missing_age['SibSp']==8]"
   ]
  },
  {
   "cell_type": "markdown",
   "id": "121e3d98",
   "metadata": {},
   "source": [
    "Since there were so few values, I decided to see if I could do enough historical research to hand impute these values. Indeed, I was able to find the birth years of all of the passengers, due to the fact that this historical event has a lot of research and archived materials. I was able to find: Stella (born 1891), George John (born 1892), Douglas Bullen (born 1894), Frederick (born 1895), Dorothy Florence (born 1897), Anthony William (born 1899), Elizabeth Ada (born 1901), Constance Gladys (born 1904), and Thomas Henry (born 1911). [1] With the fact that the Titanic sank in 1912, I was able to figure out their ages! "
   ]
  },
  {
   "cell_type": "markdown",
   "id": "fbb11c9b",
   "metadata": {},
   "source": [
    "## Exploratory data analysis"
   ]
  },
  {
   "cell_type": "code",
   "execution_count": 122,
   "id": "7958e77a",
   "metadata": {},
   "outputs": [
    {
     "data": {
      "text/plain": [
       "<AxesSubplot:xlabel='Survived', ylabel='count'>"
      ]
     },
     "execution_count": 122,
     "metadata": {},
     "output_type": "execute_result"
    },
    {
     "data": {
      "image/png": "[encoded data removed]",
      "text/plain": [
       "<Figure size 504x288 with 1 Axes>"
      ]
     },
     "metadata": {},
     "output_type": "display_data"
    }
   ],
   "source": [
    "sns.countplot(x='Survived',data=train,hue='Sex')"
   ]
  },
  {
   "cell_type": "markdown",
   "id": "11d79d0c",
   "metadata": {},
   "source": [
    "From this, we find that the majority of people who died are men, and the majority of people who survived are female"
   ]
  },
  {
   "cell_type": "code",
   "execution_count": 124,
   "id": "df22d275",
   "metadata": {},
   "outputs": [
    {
     "data": {
      "text/plain": [
       "<AxesSubplot:xlabel='Survived', ylabel='count'>"
      ]
     },
     "execution_count": 124,
     "metadata": {},
     "output_type": "execute_result"
    },
    {
     "data": {
      "image/png": "[encoded data removed]",
      "text/plain": [
       "<Figure size 504x288 with 1 Axes>"
      ]
     },
     "metadata": {},
     "output_type": "display_data"
    }
   ],
   "source": [
    "sns.countplot(x='Survived',data=train,hue='Pclass')"
   ]
  },
  {
   "cell_type": "markdown",
   "id": "ea5005a8",
   "metadata": {},
   "source": [
    "From this, we see that the majority of people who died was in the third class, but those who survived seem pretty evenly split between all classes"
   ]
  },
  {
   "cell_type": "code",
   "execution_count": 125,
   "id": "a64a9fa1",
   "metadata": {},
   "outputs": [
    {
     "data": {
      "text/plain": [
       "<AxesSubplot:xlabel='SibSp', ylabel='Survived'>"
      ]
     },
     "execution_count": 125,
     "metadata": {},
     "output_type": "execute_result"
    },
    {
     "data": {
      "image/png": "[encoded data removed]",
      "text/plain": [
       "<Figure size 504x288 with 1 Axes>"
      ]
     },
     "metadata": {},
     "output_type": "display_data"
    }
   ],
   "source": [
    "sns.barplot(x='SibSp',y='Survived',data=train)"
   ]
  },
  {
   "cell_type": "markdown",
   "id": "af123413",
   "metadata": {},
   "source": [
    "From this, we find that smaller families are more likely to survive than larger families"
   ]
  },
  {
   "cell_type": "code",
   "execution_count": 128,
   "id": "672ab270",
   "metadata": {},
   "outputs": [
    {
     "data": {
      "text/plain": [
       "<AxesSubplot:xlabel='Embarked', ylabel='Survived'>"
      ]
     },
     "execution_count": 128,
     "metadata": {},
     "output_type": "execute_result"
    },
    {
     "data": {
      "image/png": "[encoded data removed]",
      "text/plain": [
       "<Figure size 504x288 with 1 Axes>"
      ]
     },
     "metadata": {},
     "output_type": "display_data"
    }
   ],
   "source": [
    "sns.barplot(x='Embarked',y='Survived',data=train)"
   ]
  },
  {
   "cell_type": "markdown",
   "id": "174b413a",
   "metadata": {},
   "source": [
    "From this, we find that there is some variation on survival rate based on which city they embarked on, which may be due to a correlation with class."
   ]
  },
  {
   "cell_type": "code",
   "execution_count": 131,
   "id": "daa74a89",
   "metadata": {},
   "outputs": [
    {
     "data": {
      "text/html": [
       "<div>\n",
       "<style scoped>\n",
       "    .dataframe tbody tr th:only-of-type {\n",
       "        vertical-align: middle;\n",
       "    }\n",
       "\n",
       "    .dataframe tbody tr th {\n",
       "        vertical-align: top;\n",
       "    }\n",
       "\n",
       "    .dataframe thead th {\n",
       "        text-align: right;\n",
       "    }\n",
       "</style>\n",
       "<table border=\"1\" class=\"dataframe\">\n",
       "  <thead>\n",
       "    <tr style=\"text-align: right;\">\n",
       "      <th></th>\n",
       "      <th>age_binned</th>\n",
       "      <th>survival_percent</th>\n",
       "      <th>nobs</th>\n",
       "    </tr>\n",
       "  </thead>\n",
       "  <tbody>\n",
       "    <tr>\n",
       "      <th>0</th>\n",
       "      <td>(0.34, 10.368]</td>\n",
       "      <td>0.593750</td>\n",
       "      <td>64</td>\n",
       "    </tr>\n",
       "    <tr>\n",
       "      <th>1</th>\n",
       "      <td>(10.368, 20.315]</td>\n",
       "      <td>0.382609</td>\n",
       "      <td>115</td>\n",
       "    </tr>\n",
       "    <tr>\n",
       "      <th>2</th>\n",
       "      <td>(20.315, 30.263]</td>\n",
       "      <td>0.365217</td>\n",
       "      <td>230</td>\n",
       "    </tr>\n",
       "    <tr>\n",
       "      <th>3</th>\n",
       "      <td>(30.263, 40.21]</td>\n",
       "      <td>0.445161</td>\n",
       "      <td>155</td>\n",
       "    </tr>\n",
       "    <tr>\n",
       "      <th>4</th>\n",
       "      <td>(40.21, 50.158]</td>\n",
       "      <td>0.383721</td>\n",
       "      <td>86</td>\n",
       "    </tr>\n",
       "    <tr>\n",
       "      <th>5</th>\n",
       "      <td>(50.158, 60.105]</td>\n",
       "      <td>0.404762</td>\n",
       "      <td>42</td>\n",
       "    </tr>\n",
       "    <tr>\n",
       "      <th>6</th>\n",
       "      <td>(60.105, 70.052]</td>\n",
       "      <td>0.235294</td>\n",
       "      <td>17</td>\n",
       "    </tr>\n",
       "    <tr>\n",
       "      <th>7</th>\n",
       "      <td>(70.052, 80.0]</td>\n",
       "      <td>0.200000</td>\n",
       "      <td>5</td>\n",
       "    </tr>\n",
       "  </tbody>\n",
       "</table>\n",
       "</div>"
      ],
      "text/plain": [
       "         age_binned  survival_percent  nobs\n",
       "0    (0.34, 10.368]          0.593750    64\n",
       "1  (10.368, 20.315]          0.382609   115\n",
       "2  (20.315, 30.263]          0.365217   230\n",
       "3   (30.263, 40.21]          0.445161   155\n",
       "4   (40.21, 50.158]          0.383721    86\n",
       "5  (50.158, 60.105]          0.404762    42\n",
       "6  (60.105, 70.052]          0.235294    17\n",
       "7    (70.052, 80.0]          0.200000     5"
      ]
     },
     "execution_count": 131,
     "metadata": {},
     "output_type": "execute_result"
    }
   ],
   "source": [
    "#Binning Age\n",
    "binned_age = pd.cut(train['Age'],8,retbins=True)\n",
    "train['age_binned'] = binned_age[0]\n",
    "age_data = train.groupby('age_binned')['Survived'].agg([('survival_percent','mean'),('nobs','count')]).reset_index(drop=False)\n",
    "age_data"
   ]
  },
  {
   "cell_type": "code",
   "execution_count": 132,
   "id": "7642e187",
   "metadata": {},
   "outputs": [
    {
     "data": {
      "text/plain": [
       "Text(0.5, 0, 'Age_bin')"
      ]
     },
     "execution_count": 132,
     "metadata": {},
     "output_type": "execute_result"
    },
    {
     "data": {
      "image/png": "[encoded data removed]",
      "text/plain": [
       "<Figure size 504x288 with 1 Axes>"
      ]
     },
     "metadata": {},
     "output_type": "display_data"
    }
   ],
   "source": [
    "#Visualizing percentage of people having diabetes with increasing Age (or Age bins)\n",
    "sns.lineplot(x = age_data.index, y= age_data['survival_percent'])\n",
    "plt.xlabel('Age_bin')"
   ]
  },
  {
   "cell_type": "markdown",
   "id": "fd96d1be",
   "metadata": {},
   "source": [
    "From here, we find that the older the passenger, the less likely they were able to survive."
   ]
  },
  {
   "cell_type": "markdown",
   "id": "d39c782c",
   "metadata": {},
   "source": [
    "## Approach\n",
    "\n",
    "What kind of a model (linear / logistic / other) did you use? What performance metric(s) did you optimize and why?\n",
    "\n",
    "Is there anything unorthodox / new in your approach? \n",
    "\n",
    "What problems did you anticipate? What problems did you encounter? Did the very first model you tried work? \n",
    "\n",
    "Did your problem already have solution(s) (posted on Kaggle or elsewhere). If yes, then how did you build upon those solutions, what did you do differently? Is your model better as compared to those solutions in terms of prediction / inference?\n",
    "\n",
    "**Important: Mention any code repositories (with citations) or other sources that you used, and specifically what changes you made to them for your project.**"
   ]
  },
  {
   "cell_type": "markdown",
   "id": "b79db9fa",
   "metadata": {},
   "source": [
    "We chose to use a logistic model, as we were performing a classification task. As we developed this model, we chose to optimize overall accuracy, as the purpose of this analysis is to gain insight into the factors that lead to survival or death in these circumstances. If this were a more modern or common distaster it may be useful to use this information to inform modern ships about survival risks, but due to the unique circumstances and era we simply seek to understand the factors contributing to survival for this specific situation, leading to the pursuit of overalll accuracy. It is important to note that we also sought to balance the precision and recall for both factors, as we had a relatively high proportion of the data belonging to a single category (65% fatality rate)"
   ]
  },
  {
   "cell_type": "markdown",
   "id": "9a589d18",
   "metadata": {},
   "source": [
    "After data cleaning and imputation, early modeling efforts focused on first identifying factors that, on their own, were significant predictors of survival. Here we first encountered a problem then would endure throughout our analysis: a significant quantity of cateorical data, for which it was difficult to isolate the impact and compare to numerical data. To get a better general understanding of our variables and identify what could ask as the bases of our model we first made single variable logistic regression for each of our variables, as shown below. "
   ]
  },
  {
   "cell_type": "code",
   "execution_count": 5,
   "id": "9d19e186",
   "metadata": {},
   "outputs": [
    {
     "data": {
      "image/png": "[encoded data removed]",
      "text/plain": [
       "<IPython.core.display.Image object>"
      ]
     },
     "execution_count": 5,
     "metadata": {},
     "output_type": "execute_result"
    }
   ],
   "source": [
    "from IPython.display import Image\n",
    "Image(filename='preliminary.png') "
   ]
  },
  {
   "cell_type": "markdown",
   "id": "1348722c",
   "metadata": {},
   "source": [
    "As shown below, there are several factors that appear to have a significant correlation with survival rate, with sex being the most powerful. Sex as a solo variable cound be considered our first model and although it does have a high correlation, there are many other effects clearly at play - both SibSp and Parch, measures of family size, have significant (and opposite) efects. Fare and class, both a measure of the socioeconomic standing of the passenger, have higher survival at high fare/high class. The age variable shows higher survival at lower age, but the binned age variable shows that this is inconsistant among age groups, and primarily applies to the young. The next step was to integrate multiple variables together. The plot below shows all possible combination of variables (with no interaction), by their pseudo r-squared, the first metric we considered."
   ]
  },
  {
   "cell_type": "code",
   "execution_count": 6,
   "id": "86e57f32",
   "metadata": {},
   "outputs": [
    {
     "data": {
      "image/png": "[encoded data removed]",
      "text/plain": [
       "<IPython.core.display.Image object>"
      ]
     },
     "execution_count": 6,
     "metadata": {},
     "output_type": "execute_result"
    }
   ],
   "source": [
    "Image(filename='rsquared_all_models.png') "
   ]
  },
  {
   "cell_type": "markdown",
   "id": "24cf855f",
   "metadata": {},
   "source": [
    "This process re-emphasized the imapact of sex as a predictor, with all models in the top group (pseudo rsquared > 0.2) including sex as a predictor, and all below lacking. Here we can see that there were diminishing returns of best model rsquared after 4 predictors were included. Further analysis while developing the model will use metrics such as RSS to focus in on the best model in this range. "
   ]
  },
  {
   "cell_type": "markdown",
   "id": "2a0104a9",
   "metadata": {},
   "source": [
    "Overall, we beleive we took a relatively standard approach to this problem, drawing form the work we did throughout or course material, this being the only major source of code. We adapted out work down with linear regression variable selection to perform this variable selection for classification, making changes when needed, keeping it in a format that was accessible to continued evauation of models. This is an active kaggle prediction problem, and the posted code generally was very preliminary analysis that had scores falling short of the results of our analysis, thus we did not draw from this as a source. Although there were entries in the competitions with scores as high as 1, their code was not avaialable and thus we were not able to learn what approaches had been used to reach new thresholds of accuracy. "
   ]
  },
  {
   "cell_type": "markdown",
   "id": "acab331a",
   "metadata": {},
   "source": [
    "## Developing the model"
   ]
  },
  {
   "cell_type": "markdown",
   "id": "ae5ec4c9",
   "metadata": {},
   "source": [
    "Explain the steps taken to develop and improve the base model - informative visualizations / addressing modeling assumption violations / variable transformation / interactions / outlier treatment / influential points treatment / addressing over-fitting / addressing multicollinearity / variable selection - stepwise regression, lasso, ridge regression). \n",
    "\n",
    "Did you succeed in achieving your goal, or did you fail? Why?\n",
    "\n",
    "**Put the final model equation**.\n",
    "\n",
    "**Important: This section should be rigorous and thorough. Present detailed information about decision you made, why you made them, and any evidence/experimentation to back them up.**"
   ]
  },
  {
   "cell_type": "markdown",
   "id": "cd69bbf9",
   "metadata": {},
   "source": [
    "Our first approach was to develop a basic model with variables found to have a relationship with the target variable based on the EDA and data processsing. This model included the following predictors: Pclass + Sex + Age + SibSp + Parch + Fare + Embarked + age_binned. From the model summary, it appeared that many of the predictors were insignificant despite the model's LLR-pvalue being indicating model significance. \n",
    "\n",
    "Before moving on to improving the model, we used Sklearn train_test_split to test the classification accuracy of the data as a reference point for future models. The resulting classification accuracy was 0.7910.\n",
    "\n",
    "The first steps we took to improve the model was to run best subset exhaustive feature selection on our data. **TALK ABOUT THIS HERE**. We discovered that these 6 predictors are the most significant predictors: Pclass, Age, SibSp, Parch, Embarked, Sex and the resulting classification accuracy was 0.7985.\n",
    "\n",
    "This feature selection increased the model accuracy and gave us a smaller subset of predictors to further observe. Next, we decided to perform variable transformations on this subset of predictors to futher maximize the classification accuracy.\n",
    "\n",
    "We included three variable transformations in our model. The first transformation was between the variables SibSp and Parch. Both of these variables describe family relationships and both count members of family members. Since they measure very similar things which also rely on each other, creating an interaction term made sense and seemed to improve the classification accuracy of our model.\n",
    "\n",
    "The second variable transformation we included in our model was between class and point of embarkation. This transformation was included based on the distribution of class and embarkation observed in the following countplot. **INCLUDE COUNTPLOT HERE** \n",
    "\n",
    "The final variable transformation we included in our model was between class and age. We suspected that age and class may have a significant relationship because we anticipated that older individuals may have more wealth than younger individuals. To further back up this intution, we observed the correlations between these two variables, which was roughly 0.45. After including this transformation, we saw a further increase in the classification accuracy. \n",
    "\n",
    "We succeeded in achieving our goal because the classification accuracy increased. **ADD MORE STUFF HERE**\n",
    "\n",
    "\n",
    "**MIGHT NEED TO ADD SOME CODE HERE?**\n"
   ]
  },
  {
   "cell_type": "markdown",
   "id": "c4f7590c",
   "metadata": {},
   "source": [
    "**INCLUDE FINAL MODEL EQN**\n",
    "The final model equation: "
   ]
  },
  {
   "cell_type": "markdown",
   "id": "1b46343d",
   "metadata": {},
   "source": [
    "## Limitations of the model with regard to inference / prediction"
   ]
  },
  {
   "cell_type": "markdown",
   "id": "c85ead90",
   "metadata": {},
   "source": [
    "If it is inference, will the inference hold for a certain period of time, for a certain subset of population, and / or for certain conditions.\n",
    "\n",
    "If it is prediction, then will it be possible / convenient / expensive for the stakeholders to collect the data relating to the predictors in the model. Using your model, how soon will the stakeholder be able to predict the outcome before the outcome occurs. For example, if the model predicts the number of bikes people will rent in Evanston on a certain day, then how many days before that day will your model be able to make the prediction. This will depend on how soon the data that your model uses becomes available. If you are predicting election results, how many days / weeks / months / years before the election can you predict the results. \n",
    "\n",
    "When will your model become too obsolete to be useful?"
   ]
  },
  {
   "cell_type": "markdown",
   "id": "49901679",
   "metadata": {},
   "source": [
    "As we are looking at a historical event for this inference task, this inference can only be expected to hold in that particular era, with the particular combination of high and low class citizens that was found aboard the RMS titanic. Upon completing analysis, however, it becomes clear that the cultural differences between now and then are likely not extreme; although the world has changed significantly in the 111 years since the sinking of the titanic, many cultural values remian. We would stil expect women and children to be prioritized in a survival situation, with those values still ingrained in our culture. It is likely that class would play a role, although hopefully our society has developed enough to have better equity in this regard. \n",
    "\n",
    "Although our inference is specialized to this unique place and time, the cultural insights are applicable even now, and it would be fascinating to find similar data for modern day disasters and determine how many of these values remain. As long as these western values (women and children, class) persist our inference still has some connection to the modern day, and I do not think it can be considered obsolete. "
   ]
  },
  {
   "cell_type": "markdown",
   "id": "f6026cb7",
   "metadata": {},
   "source": [
    "## Other sections *(optional)*\n",
    "\n",
    "You are welcome to introduce additional sections or subsections, if required, to address any specific aspects of your project in detail. For example, you may briefly discuss potential future work that the research community could focus on to make further progress in the direction of your project's topic."
   ]
  },
  {
   "cell_type": "markdown",
   "id": "62a185cb",
   "metadata": {},
   "source": [
    "## Conclusions and Recommendations to stakeholder(s)\n",
    "\n",
    "What conclusions do you draw based on your model? If it is inference you may draw conclusions based on the coefficients, statistical significance of predictors / interactions, etc. If it is prediction, you may draw conclusions based on prediction accuracy, or other performance metrics.\n",
    "\n",
    "How do you use those conclusions to come up with meaningful recommendations for stakeholders? The recommendations must be action-items for stakeholders that they can directly implement without any further analysis. Be as precise as possible. The stakeholder(s) are depending on you to come up with practically implementable recommendations, instead of having to think for themselves.\n",
    "\n",
    "If your recommendations are not practically implementable by stakeholders, how will they help them? Is there some additional data / analysis / domain expertise you need to do to make the recommendations implementable? \n",
    "\n",
    "Do the stakeholder(s) need to be aware about some limitations of your model? Is your model only good for one-time use, or is it possible to update your model at a certain frequency (based on recent data) to keep using it in the future? If it can be used in the future, then for how far into the future?"
   ]
  },
  {
   "cell_type": "markdown",
   "id": "9a669dee",
   "metadata": {},
   "source": [
    "As we are analyzing a historical event, we do not have any recommendations to present as there are no stakeholders that would significantly benefit from our insights. \n",
    "\n",
    "In terms of conclusions, out optimized logistic model summary shows the factors that were the most impactful. The first thing that stands out, as it did throughout our analysis, was the impact of sex on survival. The coefficient for male was -2.7381, with a p-value rounding to ~0. This shows the that the stereotypical prioritization of women in survival situtations is historically accurate, with female survival rate being significantly higher. The second thing, that once again was in line with our expectations, was the dependance on class. The intercept coefficent, corresponding to class 1 passengers, has coefficent of 4.0693 with a p-value ~0 showing that the upper class passengers where able to survive at a significantly higher rate, especially compared to 3rd class (ceof = -1.9166, pval = 0.009). Interestingly the second class coefficient was not singificant, highlighting the gap between the highest and lowest class.\n",
    "\n",
    "Another aspect that we expected to be significant was Age, to emphasize the expression 'women and children first' that was frequently stated in the movie, and is stereotypical of emergency situations even today. We were able to find a significant decrease in survival with Age (pval = 0.008), but the coefficient was just -0.0349, a lower impact than expected. Bucketing age did not appear useful, although in early analysis showed that this trend (lower survival with age) is not consistent across age groups. Another factor that may give insight into this area is the factors SubSp, and Parch, which show the number of siblings aboard and number of parents and children. The former was shown to have a moderate impact of -0.3319, with a pvalue 0.004. This indicates that larger families (children on board with more siblings) had more difficulty surviving, potentiall skewing the age to have less impact than expected. \n",
    "\n",
    "Other factors lead to improved modeling outcomes, but did not carry significant in the model, making their impact less intuitive to understand. In general our analysis found that the stereotypical prioritization of women and children appears to exist, but gender seems to be a much larger predictor than age. Class was shown to be second only to gender, showing how even in crisis, those with higher class are able to secure better outcomes. These factors give insight into human nature, and confirm many aspects of people are traditional thought to react in emergencies. \n",
    "\n",
    "Overall, our model stil has shortcomings, with a recall of just 0.68, showing the difficulty in correctly identifying survived passengers when a clear majority did not survie, and in an emergency situation things are inherently unpredictable, to a degree. If this model were to be improved further, the focus would be on the precisions and recall for the survival values, as those are the minority. "
   ]
  },
  {
   "cell_type": "markdown",
   "id": "9c44497c",
   "metadata": {},
   "source": [
    "## GitHub and individual contribution {-}"
   ]
  },
  {
   "cell_type": "markdown",
   "id": "557fd409",
   "metadata": {},
   "source": [
    "Github link: https://github.com/davenator-git/Data_Science_303-2_Venator/tree/main"
   ]
  },
  {
   "cell_type": "markdown",
   "id": "5505da5c",
   "metadata": {},
   "source": [
    "<html>\n",
    "<style>\n",
    "table, td, th {\n",
    "  border: 1px solid black;\n",
    "}\n",
    "\n",
    "table {\n",
    "  border-collapse: collapse;\n",
    "  width: 100%;\n",
    "}\n",
    "\n",
    "th {\n",
    "  text-align: left;\n",
    "}\n",
    "    \n",
    "\n",
    "</style>\n",
    "<body>\n",
    "\n",
    "<h2>Individual contribution</h2>\n",
    "\n",
    "<table style=\"width:100%\">\n",
    "     <colgroup>\n",
    "       <col span=\"1\" style=\"width: 15%;\">\n",
    "       <col span=\"1\" style=\"width: 20%;\">\n",
    "       <col span=\"1\" style=\"width: 50%;\">\n",
    "       <col span=\"1\" style=\"width: 15%;\"> \n",
    "    </colgroup>\n",
    "  <tr>\n",
    "    <th>Team member</th>\n",
    "    <th>Contributed aspects</th>\n",
    "    <th>Details</th>\n",
    "    <th>Number of GitHub commits</th>\n",
    "  </tr>\n",
    "  <tr>\n",
    "    <td>Jazmyn Lu</td>\n",
    "    <td>Data cleaning and EDA</td>\n",
    "    <td>Cleaned data to impute missing values and developed visualizations to identify appropriate variable transformations.</td>\n",
    "    <td>###</td>\n",
    "  </tr>\n",
    "  <tr>\n",
    "    <td>David Venator</td>\n",
    "    <td>Variable Selection </td>\n",
    "    <td>describe what you did here davenator</td>\n",
    "    <td>###</td>\n",
    "  </tr>\n",
    "    <tr>\n",
    "    <td>Hiba Khatib and Emily Leibfritz</td>\n",
    "    <td>Exhaustive Variable Selection, minimal data cleaning, fitting models, performance measurement</td>\n",
    "    <td>describe stuff here</td>\n",
    "    <td>###</td>    \n",
    "  </tr>\n",
    "</table>"
   ]
  },
  {
   "cell_type": "markdown",
   "id": "192bbd23",
   "metadata": {},
   "source": [
    "List the **challenges** you faced when collaborating with the team on GitHub. Are you comfortable using GitHub? \n",
    "Do you feel GitHuB made collaboration easier? If not, then why? *(Individual team members can put their opinion separately, if different from the rest of the team)*"
   ]
  },
  {
   "cell_type": "markdown",
   "id": "823fce2c",
   "metadata": {},
   "source": [
    "David: It can challenging when working on related things - when people are working on the same thing it may lead to git conflicts and it is difficult to to determine what to keep. "
   ]
  },
  {
   "cell_type": "markdown",
   "id": "00b1cafe",
   "metadata": {},
   "source": [
    "## References {-}"
   ]
  },
  {
   "cell_type": "markdown",
   "id": "ebdb1aad",
   "metadata": {},
   "source": [
    "[1] The National Archives, “Stories from the Titanic - Safe Family,” 01-Mar-2012. [Online]. Available: https://www.nationalarchives.gov.uk/titanic/stories/sage-family.htm. [Accessed: 3-Mar-2023]. "
   ]
  },
  {
   "cell_type": "markdown",
   "id": "5831751c",
   "metadata": {},
   "source": [
    "## Appendix {-}"
   ]
  },
  {
   "cell_type": "markdown",
   "id": "d13d374d",
   "metadata": {},
   "source": [
    "You may put additional stuff here as Appendix. You may refer to the Appendix in the main report to support your arguments. However, the appendix section is unlikely to be checked while grading, unless the grader deems it necessary."
   ]
  }
 ],
 "metadata": {
  "kernelspec": {
   "display_name": "Python 3 (ipykernel)",
   "language": "python",
   "name": "python3"
  },
  "language_info": {
   "codemirror_mode": {
    "name": "ipython",
    "version": 3
   },
   "file_extension": ".py",
   "mimetype": "text/x-python",
   "name": "python",
   "nbconvert_exporter": "python",
   "pygments_lexer": "ipython3",
   "version": "3.9.7"
  }
 },
 "nbformat": 4,
 "nbformat_minor": 5
}
