{
 "cells": [
  {
   "cell_type": "raw",
   "id": "33dd6c4c",
   "metadata": {},
   "source": [
    "---\n",
    "title: \"Project Code\"\n",
    "subtitle: JHED\n",
    "author: Hiba Khatib, Emily Leibfritz, David Venator, Jazmyn Lu\n",
    "date: 03/13/2023\n",
    "number-sections: true\n",
    "abstract: _This file contains the code for the project on the Titanic, as part of the STAT303-2 course in Winter 2023_.\n",
    "format: \n",
    "  html:\n",
    "    toc: true\n",
    "    toc-title: Contents\n",
    "    self-contained: true\n",
    "    font-size: 100%\n",
    "    toc-depth: 4\n",
    "    mainfont: serif\n",
    "jupyter: python3\n",
    "---"
   ]
  },
  {
   "cell_type": "markdown",
   "id": "3b4c4d20",
   "metadata": {},
   "source": [
    "# Many redundant libraries are loaded, some have different names so need to agree on one and update uses throughout the code"
   ]
  },
  {
   "cell_type": "code",
   "execution_count": 2,
   "id": "5b586771",
   "metadata": {},
   "outputs": [],
   "source": [
    "#importing all necessary libraries \n",
    "import pandas as pd\n",
    "import numpy as np\n",
    "import seaborn as sns\n",
    "import matplotlib.pyplot as plt\n",
    "import statsmodels.api as sm\n",
    "import statsmodels.formula.api as smf\n",
    "import pandas as pd\n",
    "import numpy as np\n",
    "import statsmodels.formula.api as sm\n",
    "import seaborn as sns\n",
    "import matplotlib.pyplot as plt\n",
    "import itertools\n",
    "import time\n",
    "from statsmodels.stats.outliers_influence import variance_inflation_factor\n",
    "from statsmodels.tools.tools import add_constant\n",
    "from sklearn.model_selection import train_test_split\n",
    "from sklearn.linear_model import LogisticRegression\n",
    "from sklearn.metrics import ConfusionMatrixDisplay, classification_report\n",
    "from sklearn import linear_model\n",
    "from sklearn.metrics import mean_squared_error\n",
    "from tqdm import tnrange, tqdm_notebook\n",
    "from sklearn.metrics import (confusion_matrix, \n",
    "                           accuracy_score)\n",
    "import matplotlib.pyplot as plt\n",
    "from sklearn.datasets import make_classification\n",
    "from sklearn.metrics import confusion_matrix, ConfusionMatrixDisplay\n",
    "from sklearn.model_selection import train_test_split\n",
    "from sklearn.svm import SVC\n",
    "from sklearn import datasets, metrics, model_selection, svm\n",
    "from sklearn.metrics import precision_recall_curve"
   ]
  },
  {
   "cell_type": "markdown",
   "id": "fe7ea9bb",
   "metadata": {},
   "source": [
    "## Data quality check / cleaning / preparation "
   ]
  },
  {
   "cell_type": "markdown",
   "id": "db149d8b",
   "metadata": {},
   "source": [
    "### Data quality check\n",
    "*By Jazmyn Lu*"
   ]
  },
  {
   "cell_type": "code",
   "execution_count": 3,
   "id": "5955618d",
   "metadata": {},
   "outputs": [
    {
     "data": {
      "text/html": [
       "<div>\n",
       "<style scoped>\n",
       "    .dataframe tbody tr th:only-of-type {\n",
       "        vertical-align: middle;\n",
       "    }\n",
       "\n",
       "    .dataframe tbody tr th {\n",
       "        vertical-align: top;\n",
       "    }\n",
       "\n",
       "    .dataframe thead th {\n",
       "        text-align: right;\n",
       "    }\n",
       "</style>\n",
       "<table border=\"1\" class=\"dataframe\">\n",
       "  <thead>\n",
       "    <tr style=\"text-align: right;\">\n",
       "      <th></th>\n",
       "      <th>PassengerId</th>\n",
       "      <th>Survived</th>\n",
       "      <th>Pclass</th>\n",
       "      <th>Name</th>\n",
       "      <th>Sex</th>\n",
       "      <th>Age</th>\n",
       "      <th>SibSp</th>\n",
       "      <th>Parch</th>\n",
       "      <th>Ticket</th>\n",
       "      <th>Fare</th>\n",
       "      <th>Cabin</th>\n",
       "      <th>Embarked</th>\n",
       "    </tr>\n",
       "  </thead>\n",
       "  <tbody>\n",
       "    <tr>\n",
       "      <th>0</th>\n",
       "      <td>1</td>\n",
       "      <td>0</td>\n",
       "      <td>3</td>\n",
       "      <td>Braund, Mr. Owen Harris</td>\n",
       "      <td>male</td>\n",
       "      <td>22.0</td>\n",
       "      <td>1</td>\n",
       "      <td>0</td>\n",
       "      <td>A/5 21171</td>\n",
       "      <td>7.2500</td>\n",
       "      <td>NaN</td>\n",
       "      <td>S</td>\n",
       "    </tr>\n",
       "    <tr>\n",
       "      <th>1</th>\n",
       "      <td>2</td>\n",
       "      <td>1</td>\n",
       "      <td>1</td>\n",
       "      <td>Cumings, Mrs. John Bradley (Florence Briggs Th...</td>\n",
       "      <td>female</td>\n",
       "      <td>38.0</td>\n",
       "      <td>1</td>\n",
       "      <td>0</td>\n",
       "      <td>PC 17599</td>\n",
       "      <td>71.2833</td>\n",
       "      <td>C85</td>\n",
       "      <td>C</td>\n",
       "    </tr>\n",
       "    <tr>\n",
       "      <th>2</th>\n",
       "      <td>3</td>\n",
       "      <td>1</td>\n",
       "      <td>3</td>\n",
       "      <td>Heikkinen, Miss. Laina</td>\n",
       "      <td>female</td>\n",
       "      <td>26.0</td>\n",
       "      <td>0</td>\n",
       "      <td>0</td>\n",
       "      <td>STON/O2. 3101282</td>\n",
       "      <td>7.9250</td>\n",
       "      <td>NaN</td>\n",
       "      <td>S</td>\n",
       "    </tr>\n",
       "    <tr>\n",
       "      <th>3</th>\n",
       "      <td>4</td>\n",
       "      <td>1</td>\n",
       "      <td>1</td>\n",
       "      <td>Futrelle, Mrs. Jacques Heath (Lily May Peel)</td>\n",
       "      <td>female</td>\n",
       "      <td>35.0</td>\n",
       "      <td>1</td>\n",
       "      <td>0</td>\n",
       "      <td>113803</td>\n",
       "      <td>53.1000</td>\n",
       "      <td>C123</td>\n",
       "      <td>S</td>\n",
       "    </tr>\n",
       "    <tr>\n",
       "      <th>4</th>\n",
       "      <td>5</td>\n",
       "      <td>0</td>\n",
       "      <td>3</td>\n",
       "      <td>Allen, Mr. William Henry</td>\n",
       "      <td>male</td>\n",
       "      <td>35.0</td>\n",
       "      <td>0</td>\n",
       "      <td>0</td>\n",
       "      <td>373450</td>\n",
       "      <td>8.0500</td>\n",
       "      <td>NaN</td>\n",
       "      <td>S</td>\n",
       "    </tr>\n",
       "  </tbody>\n",
       "</table>\n",
       "</div>"
      ],
      "text/plain": [
       "   PassengerId  Survived  Pclass  \\\n",
       "0            1         0       3   \n",
       "1            2         1       1   \n",
       "2            3         1       3   \n",
       "3            4         1       1   \n",
       "4            5         0       3   \n",
       "\n",
       "                                                Name     Sex   Age  SibSp  \\\n",
       "0                            Braund, Mr. Owen Harris    male  22.0      1   \n",
       "1  Cumings, Mrs. John Bradley (Florence Briggs Th...  female  38.0      1   \n",
       "2                             Heikkinen, Miss. Laina  female  26.0      0   \n",
       "3       Futrelle, Mrs. Jacques Heath (Lily May Peel)  female  35.0      1   \n",
       "4                           Allen, Mr. William Henry    male  35.0      0   \n",
       "\n",
       "   Parch            Ticket     Fare Cabin Embarked  \n",
       "0      0         A/5 21171   7.2500   NaN        S  \n",
       "1      0          PC 17599  71.2833   C85        C  \n",
       "2      0  STON/O2. 3101282   7.9250   NaN        S  \n",
       "3      0            113803  53.1000  C123        S  \n",
       "4      0            373450   8.0500   NaN        S  "
      ]
     },
     "execution_count": 3,
     "metadata": {},
     "output_type": "execute_result"
    }
   ],
   "source": [
    "train = pd.read_csv('../train.csv') #taking a quick peek at the data!\n",
    "train.head()"
   ]
  },
  {
   "cell_type": "code",
   "execution_count": 4,
   "id": "ac1e01d0",
   "metadata": {},
   "outputs": [
    {
     "data": {
      "text/plain": [
       "PassengerId      0\n",
       "Survived         0\n",
       "Pclass           0\n",
       "Name             0\n",
       "Sex              0\n",
       "Age            177\n",
       "SibSp            0\n",
       "Parch            0\n",
       "Ticket           0\n",
       "Fare             0\n",
       "Cabin          687\n",
       "Embarked         2\n",
       "dtype: int64"
      ]
     },
     "execution_count": 4,
     "metadata": {},
     "output_type": "execute_result"
    }
   ],
   "source": [
    "train.isnull().sum() #there seems to be a lot of missing values of age and cabin"
   ]
  },
  {
   "cell_type": "code",
   "execution_count": 5,
   "id": "c5f333d2",
   "metadata": {},
   "outputs": [
    {
     "data": {
      "text/plain": [
       "(891, 12)"
      ]
     },
     "execution_count": 5,
     "metadata": {},
     "output_type": "execute_result"
    }
   ],
   "source": [
    "train.shape"
   ]
  },
  {
   "cell_type": "markdown",
   "id": "4dad2655",
   "metadata": {},
   "source": [
    "There are only 204 observations for \"Cabin\", and so it's probably not worth imputing those data points. Moreover, after some preliminary research, I found that Cabins are just divided by Pclass, a variable we already have, so even if we did include it in the model, they would be correlated variables. What may be informative, however, is imputing values of Age. Let's explore that:"
   ]
  },
  {
   "cell_type": "code",
   "execution_count": 6,
   "id": "09b9c55f",
   "metadata": {},
   "outputs": [
    {
     "data": {
      "image/png": "[encoded data removed]",
      "text/plain": [
       "<Figure size 1080x288 with 1 Axes>"
      ]
     },
     "metadata": {
      "needs_background": "light"
     },
     "output_type": "display_data"
    }
   ],
   "source": [
    "ax = sns.boxplot(x=\"SibSp\", y = 'Age',  data=train)\n",
    "ax.figure.set_figwidth(15)"
   ]
  },
  {
   "cell_type": "markdown",
   "id": "7f27cb90",
   "metadata": {},
   "source": [
    "Seems like there is a trend where increased number of siblings and spouses means smaller age"
   ]
  },
  {
   "cell_type": "code",
   "execution_count": 7,
   "id": "4d24dce7",
   "metadata": {},
   "outputs": [
    {
     "data": {
      "image/png": "[encoded data removed]",
      "text/plain": [
       "<Figure size 1080x288 with 1 Axes>"
      ]
     },
     "metadata": {
      "needs_background": "light"
     },
     "output_type": "display_data"
    }
   ],
   "source": [
    "ax = sns.boxplot(x=\"Parch\", y = 'Age',  data=train)\n",
    "ax.figure.set_figwidth(15)"
   ]
  },
  {
   "cell_type": "markdown",
   "id": "b7fe06f2",
   "metadata": {},
   "source": [
    "There also seems to be some correlation"
   ]
  },
  {
   "cell_type": "code",
   "execution_count": 8,
   "id": "a391b333",
   "metadata": {},
   "outputs": [
    {
     "data": {
      "image/png": "[encoded data removed]",
      "text/plain": [
       "<Figure size 1080x288 with 1 Axes>"
      ]
     },
     "metadata": {
      "needs_background": "light"
     },
     "output_type": "display_data"
    }
   ],
   "source": [
    "ax = sns.boxplot(x=\"Pclass\", y = 'Age',  data=train)\n",
    "ax.figure.set_figwidth(15)"
   ]
  },
  {
   "cell_type": "markdown",
   "id": "d03389b0",
   "metadata": {},
   "source": [
    "Higher class, older people"
   ]
  },
  {
   "cell_type": "code",
   "execution_count": 9,
   "id": "201f070b",
   "metadata": {},
   "outputs": [
    {
     "data": {
      "text/plain": [
       "Text(0.5, 1.0, 'Age vs Fare')"
      ]
     },
     "execution_count": 9,
     "metadata": {},
     "output_type": "execute_result"
    },
    {
     "data": {
      "image/png": "[encoded data removed]",
      "text/plain": [
       "<Figure size 432x288 with 1 Axes>"
      ]
     },
     "metadata": {
      "needs_background": "light"
     },
     "output_type": "display_data"
    }
   ],
   "source": [
    "sns.kdeplot(train['Fare'].values, y=train['Age'].values,color='blue',shade=True )\n",
    "plt.title(\"Age vs Fare\")"
   ]
  },
  {
   "cell_type": "markdown",
   "id": "752a2f8b",
   "metadata": {},
   "source": [
    "Some association between Fare and Age"
   ]
  },
  {
   "cell_type": "code",
   "execution_count": 10,
   "id": "be5f8fca",
   "metadata": {},
   "outputs": [],
   "source": [
    "#PClass, Parch, and SibSp variables are categorical, not numerical. Transform to strings so model treats it as categorical\n",
    "train['Pclass'] = train['Pclass'].apply(str)\n",
    "train['Parch'] = train['Parch'].apply(str)\n",
    "train['SibSp'] = train['SibSp'].apply(str)"
   ]
  },
  {
   "cell_type": "code",
   "execution_count": 11,
   "id": "31246555",
   "metadata": {},
   "outputs": [
    {
     "data": {
      "text/html": [
       "<table class=\"simpletable\">\n",
       "<caption>OLS Regression Results</caption>\n",
       "<tr>\n",
       "  <th>Dep. Variable:</th>           <td>Age</td>       <th>  R-squared:         </th> <td>   0.305</td>\n",
       "</tr>\n",
       "<tr>\n",
       "  <th>Model:</th>                   <td>OLS</td>       <th>  Adj. R-squared:    </th> <td>   0.291</td>\n",
       "</tr>\n",
       "<tr>\n",
       "  <th>Method:</th>             <td>Least Squares</td>  <th>  F-statistic:       </th> <td>   21.94</td>\n",
       "</tr>\n",
       "<tr>\n",
       "  <th>Date:</th>             <td>Sun, 12 Mar 2023</td> <th>  Prob (F-statistic):</th> <td>1.16e-46</td>\n",
       "</tr>\n",
       "<tr>\n",
       "  <th>Time:</th>                 <td>22:36:03</td>     <th>  Log-Likelihood:    </th> <td> -2793.2</td>\n",
       "</tr>\n",
       "<tr>\n",
       "  <th>No. Observations:</th>      <td>   714</td>      <th>  AIC:               </th> <td>   5616.</td>\n",
       "</tr>\n",
       "<tr>\n",
       "  <th>Df Residuals:</th>          <td>   699</td>      <th>  BIC:               </th> <td>   5685.</td>\n",
       "</tr>\n",
       "<tr>\n",
       "  <th>Df Model:</th>              <td>    14</td>      <th>                     </th>     <td> </td>   \n",
       "</tr>\n",
       "<tr>\n",
       "  <th>Covariance Type:</th>      <td>nonrobust</td>    <th>                     </th>     <td> </td>   \n",
       "</tr>\n",
       "</table>\n",
       "<table class=\"simpletable\">\n",
       "<tr>\n",
       "       <td></td>          <th>coef</th>     <th>std err</th>      <th>t</th>      <th>P>|t|</th>  <th>[0.025</th>    <th>0.975]</th>  \n",
       "</tr>\n",
       "<tr>\n",
       "  <th>Intercept</th>   <td>   43.1668</td> <td>    1.359</td> <td>   31.753</td> <td> 0.000</td> <td>   40.498</td> <td>   45.836</td>\n",
       "</tr>\n",
       "<tr>\n",
       "  <th>SibSp[T.1]</th>  <td>   -1.8618</td> <td>    1.142</td> <td>   -1.630</td> <td> 0.104</td> <td>   -4.104</td> <td>    0.380</td>\n",
       "</tr>\n",
       "<tr>\n",
       "  <th>SibSp[T.2]</th>  <td>   -5.7785</td> <td>    2.561</td> <td>   -2.256</td> <td> 0.024</td> <td>  -10.807</td> <td>   -0.750</td>\n",
       "</tr>\n",
       "<tr>\n",
       "  <th>SibSp[T.3]</th>  <td>   -8.3643</td> <td>    3.748</td> <td>   -2.231</td> <td> 0.026</td> <td>  -15.724</td> <td>   -1.005</td>\n",
       "</tr>\n",
       "<tr>\n",
       "  <th>SibSp[T.4]</th>  <td>  -11.6098</td> <td>    3.178</td> <td>   -3.653</td> <td> 0.000</td> <td>  -17.850</td> <td>   -5.370</td>\n",
       "</tr>\n",
       "<tr>\n",
       "  <th>SibSp[T.5]</th>  <td>   -5.1848</td> <td>    5.774</td> <td>   -0.898</td> <td> 0.369</td> <td>  -16.521</td> <td>    6.151</td>\n",
       "</tr>\n",
       "<tr>\n",
       "  <th>Parch[T.1]</th>  <td>   -5.9267</td> <td>    1.393</td> <td>   -4.253</td> <td> 0.000</td> <td>   -8.663</td> <td>   -3.191</td>\n",
       "</tr>\n",
       "<tr>\n",
       "  <th>Parch[T.2]</th>  <td>  -11.8790</td> <td>    1.808</td> <td>   -6.571</td> <td> 0.000</td> <td>  -15.428</td> <td>   -8.330</td>\n",
       "</tr>\n",
       "<tr>\n",
       "  <th>Parch[T.3]</th>  <td>    5.7309</td> <td>    5.548</td> <td>    1.033</td> <td> 0.302</td> <td>   -5.162</td> <td>   16.624</td>\n",
       "</tr>\n",
       "<tr>\n",
       "  <th>Parch[T.4]</th>  <td>   15.6641</td> <td>    6.217</td> <td>    2.520</td> <td> 0.012</td> <td>    3.458</td> <td>   27.870</td>\n",
       "</tr>\n",
       "<tr>\n",
       "  <th>Parch[T.5]</th>  <td>   12.7629</td> <td>    5.548</td> <td>    2.300</td> <td> 0.022</td> <td>    1.870</td> <td>   23.656</td>\n",
       "</tr>\n",
       "<tr>\n",
       "  <th>Parch[T.6]</th>  <td>   17.5979</td> <td>   12.297</td> <td>    1.431</td> <td> 0.153</td> <td>   -6.545</td> <td>   41.741</td>\n",
       "</tr>\n",
       "<tr>\n",
       "  <th>Pclass[T.2]</th> <td>   -9.8186</td> <td>    1.502</td> <td>   -6.539</td> <td> 0.000</td> <td>  -12.767</td> <td>   -6.870</td>\n",
       "</tr>\n",
       "<tr>\n",
       "  <th>Pclass[T.3]</th> <td>  -14.9540</td> <td>    1.431</td> <td>  -10.448</td> <td> 0.000</td> <td>  -17.764</td> <td>  -12.144</td>\n",
       "</tr>\n",
       "<tr>\n",
       "  <th>Fare</th>        <td>   -0.0202</td> <td>    0.011</td> <td>   -1.763</td> <td> 0.078</td> <td>   -0.043</td> <td>    0.002</td>\n",
       "</tr>\n",
       "</table>\n",
       "<table class=\"simpletable\">\n",
       "<tr>\n",
       "  <th>Omnibus:</th>       <td>37.930</td> <th>  Durbin-Watson:     </th> <td>   1.873</td>\n",
       "</tr>\n",
       "<tr>\n",
       "  <th>Prob(Omnibus):</th> <td> 0.000</td> <th>  Jarque-Bera (JB):  </th> <td>  42.648</td>\n",
       "</tr>\n",
       "<tr>\n",
       "  <th>Skew:</th>          <td> 0.571</td> <th>  Prob(JB):          </th> <td>5.48e-10</td>\n",
       "</tr>\n",
       "<tr>\n",
       "  <th>Kurtosis:</th>      <td> 3.359</td> <th>  Cond. No.          </th> <td>1.70e+03</td>\n",
       "</tr>\n",
       "</table><br/><br/>Notes:<br/>[1] Standard Errors assume that the covariance matrix of the errors is correctly specified.<br/>[2] The condition number is large, 1.7e+03. This might indicate that there are<br/>strong multicollinearity or other numerical problems."
      ],
      "text/plain": [
       "<class 'statsmodels.iolib.summary.Summary'>\n",
       "\"\"\"\n",
       "                            OLS Regression Results                            \n",
       "==============================================================================\n",
       "Dep. Variable:                    Age   R-squared:                       0.305\n",
       "Model:                            OLS   Adj. R-squared:                  0.291\n",
       "Method:                 Least Squares   F-statistic:                     21.94\n",
       "Date:                Sun, 12 Mar 2023   Prob (F-statistic):           1.16e-46\n",
       "Time:                        22:36:03   Log-Likelihood:                -2793.2\n",
       "No. Observations:                 714   AIC:                             5616.\n",
       "Df Residuals:                     699   BIC:                             5685.\n",
       "Df Model:                          14                                         \n",
       "Covariance Type:            nonrobust                                         \n",
       "===============================================================================\n",
       "                  coef    std err          t      P>|t|      [0.025      0.975]\n",
       "-------------------------------------------------------------------------------\n",
       "Intercept      43.1668      1.359     31.753      0.000      40.498      45.836\n",
       "SibSp[T.1]     -1.8618      1.142     -1.630      0.104      -4.104       0.380\n",
       "SibSp[T.2]     -5.7785      2.561     -2.256      0.024     -10.807      -0.750\n",
       "SibSp[T.3]     -8.3643      3.748     -2.231      0.026     -15.724      -1.005\n",
       "SibSp[T.4]    -11.6098      3.178     -3.653      0.000     -17.850      -5.370\n",
       "SibSp[T.5]     -5.1848      5.774     -0.898      0.369     -16.521       6.151\n",
       "Parch[T.1]     -5.9267      1.393     -4.253      0.000      -8.663      -3.191\n",
       "Parch[T.2]    -11.8790      1.808     -6.571      0.000     -15.428      -8.330\n",
       "Parch[T.3]      5.7309      5.548      1.033      0.302      -5.162      16.624\n",
       "Parch[T.4]     15.6641      6.217      2.520      0.012       3.458      27.870\n",
       "Parch[T.5]     12.7629      5.548      2.300      0.022       1.870      23.656\n",
       "Parch[T.6]     17.5979     12.297      1.431      0.153      -6.545      41.741\n",
       "Pclass[T.2]    -9.8186      1.502     -6.539      0.000     -12.767      -6.870\n",
       "Pclass[T.3]   -14.9540      1.431    -10.448      0.000     -17.764     -12.144\n",
       "Fare           -0.0202      0.011     -1.763      0.078      -0.043       0.002\n",
       "==============================================================================\n",
       "Omnibus:                       37.930   Durbin-Watson:                   1.873\n",
       "Prob(Omnibus):                  0.000   Jarque-Bera (JB):               42.648\n",
       "Skew:                           0.571   Prob(JB):                     5.48e-10\n",
       "Kurtosis:                       3.359   Cond. No.                     1.70e+03\n",
       "==============================================================================\n",
       "\n",
       "Notes:\n",
       "[1] Standard Errors assume that the covariance matrix of the errors is correctly specified.\n",
       "[2] The condition number is large, 1.7e+03. This might indicate that there are\n",
       "strong multicollinearity or other numerical problems.\n",
       "\"\"\""
      ]
     },
     "execution_count": 11,
     "metadata": {},
     "output_type": "execute_result"
    }
   ],
   "source": [
    "missing_age = train[train['Age'].isna()] #dataframe containing only rows missing Age\n",
    "has_age = train.dropna(subset=['Age']) #dataframe containing only no rows missing Age\n",
    "\n",
    "ols_object = smf.ols(formula = 'Age~SibSp+Parch+Pclass+Fare', data = has_age) #Making model based on observations\n",
    "model = ols_object.fit()\n",
    "model.summary()"
   ]
  },
  {
   "cell_type": "code",
   "execution_count": 12,
   "id": "5ba77c6c",
   "metadata": {},
   "outputs": [
    {
     "data": {
      "text/plain": [
       "Text(0, 0.5, 'Residuals')"
      ]
     },
     "execution_count": 12,
     "metadata": {},
     "output_type": "execute_result"
    },
    {
     "data": {
      "image/png": "[encoded data removed]",
      "text/plain": [
       "<Figure size 648x432 with 1 Axes>"
      ]
     },
     "metadata": {},
     "output_type": "display_data"
    }
   ],
   "source": [
    "#Checking Model Assumptions\n",
    "\n",
    "#Plotting residuals vs fitted values\n",
    "plt.rcParams[\"figure.figsize\"] = (9,6)\n",
    "sns.set(font_scale=1.25)\n",
    "ax = sns.scatterplot(x = model.fittedvalues, y=model.resid,color = 'orange')\n",
    "sns.lineplot(x = [0,45],y = [0,0],color = 'blue')\n",
    "plt.xlabel('Fitted values')\n",
    "plt.ylabel('Residuals')"
   ]
  },
  {
   "cell_type": "markdown",
   "id": "cca37e0b",
   "metadata": {},
   "source": [
    "Does not violate non-linearity of data, but there does seem to be non-constant variance of error terms. Take sqrt transformation of Age and see if it resolves this issue:"
   ]
  },
  {
   "cell_type": "code",
   "execution_count": 13,
   "id": "83b2ec29",
   "metadata": {},
   "outputs": [
    {
     "data": {
      "text/html": [
       "<table class=\"simpletable\">\n",
       "<caption>OLS Regression Results</caption>\n",
       "<tr>\n",
       "  <th>Dep. Variable:</th>      <td>np.sqrt(Age)</td>   <th>  R-squared:         </th> <td>   0.349</td>\n",
       "</tr>\n",
       "<tr>\n",
       "  <th>Model:</th>                   <td>OLS</td>       <th>  Adj. R-squared:    </th> <td>   0.336</td>\n",
       "</tr>\n",
       "<tr>\n",
       "  <th>Method:</th>             <td>Least Squares</td>  <th>  F-statistic:       </th> <td>   26.74</td>\n",
       "</tr>\n",
       "<tr>\n",
       "  <th>Date:</th>             <td>Sun, 12 Mar 2023</td> <th>  Prob (F-statistic):</th> <td>3.89e-56</td>\n",
       "</tr>\n",
       "<tr>\n",
       "  <th>Time:</th>                 <td>22:36:06</td>     <th>  Log-Likelihood:    </th> <td> -1141.2</td>\n",
       "</tr>\n",
       "<tr>\n",
       "  <th>No. Observations:</th>      <td>   714</td>      <th>  AIC:               </th> <td>   2312.</td>\n",
       "</tr>\n",
       "<tr>\n",
       "  <th>Df Residuals:</th>          <td>   699</td>      <th>  BIC:               </th> <td>   2381.</td>\n",
       "</tr>\n",
       "<tr>\n",
       "  <th>Df Model:</th>              <td>    14</td>      <th>                     </th>     <td> </td>   \n",
       "</tr>\n",
       "<tr>\n",
       "  <th>Covariance Type:</th>      <td>nonrobust</td>    <th>                     </th>     <td> </td>   \n",
       "</tr>\n",
       "</table>\n",
       "<table class=\"simpletable\">\n",
       "<tr>\n",
       "       <td></td>          <th>coef</th>     <th>std err</th>      <th>t</th>      <th>P>|t|</th>  <th>[0.025</th>    <th>0.975]</th>  \n",
       "</tr>\n",
       "<tr>\n",
       "  <th>Intercept</th>   <td>    6.5176</td> <td>    0.134</td> <td>   48.479</td> <td> 0.000</td> <td>    6.254</td> <td>    6.782</td>\n",
       "</tr>\n",
       "<tr>\n",
       "  <th>SibSp[T.1]</th>  <td>   -0.1719</td> <td>    0.113</td> <td>   -1.522</td> <td> 0.128</td> <td>   -0.394</td> <td>    0.050</td>\n",
       "</tr>\n",
       "<tr>\n",
       "  <th>SibSp[T.2]</th>  <td>   -0.7000</td> <td>    0.253</td> <td>   -2.764</td> <td> 0.006</td> <td>   -1.197</td> <td>   -0.203</td>\n",
       "</tr>\n",
       "<tr>\n",
       "  <th>SibSp[T.3]</th>  <td>   -1.0391</td> <td>    0.371</td> <td>   -2.803</td> <td> 0.005</td> <td>   -1.767</td> <td>   -0.311</td>\n",
       "</tr>\n",
       "<tr>\n",
       "  <th>SibSp[T.4]</th>  <td>   -1.5136</td> <td>    0.314</td> <td>   -4.816</td> <td> 0.000</td> <td>   -2.131</td> <td>   -0.896</td>\n",
       "</tr>\n",
       "<tr>\n",
       "  <th>SibSp[T.5]</th>  <td>   -0.7256</td> <td>    0.571</td> <td>   -1.271</td> <td> 0.204</td> <td>   -1.847</td> <td>    0.395</td>\n",
       "</tr>\n",
       "<tr>\n",
       "  <th>Parch[T.1]</th>  <td>   -0.9035</td> <td>    0.138</td> <td>   -6.556</td> <td> 0.000</td> <td>   -1.174</td> <td>   -0.633</td>\n",
       "</tr>\n",
       "<tr>\n",
       "  <th>Parch[T.2]</th>  <td>   -1.4262</td> <td>    0.179</td> <td>   -7.977</td> <td> 0.000</td> <td>   -1.777</td> <td>   -1.075</td>\n",
       "</tr>\n",
       "<tr>\n",
       "  <th>Parch[T.3]</th>  <td>    0.4934</td> <td>    0.549</td> <td>    0.899</td> <td> 0.369</td> <td>   -0.584</td> <td>    1.571</td>\n",
       "</tr>\n",
       "<tr>\n",
       "  <th>Parch[T.4]</th>  <td>    1.2739</td> <td>    0.615</td> <td>    2.072</td> <td> 0.039</td> <td>    0.067</td> <td>    2.481</td>\n",
       "</tr>\n",
       "<tr>\n",
       "  <th>Parch[T.5]</th>  <td>    1.1880</td> <td>    0.549</td> <td>    2.165</td> <td> 0.031</td> <td>    0.111</td> <td>    2.265</td>\n",
       "</tr>\n",
       "<tr>\n",
       "  <th>Parch[T.6]</th>  <td>    1.5659</td> <td>    1.216</td> <td>    1.288</td> <td> 0.198</td> <td>   -0.822</td> <td>    3.954</td>\n",
       "</tr>\n",
       "<tr>\n",
       "  <th>Pclass[T.2]</th> <td>   -0.8557</td> <td>    0.149</td> <td>   -5.762</td> <td> 0.000</td> <td>   -1.147</td> <td>   -0.564</td>\n",
       "</tr>\n",
       "<tr>\n",
       "  <th>Pclass[T.3]</th> <td>   -1.3142</td> <td>    0.142</td> <td>   -9.284</td> <td> 0.000</td> <td>   -1.592</td> <td>   -1.036</td>\n",
       "</tr>\n",
       "<tr>\n",
       "  <th>Fare</th>        <td>   -0.0009</td> <td>    0.001</td> <td>   -0.751</td> <td> 0.453</td> <td>   -0.003</td> <td>    0.001</td>\n",
       "</tr>\n",
       "</table>\n",
       "<table class=\"simpletable\">\n",
       "<tr>\n",
       "  <th>Omnibus:</th>       <td> 6.406</td> <th>  Durbin-Watson:     </th> <td>   1.872</td>\n",
       "</tr>\n",
       "<tr>\n",
       "  <th>Prob(Omnibus):</th> <td> 0.041</td> <th>  Jarque-Bera (JB):  </th> <td>   6.815</td>\n",
       "</tr>\n",
       "<tr>\n",
       "  <th>Skew:</th>          <td>-0.162</td> <th>  Prob(JB):          </th> <td>  0.0331</td>\n",
       "</tr>\n",
       "<tr>\n",
       "  <th>Kurtosis:</th>      <td> 3.352</td> <th>  Cond. No.          </th> <td>1.70e+03</td>\n",
       "</tr>\n",
       "</table><br/><br/>Notes:<br/>[1] Standard Errors assume that the covariance matrix of the errors is correctly specified.<br/>[2] The condition number is large, 1.7e+03. This might indicate that there are<br/>strong multicollinearity or other numerical problems."
      ],
      "text/plain": [
       "<class 'statsmodels.iolib.summary.Summary'>\n",
       "\"\"\"\n",
       "                            OLS Regression Results                            \n",
       "==============================================================================\n",
       "Dep. Variable:           np.sqrt(Age)   R-squared:                       0.349\n",
       "Model:                            OLS   Adj. R-squared:                  0.336\n",
       "Method:                 Least Squares   F-statistic:                     26.74\n",
       "Date:                Sun, 12 Mar 2023   Prob (F-statistic):           3.89e-56\n",
       "Time:                        22:36:06   Log-Likelihood:                -1141.2\n",
       "No. Observations:                 714   AIC:                             2312.\n",
       "Df Residuals:                     699   BIC:                             2381.\n",
       "Df Model:                          14                                         \n",
       "Covariance Type:            nonrobust                                         \n",
       "===============================================================================\n",
       "                  coef    std err          t      P>|t|      [0.025      0.975]\n",
       "-------------------------------------------------------------------------------\n",
       "Intercept       6.5176      0.134     48.479      0.000       6.254       6.782\n",
       "SibSp[T.1]     -0.1719      0.113     -1.522      0.128      -0.394       0.050\n",
       "SibSp[T.2]     -0.7000      0.253     -2.764      0.006      -1.197      -0.203\n",
       "SibSp[T.3]     -1.0391      0.371     -2.803      0.005      -1.767      -0.311\n",
       "SibSp[T.4]     -1.5136      0.314     -4.816      0.000      -2.131      -0.896\n",
       "SibSp[T.5]     -0.7256      0.571     -1.271      0.204      -1.847       0.395\n",
       "Parch[T.1]     -0.9035      0.138     -6.556      0.000      -1.174      -0.633\n",
       "Parch[T.2]     -1.4262      0.179     -7.977      0.000      -1.777      -1.075\n",
       "Parch[T.3]      0.4934      0.549      0.899      0.369      -0.584       1.571\n",
       "Parch[T.4]      1.2739      0.615      2.072      0.039       0.067       2.481\n",
       "Parch[T.5]      1.1880      0.549      2.165      0.031       0.111       2.265\n",
       "Parch[T.6]      1.5659      1.216      1.288      0.198      -0.822       3.954\n",
       "Pclass[T.2]    -0.8557      0.149     -5.762      0.000      -1.147      -0.564\n",
       "Pclass[T.3]    -1.3142      0.142     -9.284      0.000      -1.592      -1.036\n",
       "Fare           -0.0009      0.001     -0.751      0.453      -0.003       0.001\n",
       "==============================================================================\n",
       "Omnibus:                        6.406   Durbin-Watson:                   1.872\n",
       "Prob(Omnibus):                  0.041   Jarque-Bera (JB):                6.815\n",
       "Skew:                          -0.162   Prob(JB):                       0.0331\n",
       "Kurtosis:                       3.352   Cond. No.                     1.70e+03\n",
       "==============================================================================\n",
       "\n",
       "Notes:\n",
       "[1] Standard Errors assume that the covariance matrix of the errors is correctly specified.\n",
       "[2] The condition number is large, 1.7e+03. This might indicate that there are\n",
       "strong multicollinearity or other numerical problems.\n",
       "\"\"\""
      ]
     },
     "execution_count": 13,
     "metadata": {},
     "output_type": "execute_result"
    }
   ],
   "source": [
    "ols_object = smf.ols(formula = 'np.sqrt(Age)~SibSp+Parch+Pclass+Fare', data = has_age)\n",
    "model_sqrt_age = ols_object.fit()\n",
    "model_sqrt_age.summary()"
   ]
  },
  {
   "cell_type": "markdown",
   "id": "b7237b5f",
   "metadata": {},
   "source": [
    "R-squared improves a bit. Let's check the residuals"
   ]
  },
  {
   "cell_type": "code",
   "execution_count": 14,
   "id": "772a143a",
   "metadata": {},
   "outputs": [
    {
     "data": {
      "text/plain": [
       "Text(0, 0.5, 'Residuals')"
      ]
     },
     "execution_count": 14,
     "metadata": {},
     "output_type": "execute_result"
    },
    {
     "data": {
      "image/png": "[encoded data removed]",
      "text/plain": [
       "<Figure size 648x432 with 1 Axes>"
      ]
     },
     "metadata": {},
     "output_type": "display_data"
    }
   ],
   "source": [
    "#Plotting residuals vs fitted values\n",
    "plt.rcParams[\"figure.figsize\"] = (9,6)\n",
    "sns.set(font_scale=1.25)\n",
    "ax = sns.scatterplot(x = model_sqrt_age.fittedvalues, y=model_sqrt_age.resid,color = 'orange')\n",
    "sns.lineplot(x = [2,6.5],y = [0,0],color = 'blue')\n",
    "plt.xlabel('Fitted values')\n",
    "plt.ylabel('Residuals')"
   ]
  },
  {
   "cell_type": "markdown",
   "id": "48c03a22",
   "metadata": {},
   "source": [
    "Better. Not really worth doing any variable transformations since Fare isn't significant in this model anyways, and the rest of the variables are categorical. As a last step, see if we need to remove outliers, high leverage points, and influential points"
   ]
  },
  {
   "cell_type": "code",
   "execution_count": 15,
   "id": "de324d83",
   "metadata": {},
   "outputs": [
    {
     "name": "stderr",
     "output_type": "stream",
     "text": [
      "C:\\Users\\jazmy\\anaconda3\\lib\\site-packages\\statsmodels\\stats\\outliers_influence.py:696: RuntimeWarning: invalid value encountered in sqrt\n",
      "  return self.resid / sigma / np.sqrt(1 - hii)\n"
     ]
    },
    {
     "data": {
      "text/plain": [
       "Text(0, 0.5, 'Studentized Residuals')"
      ]
     },
     "execution_count": 15,
     "metadata": {},
     "output_type": "execute_result"
    },
    {
     "data": {
      "image/png": "[encoded data removed]",
      "text/plain": [
       "<Figure size 648x432 with 1 Axes>"
      ]
     },
     "metadata": {},
     "output_type": "display_data"
    }
   ],
   "source": [
    "#Studentized residuals\n",
    "out = model_sqrt_age.outlier_test()\n",
    "#Plotting studentized residuals vs fitted values\n",
    "sns.scatterplot(x = (model_sqrt_age.fittedvalues), y=(out.student_resid),color = 'orange')\n",
    "sns.lineplot(x = [model_sqrt_age.fittedvalues.min(),model_sqrt_age.fittedvalues.max()],y = [0,0],color = 'blue')\n",
    "plt.xlabel('Fitted values')\n",
    "plt.ylabel('Studentized Residuals')"
   ]
  },
  {
   "cell_type": "code",
   "execution_count": 16,
   "id": "87e5c7f5",
   "metadata": {},
   "outputs": [
    {
     "data": {
      "text/plain": [
       "37"
      ]
     },
     "execution_count": 16,
     "metadata": {},
     "output_type": "execute_result"
    }
   ],
   "source": [
    "influence = model_sqrt_age.get_influence()\n",
    "leverage = influence.hat_matrix_diag\n",
    "average_leverage = (model_sqrt_age.df_model+1)/model_sqrt_age.nobs\n",
    "high_leverage_threshold = 3*average_leverage\n",
    "np.sum(leverage>high_leverage_threshold)"
   ]
  },
  {
   "cell_type": "markdown",
   "id": "52b12b7e",
   "metadata": {},
   "source": [
    "Seems to be 4 outliers (studentized residuals larger than 3) and 37 high leverage points. None of them are influential points"
   ]
  },
  {
   "cell_type": "markdown",
   "id": "48df3415",
   "metadata": {},
   "source": [
    "Now we can predict age! In the missing_age dataframe, there are 7 rows where 'SibSp' = 8, but our model which includes people that have age only includes 'SibSp' from 1 to 5. Hence, the model can't fit those values. Maybe we can hand-impute them?"
   ]
  },
  {
   "cell_type": "code",
   "execution_count": 17,
   "id": "85498f9e",
   "metadata": {},
   "outputs": [
    {
     "data": {
      "text/html": [
       "<div>\n",
       "<style scoped>\n",
       "    .dataframe tbody tr th:only-of-type {\n",
       "        vertical-align: middle;\n",
       "    }\n",
       "\n",
       "    .dataframe tbody tr th {\n",
       "        vertical-align: top;\n",
       "    }\n",
       "\n",
       "    .dataframe thead th {\n",
       "        text-align: right;\n",
       "    }\n",
       "</style>\n",
       "<table border=\"1\" class=\"dataframe\">\n",
       "  <thead>\n",
       "    <tr style=\"text-align: right;\">\n",
       "      <th></th>\n",
       "      <th>PassengerId</th>\n",
       "      <th>Survived</th>\n",
       "      <th>Pclass</th>\n",
       "      <th>Name</th>\n",
       "      <th>Sex</th>\n",
       "      <th>Age</th>\n",
       "      <th>SibSp</th>\n",
       "      <th>Parch</th>\n",
       "      <th>Ticket</th>\n",
       "      <th>Fare</th>\n",
       "      <th>Cabin</th>\n",
       "      <th>Embarked</th>\n",
       "    </tr>\n",
       "  </thead>\n",
       "  <tbody>\n",
       "    <tr>\n",
       "      <th>159</th>\n",
       "      <td>160</td>\n",
       "      <td>0</td>\n",
       "      <td>3</td>\n",
       "      <td>Sage, Master. Thomas Henry</td>\n",
       "      <td>male</td>\n",
       "      <td>NaN</td>\n",
       "      <td>8</td>\n",
       "      <td>2</td>\n",
       "      <td>CA. 2343</td>\n",
       "      <td>69.55</td>\n",
       "      <td>NaN</td>\n",
       "      <td>S</td>\n",
       "    </tr>\n",
       "    <tr>\n",
       "      <th>180</th>\n",
       "      <td>181</td>\n",
       "      <td>0</td>\n",
       "      <td>3</td>\n",
       "      <td>Sage, Miss. Constance Gladys</td>\n",
       "      <td>female</td>\n",
       "      <td>NaN</td>\n",
       "      <td>8</td>\n",
       "      <td>2</td>\n",
       "      <td>CA. 2343</td>\n",
       "      <td>69.55</td>\n",
       "      <td>NaN</td>\n",
       "      <td>S</td>\n",
       "    </tr>\n",
       "    <tr>\n",
       "      <th>201</th>\n",
       "      <td>202</td>\n",
       "      <td>0</td>\n",
       "      <td>3</td>\n",
       "      <td>Sage, Mr. Frederick</td>\n",
       "      <td>male</td>\n",
       "      <td>NaN</td>\n",
       "      <td>8</td>\n",
       "      <td>2</td>\n",
       "      <td>CA. 2343</td>\n",
       "      <td>69.55</td>\n",
       "      <td>NaN</td>\n",
       "      <td>S</td>\n",
       "    </tr>\n",
       "    <tr>\n",
       "      <th>324</th>\n",
       "      <td>325</td>\n",
       "      <td>0</td>\n",
       "      <td>3</td>\n",
       "      <td>Sage, Mr. George John Jr</td>\n",
       "      <td>male</td>\n",
       "      <td>NaN</td>\n",
       "      <td>8</td>\n",
       "      <td>2</td>\n",
       "      <td>CA. 2343</td>\n",
       "      <td>69.55</td>\n",
       "      <td>NaN</td>\n",
       "      <td>S</td>\n",
       "    </tr>\n",
       "    <tr>\n",
       "      <th>792</th>\n",
       "      <td>793</td>\n",
       "      <td>0</td>\n",
       "      <td>3</td>\n",
       "      <td>Sage, Miss. Stella Anna</td>\n",
       "      <td>female</td>\n",
       "      <td>NaN</td>\n",
       "      <td>8</td>\n",
       "      <td>2</td>\n",
       "      <td>CA. 2343</td>\n",
       "      <td>69.55</td>\n",
       "      <td>NaN</td>\n",
       "      <td>S</td>\n",
       "    </tr>\n",
       "    <tr>\n",
       "      <th>846</th>\n",
       "      <td>847</td>\n",
       "      <td>0</td>\n",
       "      <td>3</td>\n",
       "      <td>Sage, Mr. Douglas Bullen</td>\n",
       "      <td>male</td>\n",
       "      <td>NaN</td>\n",
       "      <td>8</td>\n",
       "      <td>2</td>\n",
       "      <td>CA. 2343</td>\n",
       "      <td>69.55</td>\n",
       "      <td>NaN</td>\n",
       "      <td>S</td>\n",
       "    </tr>\n",
       "    <tr>\n",
       "      <th>863</th>\n",
       "      <td>864</td>\n",
       "      <td>0</td>\n",
       "      <td>3</td>\n",
       "      <td>Sage, Miss. Dorothy Edith \"Dolly\"</td>\n",
       "      <td>female</td>\n",
       "      <td>NaN</td>\n",
       "      <td>8</td>\n",
       "      <td>2</td>\n",
       "      <td>CA. 2343</td>\n",
       "      <td>69.55</td>\n",
       "      <td>NaN</td>\n",
       "      <td>S</td>\n",
       "    </tr>\n",
       "  </tbody>\n",
       "</table>\n",
       "</div>"
      ],
      "text/plain": [
       "     PassengerId  Survived Pclass                               Name     Sex  \\\n",
       "159          160         0      3         Sage, Master. Thomas Henry    male   \n",
       "180          181         0      3       Sage, Miss. Constance Gladys  female   \n",
       "201          202         0      3                Sage, Mr. Frederick    male   \n",
       "324          325         0      3           Sage, Mr. George John Jr    male   \n",
       "792          793         0      3            Sage, Miss. Stella Anna  female   \n",
       "846          847         0      3           Sage, Mr. Douglas Bullen    male   \n",
       "863          864         0      3  Sage, Miss. Dorothy Edith \"Dolly\"  female   \n",
       "\n",
       "     Age SibSp Parch    Ticket   Fare Cabin Embarked  \n",
       "159  NaN     8     2  CA. 2343  69.55   NaN        S  \n",
       "180  NaN     8     2  CA. 2343  69.55   NaN        S  \n",
       "201  NaN     8     2  CA. 2343  69.55   NaN        S  \n",
       "324  NaN     8     2  CA. 2343  69.55   NaN        S  \n",
       "792  NaN     8     2  CA. 2343  69.55   NaN        S  \n",
       "846  NaN     8     2  CA. 2343  69.55   NaN        S  \n",
       "863  NaN     8     2  CA. 2343  69.55   NaN        S  "
      ]
     },
     "execution_count": 17,
     "metadata": {},
     "output_type": "execute_result"
    }
   ],
   "source": [
    "missing_age.loc[missing_age['SibSp']=='8']"
   ]
  },
  {
   "cell_type": "markdown",
   "id": "0c5daf41",
   "metadata": {},
   "source": [
    "They all seem to come from the same family! Did a little bit of research, and found some information about this family: Stella (born 1891), George John (born 1892), Douglas Bullen (born 1894), Frederick (born 1895), Dorothy Florence (born 1897), Anthony William (born 1899), Elizabeth Ada (born 1901), Constance Gladys (born 1904), Thomas Henry (born 1911). Soure: https://www.nationalarchives.gov.uk/titanic/stories/sage-family.htm\n",
    "\n",
    "Titanic sunk in 1912\\\n",
    "Thomas: 1\\\n",
    "Constance: 8\\\n",
    "Fredrick: 17\\\n",
    "George: 20\\\n",
    "Stella: 21\\\n",
    "Douglas: 18\\\n",
    "Dorothy: 15\n",
    "\n",
    "Add these values into \"train\" dataframe, re-make missing_age and has_age, rerun model, then do prediction!"
   ]
  },
  {
   "cell_type": "code",
   "execution_count": 18,
   "id": "6b76d108",
   "metadata": {},
   "outputs": [
    {
     "data": {
      "text/html": [
       "<table class=\"simpletable\">\n",
       "<caption>OLS Regression Results</caption>\n",
       "<tr>\n",
       "  <th>Dep. Variable:</th>      <td>np.sqrt(Age)</td>   <th>  R-squared:         </th> <td>   0.354</td>\n",
       "</tr>\n",
       "<tr>\n",
       "  <th>Model:</th>                   <td>OLS</td>       <th>  Adj. R-squared:    </th> <td>   0.341</td>\n",
       "</tr>\n",
       "<tr>\n",
       "  <th>Method:</th>             <td>Least Squares</td>  <th>  F-statistic:       </th> <td>   25.80</td>\n",
       "</tr>\n",
       "<tr>\n",
       "  <th>Date:</th>             <td>Sun, 12 Mar 2023</td> <th>  Prob (F-statistic):</th> <td>2.59e-57</td>\n",
       "</tr>\n",
       "<tr>\n",
       "  <th>Time:</th>                 <td>22:36:17</td>     <th>  Log-Likelihood:    </th> <td> -1152.4</td>\n",
       "</tr>\n",
       "<tr>\n",
       "  <th>No. Observations:</th>      <td>   721</td>      <th>  AIC:               </th> <td>   2337.</td>\n",
       "</tr>\n",
       "<tr>\n",
       "  <th>Df Residuals:</th>          <td>   705</td>      <th>  BIC:               </th> <td>   2410.</td>\n",
       "</tr>\n",
       "<tr>\n",
       "  <th>Df Model:</th>              <td>    15</td>      <th>                     </th>     <td> </td>   \n",
       "</tr>\n",
       "<tr>\n",
       "  <th>Covariance Type:</th>      <td>nonrobust</td>    <th>                     </th>     <td> </td>   \n",
       "</tr>\n",
       "</table>\n",
       "<table class=\"simpletable\">\n",
       "<tr>\n",
       "       <td></td>          <th>coef</th>     <th>std err</th>      <th>t</th>      <th>P>|t|</th>  <th>[0.025</th>    <th>0.975]</th>  \n",
       "</tr>\n",
       "<tr>\n",
       "  <th>Intercept</th>   <td>    6.5176</td> <td>    0.135</td> <td>   48.454</td> <td> 0.000</td> <td>    6.253</td> <td>    6.782</td>\n",
       "</tr>\n",
       "<tr>\n",
       "  <th>SibSp[T.1]</th>  <td>   -0.1719</td> <td>    0.113</td> <td>   -1.521</td> <td> 0.129</td> <td>   -0.394</td> <td>    0.050</td>\n",
       "</tr>\n",
       "<tr>\n",
       "  <th>SibSp[T.2]</th>  <td>   -0.7000</td> <td>    0.253</td> <td>   -2.762</td> <td> 0.006</td> <td>   -1.198</td> <td>   -0.202</td>\n",
       "</tr>\n",
       "<tr>\n",
       "  <th>SibSp[T.3]</th>  <td>   -1.0391</td> <td>    0.371</td> <td>   -2.802</td> <td> 0.005</td> <td>   -1.767</td> <td>   -0.311</td>\n",
       "</tr>\n",
       "<tr>\n",
       "  <th>SibSp[T.4]</th>  <td>   -1.5136</td> <td>    0.314</td> <td>   -4.813</td> <td> 0.000</td> <td>   -2.131</td> <td>   -0.896</td>\n",
       "</tr>\n",
       "<tr>\n",
       "  <th>SibSp[T.5]</th>  <td>   -0.7256</td> <td>    0.571</td> <td>   -1.270</td> <td> 0.204</td> <td>   -1.847</td> <td>    0.396</td>\n",
       "</tr>\n",
       "<tr>\n",
       "  <th>SibSp[T.8]</th>  <td>   -0.1291</td> <td>    0.494</td> <td>   -0.261</td> <td> 0.794</td> <td>   -1.099</td> <td>    0.841</td>\n",
       "</tr>\n",
       "<tr>\n",
       "  <th>Parch[T.1]</th>  <td>   -0.9035</td> <td>    0.138</td> <td>   -6.553</td> <td> 0.000</td> <td>   -1.174</td> <td>   -0.633</td>\n",
       "</tr>\n",
       "<tr>\n",
       "  <th>Parch[T.2]</th>  <td>   -1.4262</td> <td>    0.179</td> <td>   -7.973</td> <td> 0.000</td> <td>   -1.777</td> <td>   -1.075</td>\n",
       "</tr>\n",
       "<tr>\n",
       "  <th>Parch[T.3]</th>  <td>    0.4934</td> <td>    0.549</td> <td>    0.899</td> <td> 0.369</td> <td>   -0.584</td> <td>    1.571</td>\n",
       "</tr>\n",
       "<tr>\n",
       "  <th>Parch[T.4]</th>  <td>    1.2739</td> <td>    0.615</td> <td>    2.071</td> <td> 0.039</td> <td>    0.066</td> <td>    2.482</td>\n",
       "</tr>\n",
       "<tr>\n",
       "  <th>Parch[T.5]</th>  <td>    1.1880</td> <td>    0.549</td> <td>    2.164</td> <td> 0.031</td> <td>    0.110</td> <td>    2.266</td>\n",
       "</tr>\n",
       "<tr>\n",
       "  <th>Parch[T.6]</th>  <td>    1.5659</td> <td>    1.217</td> <td>    1.287</td> <td> 0.199</td> <td>   -0.823</td> <td>    3.955</td>\n",
       "</tr>\n",
       "<tr>\n",
       "  <th>Pclass[T.2]</th> <td>   -0.8557</td> <td>    0.149</td> <td>   -5.759</td> <td> 0.000</td> <td>   -1.147</td> <td>   -0.564</td>\n",
       "</tr>\n",
       "<tr>\n",
       "  <th>Pclass[T.3]</th> <td>   -1.3142</td> <td>    0.142</td> <td>   -9.280</td> <td> 0.000</td> <td>   -1.592</td> <td>   -1.036</td>\n",
       "</tr>\n",
       "<tr>\n",
       "  <th>Fare</th>        <td>   -0.0009</td> <td>    0.001</td> <td>   -0.750</td> <td> 0.453</td> <td>   -0.003</td> <td>    0.001</td>\n",
       "</tr>\n",
       "</table>\n",
       "<table class=\"simpletable\">\n",
       "<tr>\n",
       "  <th>Omnibus:</th>       <td> 6.916</td> <th>  Durbin-Watson:     </th> <td>   1.894</td>\n",
       "</tr>\n",
       "<tr>\n",
       "  <th>Prob(Omnibus):</th> <td> 0.031</td> <th>  Jarque-Bera (JB):  </th> <td>   7.342</td>\n",
       "</tr>\n",
       "<tr>\n",
       "  <th>Skew:</th>          <td>-0.173</td> <th>  Prob(JB):          </th> <td>  0.0255</td>\n",
       "</tr>\n",
       "<tr>\n",
       "  <th>Kurtosis:</th>      <td> 3.353</td> <th>  Cond. No.          </th> <td>1.71e+03</td>\n",
       "</tr>\n",
       "</table><br/><br/>Notes:<br/>[1] Standard Errors assume that the covariance matrix of the errors is correctly specified.<br/>[2] The condition number is large, 1.71e+03. This might indicate that there are<br/>strong multicollinearity or other numerical problems."
      ],
      "text/plain": [
       "<class 'statsmodels.iolib.summary.Summary'>\n",
       "\"\"\"\n",
       "                            OLS Regression Results                            \n",
       "==============================================================================\n",
       "Dep. Variable:           np.sqrt(Age)   R-squared:                       0.354\n",
       "Model:                            OLS   Adj. R-squared:                  0.341\n",
       "Method:                 Least Squares   F-statistic:                     25.80\n",
       "Date:                Sun, 12 Mar 2023   Prob (F-statistic):           2.59e-57\n",
       "Time:                        22:36:17   Log-Likelihood:                -1152.4\n",
       "No. Observations:                 721   AIC:                             2337.\n",
       "Df Residuals:                     705   BIC:                             2410.\n",
       "Df Model:                          15                                         \n",
       "Covariance Type:            nonrobust                                         \n",
       "===============================================================================\n",
       "                  coef    std err          t      P>|t|      [0.025      0.975]\n",
       "-------------------------------------------------------------------------------\n",
       "Intercept       6.5176      0.135     48.454      0.000       6.253       6.782\n",
       "SibSp[T.1]     -0.1719      0.113     -1.521      0.129      -0.394       0.050\n",
       "SibSp[T.2]     -0.7000      0.253     -2.762      0.006      -1.198      -0.202\n",
       "SibSp[T.3]     -1.0391      0.371     -2.802      0.005      -1.767      -0.311\n",
       "SibSp[T.4]     -1.5136      0.314     -4.813      0.000      -2.131      -0.896\n",
       "SibSp[T.5]     -0.7256      0.571     -1.270      0.204      -1.847       0.396\n",
       "SibSp[T.8]     -0.1291      0.494     -0.261      0.794      -1.099       0.841\n",
       "Parch[T.1]     -0.9035      0.138     -6.553      0.000      -1.174      -0.633\n",
       "Parch[T.2]     -1.4262      0.179     -7.973      0.000      -1.777      -1.075\n",
       "Parch[T.3]      0.4934      0.549      0.899      0.369      -0.584       1.571\n",
       "Parch[T.4]      1.2739      0.615      2.071      0.039       0.066       2.482\n",
       "Parch[T.5]      1.1880      0.549      2.164      0.031       0.110       2.266\n",
       "Parch[T.6]      1.5659      1.217      1.287      0.199      -0.823       3.955\n",
       "Pclass[T.2]    -0.8557      0.149     -5.759      0.000      -1.147      -0.564\n",
       "Pclass[T.3]    -1.3142      0.142     -9.280      0.000      -1.592      -1.036\n",
       "Fare           -0.0009      0.001     -0.750      0.453      -0.003       0.001\n",
       "==============================================================================\n",
       "Omnibus:                        6.916   Durbin-Watson:                   1.894\n",
       "Prob(Omnibus):                  0.031   Jarque-Bera (JB):                7.342\n",
       "Skew:                          -0.173   Prob(JB):                       0.0255\n",
       "Kurtosis:                       3.353   Cond. No.                     1.71e+03\n",
       "==============================================================================\n",
       "\n",
       "Notes:\n",
       "[1] Standard Errors assume that the covariance matrix of the errors is correctly specified.\n",
       "[2] The condition number is large, 1.71e+03. This might indicate that there are\n",
       "strong multicollinearity or other numerical problems.\n",
       "\"\"\""
      ]
     },
     "execution_count": 18,
     "metadata": {},
     "output_type": "execute_result"
    }
   ],
   "source": [
    "train.loc[159,'Age']=1\n",
    "train.loc[180,'Age']=8\n",
    "train.loc[201,'Age']=17\n",
    "train.loc[324,'Age']=20\n",
    "train.loc[792,'Age']=21\n",
    "train.loc[846,'Age']=18\n",
    "train.loc[863,'Age']=15\n",
    "missing_age = train[train['Age'].isna()] #dataframe containing only rows missing Age\n",
    "has_age = train.dropna(subset=['Age']) #dataframe containing only no rows missing Age\n",
    "ols_object = smf.ols(formula = 'np.sqrt(Age)~SibSp+Parch+Pclass+Fare', data = has_age)\n",
    "model_age_final = ols_object.fit()\n",
    "model_age_final.summary()"
   ]
  },
  {
   "cell_type": "code",
   "execution_count": 19,
   "id": "9df7c8a1",
   "metadata": {},
   "outputs": [
    {
     "name": "stderr",
     "output_type": "stream",
     "text": [
      "C:\\Users\\jazmy\\AppData\\Local\\Temp/ipykernel_25736/3789173762.py:1: SettingWithCopyWarning: \n",
      "A value is trying to be set on a copy of a slice from a DataFrame.\n",
      "Try using .loc[row_indexer,col_indexer] = value instead\n",
      "\n",
      "See the caveats in the documentation: https://pandas.pydata.org/pandas-docs/stable/user_guide/indexing.html#returning-a-view-versus-a-copy\n",
      "  missing_age['Age'] = model_age_final.predict(missing_age)**2 #predicting based on dataframe with ages\n"
     ]
    }
   ],
   "source": [
    "missing_age['Age'] = model_age_final.predict(missing_age)**2 #predicting based on dataframe with ages\n",
    "train_with_age = pd.concat([has_age,missing_age]) #putting two dataframes together"
   ]
  },
  {
   "cell_type": "code",
   "execution_count": 20,
   "id": "5ba298a0",
   "metadata": {},
   "outputs": [
    {
     "data": {
      "text/html": [
       "<div>\n",
       "<style scoped>\n",
       "    .dataframe tbody tr th:only-of-type {\n",
       "        vertical-align: middle;\n",
       "    }\n",
       "\n",
       "    .dataframe tbody tr th {\n",
       "        vertical-align: top;\n",
       "    }\n",
       "\n",
       "    .dataframe thead th {\n",
       "        text-align: right;\n",
       "    }\n",
       "</style>\n",
       "<table border=\"1\" class=\"dataframe\">\n",
       "  <thead>\n",
       "    <tr style=\"text-align: right;\">\n",
       "      <th></th>\n",
       "      <th>PassengerId</th>\n",
       "      <th>Survived</th>\n",
       "      <th>Pclass</th>\n",
       "      <th>Name</th>\n",
       "      <th>Sex</th>\n",
       "      <th>Age</th>\n",
       "      <th>SibSp</th>\n",
       "      <th>Parch</th>\n",
       "      <th>Ticket</th>\n",
       "      <th>Fare</th>\n",
       "      <th>Cabin</th>\n",
       "      <th>Embarked</th>\n",
       "    </tr>\n",
       "  </thead>\n",
       "  <tbody>\n",
       "    <tr>\n",
       "      <th>0</th>\n",
       "      <td>1</td>\n",
       "      <td>0</td>\n",
       "      <td>3</td>\n",
       "      <td>Braund, Mr. Owen Harris</td>\n",
       "      <td>male</td>\n",
       "      <td>22.000000</td>\n",
       "      <td>1</td>\n",
       "      <td>0</td>\n",
       "      <td>A/5 21171</td>\n",
       "      <td>7.2500</td>\n",
       "      <td>NaN</td>\n",
       "      <td>S</td>\n",
       "    </tr>\n",
       "    <tr>\n",
       "      <th>1</th>\n",
       "      <td>2</td>\n",
       "      <td>1</td>\n",
       "      <td>1</td>\n",
       "      <td>Cumings, Mrs. John Bradley (Florence Briggs Th...</td>\n",
       "      <td>female</td>\n",
       "      <td>38.000000</td>\n",
       "      <td>1</td>\n",
       "      <td>0</td>\n",
       "      <td>PC 17599</td>\n",
       "      <td>71.2833</td>\n",
       "      <td>C85</td>\n",
       "      <td>C</td>\n",
       "    </tr>\n",
       "    <tr>\n",
       "      <th>2</th>\n",
       "      <td>3</td>\n",
       "      <td>1</td>\n",
       "      <td>3</td>\n",
       "      <td>Heikkinen, Miss. Laina</td>\n",
       "      <td>female</td>\n",
       "      <td>26.000000</td>\n",
       "      <td>0</td>\n",
       "      <td>0</td>\n",
       "      <td>STON/O2. 3101282</td>\n",
       "      <td>7.9250</td>\n",
       "      <td>NaN</td>\n",
       "      <td>S</td>\n",
       "    </tr>\n",
       "    <tr>\n",
       "      <th>3</th>\n",
       "      <td>4</td>\n",
       "      <td>1</td>\n",
       "      <td>1</td>\n",
       "      <td>Futrelle, Mrs. Jacques Heath (Lily May Peel)</td>\n",
       "      <td>female</td>\n",
       "      <td>35.000000</td>\n",
       "      <td>1</td>\n",
       "      <td>0</td>\n",
       "      <td>113803</td>\n",
       "      <td>53.1000</td>\n",
       "      <td>C123</td>\n",
       "      <td>S</td>\n",
       "    </tr>\n",
       "    <tr>\n",
       "      <th>4</th>\n",
       "      <td>5</td>\n",
       "      <td>0</td>\n",
       "      <td>3</td>\n",
       "      <td>Allen, Mr. William Henry</td>\n",
       "      <td>male</td>\n",
       "      <td>35.000000</td>\n",
       "      <td>0</td>\n",
       "      <td>0</td>\n",
       "      <td>373450</td>\n",
       "      <td>8.0500</td>\n",
       "      <td>NaN</td>\n",
       "      <td>S</td>\n",
       "    </tr>\n",
       "    <tr>\n",
       "      <th>...</th>\n",
       "      <td>...</td>\n",
       "      <td>...</td>\n",
       "      <td>...</td>\n",
       "      <td>...</td>\n",
       "      <td>...</td>\n",
       "      <td>...</td>\n",
       "      <td>...</td>\n",
       "      <td>...</td>\n",
       "      <td>...</td>\n",
       "      <td>...</td>\n",
       "      <td>...</td>\n",
       "      <td>...</td>\n",
       "    </tr>\n",
       "    <tr>\n",
       "      <th>849</th>\n",
       "      <td>850</td>\n",
       "      <td>1</td>\n",
       "      <td>1</td>\n",
       "      <td>Goldenberg, Mrs. Samuel L (Edwiga Grabowska)</td>\n",
       "      <td>female</td>\n",
       "      <td>39.310024</td>\n",
       "      <td>1</td>\n",
       "      <td>0</td>\n",
       "      <td>17453</td>\n",
       "      <td>89.1042</td>\n",
       "      <td>C92</td>\n",
       "      <td>C</td>\n",
       "    </tr>\n",
       "    <tr>\n",
       "      <th>859</th>\n",
       "      <td>860</td>\n",
       "      <td>0</td>\n",
       "      <td>3</td>\n",
       "      <td>Razi, Mr. Raihed</td>\n",
       "      <td>male</td>\n",
       "      <td>27.011221</td>\n",
       "      <td>0</td>\n",
       "      <td>0</td>\n",
       "      <td>2629</td>\n",
       "      <td>7.2292</td>\n",
       "      <td>NaN</td>\n",
       "      <td>C</td>\n",
       "    </tr>\n",
       "    <tr>\n",
       "      <th>868</th>\n",
       "      <td>869</td>\n",
       "      <td>0</td>\n",
       "      <td>3</td>\n",
       "      <td>van Melkebeke, Mr. Philemon</td>\n",
       "      <td>male</td>\n",
       "      <td>26.991118</td>\n",
       "      <td>0</td>\n",
       "      <td>0</td>\n",
       "      <td>345777</td>\n",
       "      <td>9.5000</td>\n",
       "      <td>NaN</td>\n",
       "      <td>S</td>\n",
       "    </tr>\n",
       "    <tr>\n",
       "      <th>878</th>\n",
       "      <td>879</td>\n",
       "      <td>0</td>\n",
       "      <td>3</td>\n",
       "      <td>Laleff, Mr. Kristo</td>\n",
       "      <td>male</td>\n",
       "      <td>27.005319</td>\n",
       "      <td>0</td>\n",
       "      <td>0</td>\n",
       "      <td>349217</td>\n",
       "      <td>7.8958</td>\n",
       "      <td>NaN</td>\n",
       "      <td>S</td>\n",
       "    </tr>\n",
       "    <tr>\n",
       "      <th>888</th>\n",
       "      <td>889</td>\n",
       "      <td>0</td>\n",
       "      <td>3</td>\n",
       "      <td>Johnston, Miss. Catherine Helen \"Carrie\"</td>\n",
       "      <td>female</td>\n",
       "      <td>12.854548</td>\n",
       "      <td>1</td>\n",
       "      <td>2</td>\n",
       "      <td>W./C. 6607</td>\n",
       "      <td>23.4500</td>\n",
       "      <td>NaN</td>\n",
       "      <td>S</td>\n",
       "    </tr>\n",
       "  </tbody>\n",
       "</table>\n",
       "<p>891 rows × 12 columns</p>\n",
       "</div>"
      ],
      "text/plain": [
       "     PassengerId  Survived Pclass  \\\n",
       "0              1         0      3   \n",
       "1              2         1      1   \n",
       "2              3         1      3   \n",
       "3              4         1      1   \n",
       "4              5         0      3   \n",
       "..           ...       ...    ...   \n",
       "849          850         1      1   \n",
       "859          860         0      3   \n",
       "868          869         0      3   \n",
       "878          879         0      3   \n",
       "888          889         0      3   \n",
       "\n",
       "                                                  Name     Sex        Age  \\\n",
       "0                              Braund, Mr. Owen Harris    male  22.000000   \n",
       "1    Cumings, Mrs. John Bradley (Florence Briggs Th...  female  38.000000   \n",
       "2                               Heikkinen, Miss. Laina  female  26.000000   \n",
       "3         Futrelle, Mrs. Jacques Heath (Lily May Peel)  female  35.000000   \n",
       "4                             Allen, Mr. William Henry    male  35.000000   \n",
       "..                                                 ...     ...        ...   \n",
       "849       Goldenberg, Mrs. Samuel L (Edwiga Grabowska)  female  39.310024   \n",
       "859                                   Razi, Mr. Raihed    male  27.011221   \n",
       "868                        van Melkebeke, Mr. Philemon    male  26.991118   \n",
       "878                                 Laleff, Mr. Kristo    male  27.005319   \n",
       "888           Johnston, Miss. Catherine Helen \"Carrie\"  female  12.854548   \n",
       "\n",
       "    SibSp Parch            Ticket     Fare Cabin Embarked  \n",
       "0       1     0         A/5 21171   7.2500   NaN        S  \n",
       "1       1     0          PC 17599  71.2833   C85        C  \n",
       "2       0     0  STON/O2. 3101282   7.9250   NaN        S  \n",
       "3       1     0            113803  53.1000  C123        S  \n",
       "4       0     0            373450   8.0500   NaN        S  \n",
       "..    ...   ...               ...      ...   ...      ...  \n",
       "849     1     0             17453  89.1042   C92        C  \n",
       "859     0     0              2629   7.2292   NaN        C  \n",
       "868     0     0            345777   9.5000   NaN        S  \n",
       "878     0     0            349217   7.8958   NaN        S  \n",
       "888     1     2        W./C. 6607  23.4500   NaN        S  \n",
       "\n",
       "[891 rows x 12 columns]"
      ]
     },
     "execution_count": 20,
     "metadata": {},
     "output_type": "execute_result"
    }
   ],
   "source": [
    "train_with_age"
   ]
  },
  {
   "cell_type": "markdown",
   "id": "98e7ce29",
   "metadata": {},
   "source": [
    "Binning Ages:"
   ]
  },
  {
   "cell_type": "code",
   "execution_count": 21,
   "id": "671604b5",
   "metadata": {},
   "outputs": [],
   "source": [
    "#Binning Age\n",
    "binned_age = pd.cut(train_with_age['Age'],8,retbins=True)\n",
    "train_with_age['age_binned'] = binned_age[0]\n",
    "age_data = train_with_age.groupby('age_binned')['Survived'].agg([('survival_percent','mean'),('nobs','count')]).reset_index(drop=False)"
   ]
  },
  {
   "cell_type": "markdown",
   "id": "fbb11c9b",
   "metadata": {},
   "source": [
    "## Exploratory data analysis"
   ]
  },
  {
   "cell_type": "markdown",
   "id": "e4bd74a9",
   "metadata": {},
   "source": [
    "All of the code done for Exploratory data analysis is already included in the report!"
   ]
  },
  {
   "cell_type": "markdown",
   "id": "ebf2f547",
   "metadata": {},
   "source": [
    "## Variable Selection and Preliminary Analysis\n",
    "\n",
    "David Venator"
   ]
  },
  {
   "cell_type": "code",
   "execution_count": 22,
   "id": "1574d14b",
   "metadata": {},
   "outputs": [
    {
     "data": {
      "text/plain": [
       "PassengerId       int64\n",
       "Survived          int64\n",
       "Pclass           object\n",
       "Name             object\n",
       "Sex              object\n",
       "Age             float64\n",
       "SibSp            object\n",
       "Parch            object\n",
       "Ticket           object\n",
       "Fare            float64\n",
       "Cabin            object\n",
       "Embarked         object\n",
       "age_binned     category\n",
       "dtype: object"
      ]
     },
     "execution_count": 22,
     "metadata": {},
     "output_type": "execute_result"
    }
   ],
   "source": [
    "train_with_age.dtypes"
   ]
  },
  {
   "cell_type": "code",
   "execution_count": 23,
   "id": "b6216214",
   "metadata": {},
   "outputs": [],
   "source": [
    "#Import Statement\n",
    "\n",
    "import pandas as pd\n",
    "import numpy as np\n",
    "import statsmodels.formula.api as sm\n",
    "import seaborn as sns\n",
    "import matplotlib.pyplot as plt\n",
    "import itertools\n",
    "import time"
   ]
  },
  {
   "cell_type": "code",
   "execution_count": 24,
   "id": "2be8cb4f",
   "metadata": {},
   "outputs": [],
   "source": [
    "train_with_age['SibSp'] = train_with_age['SibSp'].apply(lambda x: int(x))\n",
    "train_with_age['Parch'] = train_with_age['Parch'].apply(lambda x: int(x))"
   ]
  },
  {
   "cell_type": "code",
   "execution_count": 25,
   "id": "3ced6271",
   "metadata": {},
   "outputs": [],
   "source": [
    "#Extract predictors remaining after EDA and preliminary Processing\n",
    "\n",
    "predictors = train_with_age.columns.tolist()[2:]\n",
    "X = train_with_age[predictors]"
   ]
  },
  {
   "cell_type": "code",
   "execution_count": null,
   "id": "f184c7ac",
   "metadata": {},
   "outputs": [
    {
     "name": "stdout",
     "output_type": "stream",
     "text": [
      "Optimization terminated successfully.\n",
      "         Current function value: 0.607805\n",
      "         Iterations 5\n",
      "Warning: Maximum number of iterations has been exceeded.\n",
      "         Current function value: 0.000000\n",
      "         Iterations: 35\n",
      "Optimization terminated successfully.\n",
      "         Current function value: 0.515041\n",
      "         Iterations 5\n",
      "Optimization terminated successfully.\n",
      "         Current function value: 0.664720\n",
      "         Iterations 4\n"
     ]
    },
    {
     "name": "stderr",
     "output_type": "stream",
     "text": [
      "C:\\Users\\jazmy\\anaconda3\\lib\\site-packages\\statsmodels\\base\\model.py:604: ConvergenceWarning: Maximum Likelihood optimization failed to converge. Check mle_retvals\n",
      "  warnings.warn(\"Maximum Likelihood optimization failed to \"\n"
     ]
    },
    {
     "name": "stdout",
     "output_type": "stream",
     "text": [
      "Optimization terminated successfully.\n",
      "         Current function value: 0.665272\n",
      "         Iterations 4\n",
      "Optimization terminated successfully.\n",
      "         Current function value: 0.662650\n",
      "         Iterations 4\n"
     ]
    }
   ],
   "source": [
    "#Perform single variable logistic regression, noting which variables throw errors\n",
    "\n",
    "to_drop = []\n",
    "solo = {}\n",
    "for pred in predictors:\n",
    "    factor = pred\n",
    "    try:\n",
    "        model = sm.logit('Survived~' + factor, data = train_with_age).fit()\n",
    "        #print(model.pvalues)\n",
    "        solo[pred] = model\n",
    "    except:\n",
    "        to_drop.append(pred)\n",
    "        print(pred, 'does not model')\n",
    "        \n",
    "print(to_drop)"
   ]
  },
  {
   "cell_type": "code",
   "execution_count": null,
   "id": "6f7e0c65",
   "metadata": {},
   "outputs": [],
   "source": [
    "#Check for illogical regressions - pvalues are NaN, or pvalues have an average of 1 (no significance)\n",
    "\n",
    "for key in list(solo.keys()):\n",
    "    if solo[key].pvalues.isna().value_counts()[False] < sum(solo[key].pvalues.isna().value_counts()):\n",
    "        to_drop.append(key)\n",
    "    elif (solo[key].pvalues > 0.99).mean() == 1:\n",
    "        to_drop.append(key)"
   ]
  },
  {
   "cell_type": "code",
   "execution_count": null,
   "id": "f94e26d1",
   "metadata": {},
   "outputs": [],
   "source": [
    "#This shows the columns that either did not regress, or had irregular p-values\n",
    "\n",
    "print(to_drop)"
   ]
  },
  {
   "cell_type": "code",
   "execution_count": 70,
   "id": "fe8cba12",
   "metadata": {},
   "outputs": [],
   "source": [
    "#Drops these columns from analysis\n",
    "\n",
    "X = X.drop(columns = to_drop)\n",
    "for dropped in to_drop:\n",
    "    if dropped in list(solo.keys()):\n",
    "        del solo[dropped]"
   ]
  },
  {
   "cell_type": "code",
   "execution_count": 71,
   "id": "33a33f7f",
   "metadata": {},
   "outputs": [
    {
     "name": "stdout",
     "output_type": "stream",
     "text": [
      "<statsmodels.discrete.discrete_model.BinaryResultsWrapper object at 0x00000284E91C61F0>\n",
      "Pclass params are\n",
      "                     0             1\n",
      "Intercept    0.530628  1.658975e-04\n",
      "Pclass[T.2] -0.639431  1.730629e-03\n",
      "Pclass[T.3] -1.670399  2.186643e-21\n",
      "<statsmodels.discrete.discrete_model.BinaryResultsWrapper object at 0x00000284E8F00610>\n",
      "Sex params are\n",
      "                     0             1\n",
      "Intercept    1.056589  2.580544e-16\n",
      "Sex[T.male] -2.513710  4.259191e-51\n",
      "<statsmodels.discrete.discrete_model.BinaryResultsWrapper object at 0x00000284E8969D90>\n",
      "Age params are\n",
      "                   0         1\n",
      "Intercept -0.253953  0.124427\n",
      "Age       -0.007512  0.146507\n",
      "<statsmodels.discrete.discrete_model.BinaryResultsWrapper object at 0x00000284E8977280>\n",
      "SibSp params are\n",
      "                   0             1\n",
      "Intercept -0.438154  9.226474e-09\n",
      "SibSp     -0.068638  2.937996e-01\n",
      "<statsmodels.discrete.discrete_model.BinaryResultsWrapper object at 0x00000284E8977520>\n",
      "Parch params are\n",
      "                   0             1\n",
      "Intercept -0.553050  6.365101e-13\n",
      "Parch      0.203317  1.626848e-02\n",
      "<statsmodels.discrete.discrete_model.BinaryResultsWrapper object at 0x00000284E897D370>\n",
      "Fare params are\n",
      "                   0             1\n",
      "Intercept -0.941330  4.384310e-23\n",
      "Fare       0.015197  9.857415e-12\n",
      "<statsmodels.discrete.discrete_model.BinaryResultsWrapper object at 0x00000284E96D2220>\n",
      "Embarked params are\n",
      "                       0             1\n",
      "Intercept      0.215111  1.657297e-01\n",
      "Embarked[T.Q] -0.664062  1.792398e-02\n",
      "Embarked[T.S] -0.891998  4.121688e-07\n"
     ]
    },
    {
     "data": {
      "image/png": "[encoded data removed]",
      "text/plain": [
       "<Figure size 1440x720 with 7 Axes>"
      ]
     },
     "metadata": {},
     "output_type": "display_data"
    }
   ],
   "source": [
    "#Plots the single variable regression for all potential predictors after first filter - prints all coeffictients(0) and pvalues(1) for further examiniation\n",
    "\n",
    "plt.figure(figsize=(20,10))\n",
    "plt.rcParams.update({'font.size': 18, 'lines.markersize': 10})\n",
    "\n",
    "for i in range(len(list(solo.keys()))):\n",
    "    print(solo[list(solo.keys())[i]])\n",
    "    plt.subplot(2, 4, i+1)\n",
    "    if list(solo.keys())[i] == 'age_binned':\n",
    "        sns.scatterplot(train_with_age[list(solo.keys())[i]].apply(lambda x: str(x)), train_with_age['Survived'], color = 'orange') #Visualizing data\n",
    "        logit_model = solo[list(solo.keys())[i]]\n",
    "        print(list(solo.keys())[i], 'params are\\n', pd.concat([solo[list(solo.keys())[i]].params, solo[list(solo.keys())[i]].pvalues], axis = 1))\n",
    "        sns.lineplot(train_with_age[list(solo.keys())[i]].apply(lambda x: str(x)), logit_model.predict(train_with_age), color = 'blue') #Visualizing model\n",
    "    else: \n",
    "        sns.scatterplot(x = list(solo.keys())[i], y = 'Survived', data = train_with_age, color = 'orange') #Visualizing data\n",
    "        logit_model = solo[list(solo.keys())[i]]\n",
    "        print(list(solo.keys())[i], 'params are\\n', pd.concat([solo[list(solo.keys())[i]].params, solo[list(solo.keys())[i]].pvalues], axis = 1))\n",
    "        sns.lineplot(x = list(solo.keys())[i], y = logit_model.predict(train_with_age), data = train_with_age, color = 'blue') #Visualizing model\n",
    "    "
   ]
  },
  {
   "cell_type": "code",
   "execution_count": 72,
   "id": "e425d0ca",
   "metadata": {
    "scrolled": true
   },
   "outputs": [
    {
     "name": "stdout",
     "output_type": "stream",
     "text": [
      "Optimization terminated successfully.\n",
      "         Current function value: 0.607805\n",
      "         Iterations 5\n",
      "Optimization terminated successfully.\n",
      "         Current function value: 0.515041\n",
      "         Iterations 5\n",
      "Optimization terminated successfully.\n",
      "         Current function value: 0.664720\n",
      "         Iterations 4\n",
      "Optimization terminated successfully.\n",
      "         Current function value: 0.665272\n",
      "         Iterations 4\n",
      "Optimization terminated successfully.\n",
      "         Current function value: 0.662650\n",
      "         Iterations 4\n",
      "Optimization terminated successfully.\n",
      "         Current function value: 0.627143\n",
      "         Iterations 6\n",
      "Optimization terminated successfully.\n",
      "         Current function value: 0.650704\n",
      "         Iterations 4\n",
      "Processed 7 models on 1 predictors in 0.23301482200622559 seconds.\n",
      "Optimization terminated successfully.\n",
      "         Current function value: 0.464023\n",
      "         Iterations 6\n",
      "Optimization terminated successfully.\n",
      "         Current function value: 0.583783\n",
      "         Iterations 5\n",
      "Optimization terminated successfully.\n",
      "         Current function value: 0.607782\n",
      "         Iterations 5\n",
      "Optimization terminated successfully.\n",
      "         Current function value: 0.603520\n",
      "         Iterations 5\n",
      "Optimization terminated successfully.\n",
      "         Current function value: 0.602028\n",
      "         Iterations 6\n",
      "Optimization terminated successfully.\n",
      "         Current function value: 0.597483\n",
      "         Iterations 5\n",
      "Optimization terminated successfully.\n",
      "         Current function value: 0.515030\n",
      "         Iterations 5\n",
      "Optimization terminated successfully.\n",
      "         Current function value: 0.507684\n",
      "         Iterations 6\n",
      "Optimization terminated successfully.\n",
      "         Current function value: 0.513147\n",
      "         Iterations 5\n",
      "Optimization terminated successfully.\n",
      "         Current function value: 0.496246\n",
      "         Iterations 6\n",
      "Optimization terminated successfully.\n",
      "         Current function value: 0.504689\n",
      "         Iterations 6\n",
      "Optimization terminated successfully.\n",
      "         Current function value: 0.663293\n",
      "         Iterations 4\n",
      "Optimization terminated successfully.\n",
      "         Current function value: 0.662126\n",
      "         Iterations 4\n",
      "Optimization terminated successfully.\n",
      "         Current function value: 0.623227\n",
      "         Iterations 6\n",
      "Optimization terminated successfully.\n",
      "         Current function value: 0.648869\n",
      "         Iterations 5\n",
      "Optimization terminated successfully.\n",
      "         Current function value: 0.659762\n",
      "         Iterations 5\n",
      "Optimization terminated successfully.\n",
      "         Current function value: 0.622337\n",
      "         Iterations 6\n",
      "Optimization terminated successfully.\n",
      "         Current function value: 0.650426\n",
      "         Iterations 4\n",
      "Optimization terminated successfully.\n",
      "         Current function value: 0.627045\n",
      "         Iterations 6\n",
      "Optimization terminated successfully.\n",
      "         Current function value: 0.646804\n",
      "         Iterations 4\n",
      "Optimization terminated successfully.\n",
      "         Current function value: 0.620682\n",
      "         Iterations 6\n",
      "Processed 21 models on 2 predictors in 0.46203017234802246 seconds.\n",
      "Optimization terminated successfully.\n",
      "         Current function value: 0.451929\n",
      "         Iterations 6\n",
      "Optimization terminated successfully.\n",
      "         Current function value: 0.459679\n",
      "         Iterations 6\n",
      "Optimization terminated successfully.\n",
      "         Current function value: 0.462995\n",
      "         Iterations 6\n",
      "Optimization terminated successfully.\n",
      "         Current function value: 0.463592\n",
      "         Iterations 6\n",
      "Optimization terminated successfully.\n",
      "         Current function value: 0.460372\n",
      "         Iterations 6\n",
      "Optimization terminated successfully.\n",
      "         Current function value: 0.580769\n",
      "         Iterations 5\n",
      "Optimization terminated successfully.\n",
      "         Current function value: 0.582808\n",
      "         Iterations 5\n",
      "Optimization terminated successfully.\n",
      "         Current function value: 0.581545\n",
      "         Iterations 5\n",
      "Optimization terminated successfully.\n",
      "         Current function value: 0.573283\n",
      "         Iterations 6\n",
      "Optimization terminated successfully.\n",
      "         Current function value: 0.602418\n",
      "         Iterations 5\n",
      "Optimization terminated successfully.\n",
      "         Current function value: 0.601200\n",
      "         Iterations 6\n",
      "Optimization terminated successfully.\n",
      "         Current function value: 0.597471\n",
      "         Iterations 5\n",
      "Optimization terminated successfully.\n",
      "         Current function value: 0.600084\n",
      "         Iterations 6\n",
      "Optimization terminated successfully.\n",
      "         Current function value: 0.591927\n",
      "         Iterations 5\n",
      "Optimization terminated successfully.\n",
      "         Current function value: 0.592728\n",
      "         Iterations 6\n",
      "Optimization terminated successfully.\n",
      "         Current function value: 0.507207\n",
      "         Iterations 6\n",
      "Optimization terminated successfully.\n",
      "         Current function value: 0.513128\n",
      "         Iterations 5\n",
      "Optimization terminated successfully.\n",
      "         Current function value: 0.495963\n",
      "         Iterations 6\n",
      "Optimization terminated successfully.\n",
      "         Current function value: 0.504669\n",
      "         Iterations 6\n",
      "Optimization terminated successfully.\n",
      "         Current function value: 0.507519\n",
      "         Iterations 6\n",
      "Optimization terminated successfully.\n",
      "         Current function value: 0.483846\n",
      "         Iterations 6\n",
      "Optimization terminated successfully.\n",
      "         Current function value: 0.498221\n",
      "         Iterations 6\n",
      "Optimization terminated successfully.\n",
      "         Current function value: 0.490644\n",
      "         Iterations 6\n",
      "Optimization terminated successfully.\n",
      "         Current function value: 0.502944\n",
      "         Iterations 6\n",
      "Optimization terminated successfully.\n",
      "         Current function value: 0.491886\n",
      "         Iterations 6\n",
      "Optimization terminated successfully.\n",
      "         Current function value: 0.658354\n",
      "         Iterations 5\n",
      "Optimization terminated successfully.\n",
      "         Current function value: 0.613470\n",
      "         Iterations 6\n",
      "Optimization terminated successfully.\n",
      "         Current function value: 0.647886\n",
      "         Iterations 5\n",
      "Optimization terminated successfully.\n",
      "         Current function value: 0.623174\n",
      "         Iterations 6\n",
      "Optimization terminated successfully.\n",
      "         Current function value: 0.645893\n",
      "         Iterations 5\n",
      "Optimization terminated successfully.\n",
      "         Current function value: 0.616474\n",
      "         Iterations 6\n",
      "Optimization terminated successfully.\n",
      "         Current function value: 0.620853\n",
      "         Iterations 6\n",
      "Optimization terminated successfully.\n",
      "         Current function value: 0.644676\n",
      "         Iterations 5\n",
      "Optimization terminated successfully.\n",
      "         Current function value: 0.617104\n",
      "         Iterations 6\n",
      "Optimization terminated successfully.\n",
      "         Current function value: 0.620316\n",
      "         Iterations 6\n",
      "Processed 35 models on 3 predictors in 0.9220683574676514 seconds.\n",
      "Optimization terminated successfully.\n",
      "         Current function value: 0.441694\n",
      "         Iterations 6\n",
      "Optimization terminated successfully.\n",
      "         Current function value: 0.449385\n",
      "         Iterations 6\n",
      "Optimization terminated successfully.\n",
      "         Current function value: 0.451916\n",
      "         Iterations 6\n",
      "Optimization terminated successfully.\n",
      "         Current function value: 0.448690\n",
      "         Iterations 6\n",
      "Optimization terminated successfully.\n",
      "         Current function value: 0.459565\n",
      "         Iterations 6\n",
      "Optimization terminated successfully.\n",
      "         Current function value: 0.458354\n",
      "         Iterations 6\n",
      "Optimization terminated successfully.\n",
      "         Current function value: 0.456935\n",
      "         Iterations 6\n",
      "Optimization terminated successfully.\n",
      "         Current function value: 0.462054\n",
      "         Iterations 6\n",
      "Optimization terminated successfully.\n",
      "         Current function value: 0.459627\n",
      "         Iterations 6\n",
      "Optimization terminated successfully.\n",
      "         Current function value: 0.460188\n",
      "         Iterations 6\n",
      "Optimization terminated successfully.\n",
      "         Current function value: 0.577559\n",
      "         Iterations 5\n",
      "Optimization terminated successfully.\n",
      "         Current function value: 0.576859\n",
      "         Iterations 6\n",
      "Optimization terminated successfully.\n",
      "         Current function value: 0.571096\n",
      "         Iterations 6\n",
      "Optimization terminated successfully.\n",
      "         Current function value: 0.581188\n",
      "         Iterations 5\n",
      "Optimization terminated successfully.\n",
      "         Current function value: 0.571621\n",
      "         Iterations 6\n",
      "Optimization terminated successfully.\n",
      "         Current function value: 0.571653\n",
      "         Iterations 5\n"
     ]
    },
    {
     "name": "stdout",
     "output_type": "stream",
     "text": [
      "Optimization terminated successfully.\n",
      "         Current function value: 0.598028\n",
      "         Iterations 6\n",
      "Optimization terminated successfully.\n",
      "         Current function value: 0.591191\n",
      "         Iterations 5\n",
      "Optimization terminated successfully.\n",
      "         Current function value: 0.592369\n",
      "         Iterations 6\n",
      "Optimization terminated successfully.\n",
      "         Current function value: 0.589671\n",
      "         Iterations 6\n",
      "Optimization terminated successfully.\n",
      "         Current function value: 0.506992\n",
      "         Iterations 6\n",
      "Optimization terminated successfully.\n",
      "         Current function value: 0.480702\n",
      "         Iterations 6\n",
      "Optimization terminated successfully.\n",
      "         Current function value: 0.497432\n",
      "         Iterations 6\n",
      "Optimization terminated successfully.\n",
      "         Current function value: 0.489525\n",
      "         Iterations 6\n",
      "Optimization terminated successfully.\n",
      "         Current function value: 0.502805\n",
      "         Iterations 6\n",
      "Optimization terminated successfully.\n",
      "         Current function value: 0.491525\n",
      "         Iterations 6\n",
      "Optimization terminated successfully.\n",
      "         Current function value: 0.482065\n",
      "         Iterations 6\n",
      "Optimization terminated successfully.\n",
      "         Current function value: 0.498015\n",
      "         Iterations 6\n",
      "Optimization terminated successfully.\n",
      "         Current function value: 0.481126\n",
      "         Iterations 6\n",
      "Optimization terminated successfully.\n",
      "         Current function value: 0.487038\n",
      "         Iterations 6\n",
      "Optimization terminated successfully.\n",
      "         Current function value: 0.612851\n",
      "         Iterations 6\n",
      "Optimization terminated successfully.\n",
      "         Current function value: 0.642808\n",
      "         Iterations 5\n",
      "Optimization terminated successfully.\n",
      "         Current function value: 0.608504\n",
      "         Iterations 6\n",
      "Optimization terminated successfully.\n",
      "         Current function value: 0.616471\n",
      "         Iterations 6\n",
      "Optimization terminated successfully.\n",
      "         Current function value: 0.615182\n",
      "         Iterations 6\n",
      "Processed 35 models on 4 predictors in 1.0560779571533203 seconds.\n",
      "Optimization terminated successfully.\n",
      "         Current function value: 0.441354\n",
      "         Iterations 6\n",
      "Optimization terminated successfully.\n",
      "         Current function value: 0.441201\n",
      "         Iterations 6\n",
      "Optimization terminated successfully.\n",
      "         Current function value: 0.440015\n",
      "         Iterations 6\n",
      "Optimization terminated successfully.\n",
      "         Current function value: 0.449115\n",
      "         Iterations 6\n",
      "Optimization terminated successfully.\n",
      "         Current function value: 0.446677\n",
      "         Iterations 6\n",
      "Optimization terminated successfully.\n",
      "         Current function value: 0.448682\n",
      "         Iterations 6\n",
      "Optimization terminated successfully.\n",
      "         Current function value: 0.457977\n",
      "         Iterations 6\n",
      "Optimization terminated successfully.\n",
      "         Current function value: 0.456853\n",
      "         Iterations 6\n",
      "Optimization terminated successfully.\n",
      "         Current function value: 0.456149\n",
      "         Iterations 6\n",
      "Optimization terminated successfully.\n",
      "         Current function value: 0.459143\n",
      "         Iterations 6\n",
      "Optimization terminated successfully.\n",
      "         Current function value: 0.574924\n",
      "         Iterations 6\n",
      "Optimization terminated successfully.\n",
      "         Current function value: 0.567167\n",
      "         Iterations 6\n",
      "Optimization terminated successfully.\n",
      "         Current function value: 0.568163\n",
      "         Iterations 6\n",
      "Optimization terminated successfully.\n",
      "         Current function value: 0.570724\n",
      "         Iterations 5\n",
      "Optimization terminated successfully.\n",
      "         Current function value: 0.588255\n",
      "         Iterations 6\n",
      "Optimization terminated successfully.\n",
      "         Current function value: 0.478295\n",
      "         Iterations 6\n",
      "Optimization terminated successfully.\n",
      "         Current function value: 0.497161\n",
      "         Iterations 6\n",
      "Optimization terminated successfully.\n",
      "         Current function value: 0.478040\n",
      "         Iterations 6\n",
      "Optimization terminated successfully.\n",
      "         Current function value: 0.485875\n",
      "         Iterations 6\n",
      "Optimization terminated successfully.\n",
      "         Current function value: 0.479489\n",
      "         Iterations 6\n",
      "Optimization terminated successfully.\n",
      "         Current function value: 0.607602\n",
      "         Iterations 6\n",
      "Processed 21 models on 5 predictors in 0.6690464019775391 seconds.\n",
      "Optimization terminated successfully.\n",
      "         Current function value: 0.440646\n",
      "         Iterations 6\n",
      "Optimization terminated successfully.\n",
      "         Current function value: 0.439749\n",
      "         Iterations 6\n",
      "Optimization terminated successfully.\n",
      "         Current function value: 0.439766\n",
      "         Iterations 6\n",
      "Optimization terminated successfully.\n",
      "         Current function value: 0.446602\n",
      "         Iterations 6\n",
      "Optimization terminated successfully.\n",
      "         Current function value: 0.455896\n",
      "         Iterations 6\n",
      "Optimization terminated successfully.\n",
      "         Current function value: 0.565485\n",
      "         Iterations 6\n",
      "Optimization terminated successfully.\n",
      "         Current function value: 0.475828\n",
      "         Iterations 6\n",
      "Processed 7 models on 6 predictors in 0.2530195713043213 seconds.\n",
      "Optimization terminated successfully.\n",
      "         Current function value: 0.439364\n",
      "         Iterations 6\n",
      "Processed 1 models on 7 predictors in 0.04100346565246582 seconds.\n",
      "Total elapsed time: 3.650261402130127 seconds.\n"
     ]
    }
   ],
   "source": [
    "model_breakers = []\n",
    "\n",
    "def processSubset(predictor_subset):\n",
    "    model = sm.logit('Survived~' + '+'.join(predictor_subset),data = train_with_age).fit()\n",
    "    pval = model.prsquared\n",
    "    return {\"model\":model, \"llr_pvalue\":pval, \"vars\":predictor_subset}\n",
    "\n",
    "def getBest_model(k):\n",
    "    tic = time.time()\n",
    "    results = []\n",
    "    for combo in itertools.combinations(X.columns, k):\n",
    "        #print(list(combo))\n",
    "        try:\n",
    "            results.append(processSubset((list(combo))))\n",
    "        except:\n",
    "            model_breakers.append(list(combo))\n",
    "  \n",
    "    # Wrap everything up in a dataframe\n",
    "    models = pd.DataFrame(results)\n",
    "    #print(models)\n",
    "\n",
    "    # Choose the model with the highest RSS\n",
    "    best_model = models.loc[models['llr_pvalue'].argmax()]\n",
    "    \n",
    "    toc = time.time()\n",
    "    print(\"Processed\", models.shape[0], \"models on\", k, \"predictors in\", (toc-tic), \"seconds.\")\n",
    "    return k, models\n",
    "\n",
    "#Function to select the best model amongst the best models for 'k' predictors, where k = 1,2,3,..\n",
    "models_best = pd.DataFrame(columns=['num_elements', \"model\"])\n",
    "\n",
    "tic = time.time()\n",
    "for i in range(1,1+X.shape[1]):\n",
    "    try:\n",
    "        models_best.loc[i] = getBest_model(i)\n",
    "    except:\n",
    "        print('error')\n",
    "\n",
    "toc = time.time()\n",
    "print(\"Total elapsed time:\", (toc-tic), \"seconds.\")"
   ]
  },
  {
   "cell_type": "code",
   "execution_count": 73,
   "id": "b29e3db3",
   "metadata": {},
   "outputs": [
    {
     "data": {
      "image/png": "[encoded data removed]",
      "text/plain": [
       "<Figure size 1440x720 with 1 Axes>"
      ]
     },
     "metadata": {},
     "output_type": "display_data"
    }
   ],
   "source": [
    "#Plots all generated models based on r-squared - clear separation is seen\n",
    "\n",
    "def best_sub_plots():\n",
    "    plt.figure(figsize=(20,10))\n",
    "    plt.rcParams.update({'font.size': 18, 'lines.markersize': 10})\n",
    "\n",
    "    # Set up a 2x2 grid so we can look at 4 plots at once\n",
    "    #plt.subplot(2, 2, 1)\n",
    "\n",
    "    # We will now plot a red dot to indicate the model with the largest adjusted R^2 statistic.\n",
    "    # The argmax() function can be used to identify the location of the maximum point of a vector\n",
    "    plot_array = []\n",
    "    for i in range(1, models_best.shape[0]+1):\n",
    "        #print(i)\n",
    "        models_made = models_best.loc[models_best['num_elements'] == i]['model'][i]\n",
    "        for k in range(models_made.shape[0]):\n",
    "            plot_array.append([i, models_made['model'], models_made['llr_pvalue'][k], models_made['vars'][k]])\n",
    "        \n",
    "    data = pd.DataFrame(plot_array, columns = ['num_elements', 'model', 'rsquared', 'vars'])\n",
    "    plt.plot(data['num_elements'], data['rsquared'], 'ro')\n",
    "    plt.xlabel('# Predictors')\n",
    "    plt.ylabel('rsquared')\n",
    "    plt.ylim(bottom=0)\n",
    "    \n",
    "    return data\n",
    "\n",
    "all_models = best_sub_plots()"
   ]
  },
  {
   "cell_type": "code",
   "execution_count": 74,
   "id": "620fa6c0",
   "metadata": {},
   "outputs": [],
   "source": [
    "#Creates a datefram including the model, its psuedo r-squared, the variables considered, and booleans for whether a given variable was used\n",
    "\n",
    "def new_col(var, dfr):\n",
    "    return dfr['vars'].apply(lambda x: var in x)\n",
    "\n",
    "for variable in list(X.columns):\n",
    "    all_models[variable] = new_col(variable, all_models)    "
   ]
  },
  {
   "cell_type": "code",
   "execution_count": 75,
   "id": "99ddab13",
   "metadata": {},
   "outputs": [
    {
     "data": {
      "text/plain": [
       "Pclass      0.5\n",
       "Sex         1.0\n",
       "Age         0.5\n",
       "SibSp       0.5\n",
       "Parch       0.5\n",
       "Fare        0.5\n",
       "Embarked    0.5\n",
       "dtype: float64"
      ]
     },
     "execution_count": 75,
     "metadata": {},
     "output_type": "execute_result"
    }
   ],
   "source": [
    "#Shows the percentage of models including a given veriable when the pseudo r-squared is over 0.2 (boundary between regions)\n",
    "\n",
    "all_models[all_models.rsquared > 0.2][list(X.columns)].sum()/all_models['Sex'].sum()"
   ]
  },
  {
   "cell_type": "code",
   "execution_count": 92,
   "id": "7308d0c7",
   "metadata": {},
   "outputs": [],
   "source": [
    "numerics = ['int16', 'int32', 'int64', 'float16', 'float32', 'float64']\n",
    "\n",
    "newdf = train_with_age[predictors].select_dtypes(include=numerics)\n",
    "\n",
    "X_v = newdf.columns"
   ]
  },
  {
   "cell_type": "code",
   "execution_count": 94,
   "id": "52118a13",
   "metadata": {},
   "outputs": [
    {
     "name": "stdout",
     "output_type": "stream",
     "text": [
      "  feature       VIF\n",
      "0   const  7.518736\n",
      "1     Age  1.155832\n",
      "2   SibSp  1.305607\n",
      "3   Parch  1.263905\n",
      "4    Fare  1.094940\n"
     ]
    },
    {
     "name": "stderr",
     "output_type": "stream",
     "text": [
      "C:\\Users\\david\\anaconda3\\lib\\site-packages\\statsmodels\\tsa\\tsatools.py:142: FutureWarning: In a future version of pandas all arguments of concat except for the argument 'objs' will be keyword-only.\n",
      "  x = pd.concat(x[::order], 1)\n"
     ]
    }
   ],
   "source": [
    "#Checks correlation of all numeric values\n",
    "\n",
    "from statsmodels.stats.outliers_influence import variance_inflation_factor\n",
    "from statsmodels.tools.tools import add_constant\n",
    "\n",
    "X_vif = add_constant(train_with_age[X_v])\n",
    "vif_data = pd.DataFrame()\n",
    "vif_data[\"feature\"] = X_vif.columns\n",
    "\n",
    "for i in range(len(X_vif.columns)):\n",
    "    vif_data.loc[i,'VIF'] = variance_inflation_factor(X_vif.values, i)\n",
    "\n",
    "print(vif_data)"
   ]
  },
  {
   "cell_type": "markdown",
   "id": "acab331a",
   "metadata": {},
   "source": [
    "## Developing the model\n",
    "\n",
    "**All of the folllowing code produced by Hiba Khatib & Emily Leibfritz**"
   ]
  },
  {
   "cell_type": "markdown",
   "id": "ae5ec4c9",
   "metadata": {},
   "source": [
    "Put code with comments. The comments should explain the code such that it can be easily understood. You may put text *(in a markdown cell)* before a large chunk of code to explain the overall purpose of the code, if it is not intuitive. **Put the name of the person / persons who contributed to each code chunk / set of code chunks.**"
   ]
  },
  {
   "cell_type": "code",
   "execution_count": 26,
   "id": "c6a7bf31",
   "metadata": {},
   "outputs": [],
   "source": [
    "final_train = train_with_age.drop(columns = ['PassengerId', 'Name', 'Ticket'])"
   ]
  },
  {
   "cell_type": "code",
   "execution_count": 27,
   "id": "690503d5",
   "metadata": {},
   "outputs": [
    {
     "ename": "PatsyError",
     "evalue": "Error evaluating factor: NameError: name 'age_binned' is not defined\n    Survived~ Pclass + Sex + Age + SibSp + Parch + Fare + Embarked + age_binned\n                                                                     ^^^^^^^^^^",
     "output_type": "error",
     "traceback": [
      "\u001b[1;31m---------------------------------------------------------------------------\u001b[0m",
      "\u001b[1;31mNameError\u001b[0m                                 Traceback (most recent call last)",
      "\u001b[1;32m~\\anaconda3\\lib\\site-packages\\patsy\\compat.py\u001b[0m in \u001b[0;36mcall_and_wrap_exc\u001b[1;34m(msg, origin, f, *args, **kwargs)\u001b[0m\n\u001b[0;32m     35\u001b[0m     \u001b[1;32mtry\u001b[0m\u001b[1;33m:\u001b[0m\u001b[1;33m\u001b[0m\u001b[1;33m\u001b[0m\u001b[0m\n\u001b[1;32m---> 36\u001b[1;33m         \u001b[1;32mreturn\u001b[0m \u001b[0mf\u001b[0m\u001b[1;33m(\u001b[0m\u001b[1;33m*\u001b[0m\u001b[0margs\u001b[0m\u001b[1;33m,\u001b[0m \u001b[1;33m**\u001b[0m\u001b[0mkwargs\u001b[0m\u001b[1;33m)\u001b[0m\u001b[1;33m\u001b[0m\u001b[1;33m\u001b[0m\u001b[0m\n\u001b[0m\u001b[0;32m     37\u001b[0m     \u001b[1;32mexcept\u001b[0m \u001b[0mException\u001b[0m \u001b[1;32mas\u001b[0m \u001b[0me\u001b[0m\u001b[1;33m:\u001b[0m\u001b[1;33m\u001b[0m\u001b[1;33m\u001b[0m\u001b[0m\n",
      "\u001b[1;32m~\\anaconda3\\lib\\site-packages\\patsy\\eval.py\u001b[0m in \u001b[0;36meval\u001b[1;34m(self, expr, source_name, inner_namespace)\u001b[0m\n\u001b[0;32m    164\u001b[0m         \u001b[0mcode\u001b[0m \u001b[1;33m=\u001b[0m \u001b[0mcompile\u001b[0m\u001b[1;33m(\u001b[0m\u001b[0mexpr\u001b[0m\u001b[1;33m,\u001b[0m \u001b[0msource_name\u001b[0m\u001b[1;33m,\u001b[0m \u001b[1;34m\"eval\"\u001b[0m\u001b[1;33m,\u001b[0m \u001b[0mself\u001b[0m\u001b[1;33m.\u001b[0m\u001b[0mflags\u001b[0m\u001b[1;33m,\u001b[0m \u001b[1;32mFalse\u001b[0m\u001b[1;33m)\u001b[0m\u001b[1;33m\u001b[0m\u001b[1;33m\u001b[0m\u001b[0m\n\u001b[1;32m--> 165\u001b[1;33m         return eval(code, {}, VarLookupDict([inner_namespace]\n\u001b[0m\u001b[0;32m    166\u001b[0m                                             + self._namespaces))\n",
      "\u001b[1;32m<string>\u001b[0m in \u001b[0;36m<module>\u001b[1;34m\u001b[0m\n",
      "\u001b[1;31mNameError\u001b[0m: name 'age_binned' is not defined",
      "\nThe above exception was the direct cause of the following exception:\n",
      "\u001b[1;31mPatsyError\u001b[0m                                Traceback (most recent call last)",
      "\u001b[1;32m~\\AppData\\Local\\Temp/ipykernel_5180/479403611.py\u001b[0m in \u001b[0;36m<module>\u001b[1;34m\u001b[0m\n\u001b[1;32m----> 1\u001b[1;33m \u001b[0mlogit_model1\u001b[0m \u001b[1;33m=\u001b[0m \u001b[0msm\u001b[0m\u001b[1;33m.\u001b[0m\u001b[0mlogit\u001b[0m\u001b[1;33m(\u001b[0m\u001b[0mformula\u001b[0m \u001b[1;33m=\u001b[0m \u001b[1;34m'Survived~ Pclass + Sex + Age + SibSp + Parch + Fare + Embarked + age_binned'\u001b[0m\u001b[1;33m,\u001b[0m \u001b[0mdata\u001b[0m \u001b[1;33m=\u001b[0m \u001b[0mfinal_train\u001b[0m\u001b[1;33m)\u001b[0m\u001b[1;33m.\u001b[0m\u001b[0mfit\u001b[0m\u001b[1;33m(\u001b[0m\u001b[1;33m)\u001b[0m\u001b[1;33m\u001b[0m\u001b[1;33m\u001b[0m\u001b[0m\n\u001b[0m\u001b[0;32m      2\u001b[0m \u001b[0mlogit_model1\u001b[0m\u001b[1;33m.\u001b[0m\u001b[0msummary\u001b[0m\u001b[1;33m(\u001b[0m\u001b[1;33m)\u001b[0m\u001b[1;33m\u001b[0m\u001b[1;33m\u001b[0m\u001b[0m\n",
      "\u001b[1;32m~\\anaconda3\\lib\\site-packages\\statsmodels\\base\\model.py\u001b[0m in \u001b[0;36mfrom_formula\u001b[1;34m(cls, formula, data, subset, drop_cols, *args, **kwargs)\u001b[0m\n\u001b[0;32m    167\u001b[0m             \u001b[0mmissing\u001b[0m \u001b[1;33m=\u001b[0m \u001b[1;34m'raise'\u001b[0m\u001b[1;33m\u001b[0m\u001b[1;33m\u001b[0m\u001b[0m\n\u001b[0;32m    168\u001b[0m \u001b[1;33m\u001b[0m\u001b[0m\n\u001b[1;32m--> 169\u001b[1;33m         tmp = handle_formula_data(data, None, formula, depth=eval_env,\n\u001b[0m\u001b[0;32m    170\u001b[0m                                   missing=missing)\n\u001b[0;32m    171\u001b[0m         \u001b[1;33m(\u001b[0m\u001b[1;33m(\u001b[0m\u001b[0mendog\u001b[0m\u001b[1;33m,\u001b[0m \u001b[0mexog\u001b[0m\u001b[1;33m)\u001b[0m\u001b[1;33m,\u001b[0m \u001b[0mmissing_idx\u001b[0m\u001b[1;33m,\u001b[0m \u001b[0mdesign_info\u001b[0m\u001b[1;33m)\u001b[0m \u001b[1;33m=\u001b[0m \u001b[0mtmp\u001b[0m\u001b[1;33m\u001b[0m\u001b[1;33m\u001b[0m\u001b[0m\n",
      "\u001b[1;32m~\\anaconda3\\lib\\site-packages\\statsmodels\\formula\\formulatools.py\u001b[0m in \u001b[0;36mhandle_formula_data\u001b[1;34m(Y, X, formula, depth, missing)\u001b[0m\n\u001b[0;32m     61\u001b[0m     \u001b[1;32melse\u001b[0m\u001b[1;33m:\u001b[0m\u001b[1;33m\u001b[0m\u001b[1;33m\u001b[0m\u001b[0m\n\u001b[0;32m     62\u001b[0m         \u001b[1;32mif\u001b[0m \u001b[0mdata_util\u001b[0m\u001b[1;33m.\u001b[0m\u001b[0m_is_using_pandas\u001b[0m\u001b[1;33m(\u001b[0m\u001b[0mY\u001b[0m\u001b[1;33m,\u001b[0m \u001b[1;32mNone\u001b[0m\u001b[1;33m)\u001b[0m\u001b[1;33m:\u001b[0m\u001b[1;33m\u001b[0m\u001b[1;33m\u001b[0m\u001b[0m\n\u001b[1;32m---> 63\u001b[1;33m             result = dmatrices(formula, Y, depth, return_type='dataframe',\n\u001b[0m\u001b[0;32m     64\u001b[0m                                NA_action=na_action)\n\u001b[0;32m     65\u001b[0m         \u001b[1;32melse\u001b[0m\u001b[1;33m:\u001b[0m\u001b[1;33m\u001b[0m\u001b[1;33m\u001b[0m\u001b[0m\n",
      "\u001b[1;32m~\\anaconda3\\lib\\site-packages\\patsy\\highlevel.py\u001b[0m in \u001b[0;36mdmatrices\u001b[1;34m(formula_like, data, eval_env, NA_action, return_type)\u001b[0m\n\u001b[0;32m    307\u001b[0m     \"\"\"\n\u001b[0;32m    308\u001b[0m     \u001b[0meval_env\u001b[0m \u001b[1;33m=\u001b[0m \u001b[0mEvalEnvironment\u001b[0m\u001b[1;33m.\u001b[0m\u001b[0mcapture\u001b[0m\u001b[1;33m(\u001b[0m\u001b[0meval_env\u001b[0m\u001b[1;33m,\u001b[0m \u001b[0mreference\u001b[0m\u001b[1;33m=\u001b[0m\u001b[1;36m1\u001b[0m\u001b[1;33m)\u001b[0m\u001b[1;33m\u001b[0m\u001b[1;33m\u001b[0m\u001b[0m\n\u001b[1;32m--> 309\u001b[1;33m     (lhs, rhs) = _do_highlevel_design(formula_like, data, eval_env,\n\u001b[0m\u001b[0;32m    310\u001b[0m                                       NA_action, return_type)\n\u001b[0;32m    311\u001b[0m     \u001b[1;32mif\u001b[0m \u001b[0mlhs\u001b[0m\u001b[1;33m.\u001b[0m\u001b[0mshape\u001b[0m\u001b[1;33m[\u001b[0m\u001b[1;36m1\u001b[0m\u001b[1;33m]\u001b[0m \u001b[1;33m==\u001b[0m \u001b[1;36m0\u001b[0m\u001b[1;33m:\u001b[0m\u001b[1;33m\u001b[0m\u001b[1;33m\u001b[0m\u001b[0m\n",
      "\u001b[1;32m~\\anaconda3\\lib\\site-packages\\patsy\\highlevel.py\u001b[0m in \u001b[0;36m_do_highlevel_design\u001b[1;34m(formula_like, data, eval_env, NA_action, return_type)\u001b[0m\n\u001b[0;32m    162\u001b[0m     \u001b[1;32mdef\u001b[0m \u001b[0mdata_iter_maker\u001b[0m\u001b[1;33m(\u001b[0m\u001b[1;33m)\u001b[0m\u001b[1;33m:\u001b[0m\u001b[1;33m\u001b[0m\u001b[1;33m\u001b[0m\u001b[0m\n\u001b[0;32m    163\u001b[0m         \u001b[1;32mreturn\u001b[0m \u001b[0miter\u001b[0m\u001b[1;33m(\u001b[0m\u001b[1;33m[\u001b[0m\u001b[0mdata\u001b[0m\u001b[1;33m]\u001b[0m\u001b[1;33m)\u001b[0m\u001b[1;33m\u001b[0m\u001b[1;33m\u001b[0m\u001b[0m\n\u001b[1;32m--> 164\u001b[1;33m     design_infos = _try_incr_builders(formula_like, data_iter_maker, eval_env,\n\u001b[0m\u001b[0;32m    165\u001b[0m                                       NA_action)\n\u001b[0;32m    166\u001b[0m     \u001b[1;32mif\u001b[0m \u001b[0mdesign_infos\u001b[0m \u001b[1;32mis\u001b[0m \u001b[1;32mnot\u001b[0m \u001b[1;32mNone\u001b[0m\u001b[1;33m:\u001b[0m\u001b[1;33m\u001b[0m\u001b[1;33m\u001b[0m\u001b[0m\n",
      "\u001b[1;32m~\\anaconda3\\lib\\site-packages\\patsy\\highlevel.py\u001b[0m in \u001b[0;36m_try_incr_builders\u001b[1;34m(formula_like, data_iter_maker, eval_env, NA_action)\u001b[0m\n\u001b[0;32m     64\u001b[0m     \u001b[1;32mif\u001b[0m \u001b[0misinstance\u001b[0m\u001b[1;33m(\u001b[0m\u001b[0mformula_like\u001b[0m\u001b[1;33m,\u001b[0m \u001b[0mModelDesc\u001b[0m\u001b[1;33m)\u001b[0m\u001b[1;33m:\u001b[0m\u001b[1;33m\u001b[0m\u001b[1;33m\u001b[0m\u001b[0m\n\u001b[0;32m     65\u001b[0m         \u001b[1;32massert\u001b[0m \u001b[0misinstance\u001b[0m\u001b[1;33m(\u001b[0m\u001b[0meval_env\u001b[0m\u001b[1;33m,\u001b[0m \u001b[0mEvalEnvironment\u001b[0m\u001b[1;33m)\u001b[0m\u001b[1;33m\u001b[0m\u001b[1;33m\u001b[0m\u001b[0m\n\u001b[1;32m---> 66\u001b[1;33m         return design_matrix_builders([formula_like.lhs_termlist,\n\u001b[0m\u001b[0;32m     67\u001b[0m                                        formula_like.rhs_termlist],\n\u001b[0;32m     68\u001b[0m                                       \u001b[0mdata_iter_maker\u001b[0m\u001b[1;33m,\u001b[0m\u001b[1;33m\u001b[0m\u001b[1;33m\u001b[0m\u001b[0m\n",
      "\u001b[1;32m~\\anaconda3\\lib\\site-packages\\patsy\\build.py\u001b[0m in \u001b[0;36mdesign_matrix_builders\u001b[1;34m(termlists, data_iter_maker, eval_env, NA_action)\u001b[0m\n\u001b[0;32m    691\u001b[0m     \u001b[1;31m# on some data to find out what type of data they return.\u001b[0m\u001b[1;33m\u001b[0m\u001b[1;33m\u001b[0m\u001b[0m\n\u001b[0;32m    692\u001b[0m     (num_column_counts,\n\u001b[1;32m--> 693\u001b[1;33m      \u001b[0mcat_levels_contrasts\u001b[0m\u001b[1;33m)\u001b[0m \u001b[1;33m=\u001b[0m \u001b[0m_examine_factor_types\u001b[0m\u001b[1;33m(\u001b[0m\u001b[0mall_factors\u001b[0m\u001b[1;33m,\u001b[0m\u001b[1;33m\u001b[0m\u001b[1;33m\u001b[0m\u001b[0m\n\u001b[0m\u001b[0;32m    694\u001b[0m                                                    \u001b[0mfactor_states\u001b[0m\u001b[1;33m,\u001b[0m\u001b[1;33m\u001b[0m\u001b[1;33m\u001b[0m\u001b[0m\n\u001b[0;32m    695\u001b[0m                                                    \u001b[0mdata_iter_maker\u001b[0m\u001b[1;33m,\u001b[0m\u001b[1;33m\u001b[0m\u001b[1;33m\u001b[0m\u001b[0m\n",
      "\u001b[1;32m~\\anaconda3\\lib\\site-packages\\patsy\\build.py\u001b[0m in \u001b[0;36m_examine_factor_types\u001b[1;34m(factors, factor_states, data_iter_maker, NA_action)\u001b[0m\n\u001b[0;32m    441\u001b[0m     \u001b[1;32mfor\u001b[0m \u001b[0mdata\u001b[0m \u001b[1;32min\u001b[0m \u001b[0mdata_iter_maker\u001b[0m\u001b[1;33m(\u001b[0m\u001b[1;33m)\u001b[0m\u001b[1;33m:\u001b[0m\u001b[1;33m\u001b[0m\u001b[1;33m\u001b[0m\u001b[0m\n\u001b[0;32m    442\u001b[0m         \u001b[1;32mfor\u001b[0m \u001b[0mfactor\u001b[0m \u001b[1;32min\u001b[0m \u001b[0mlist\u001b[0m\u001b[1;33m(\u001b[0m\u001b[0mexamine_needed\u001b[0m\u001b[1;33m)\u001b[0m\u001b[1;33m:\u001b[0m\u001b[1;33m\u001b[0m\u001b[1;33m\u001b[0m\u001b[0m\n\u001b[1;32m--> 443\u001b[1;33m             \u001b[0mvalue\u001b[0m \u001b[1;33m=\u001b[0m \u001b[0mfactor\u001b[0m\u001b[1;33m.\u001b[0m\u001b[0meval\u001b[0m\u001b[1;33m(\u001b[0m\u001b[0mfactor_states\u001b[0m\u001b[1;33m[\u001b[0m\u001b[0mfactor\u001b[0m\u001b[1;33m]\u001b[0m\u001b[1;33m,\u001b[0m \u001b[0mdata\u001b[0m\u001b[1;33m)\u001b[0m\u001b[1;33m\u001b[0m\u001b[1;33m\u001b[0m\u001b[0m\n\u001b[0m\u001b[0;32m    444\u001b[0m             \u001b[1;32mif\u001b[0m \u001b[0mfactor\u001b[0m \u001b[1;32min\u001b[0m \u001b[0mcat_sniffers\u001b[0m \u001b[1;32mor\u001b[0m \u001b[0mguess_categorical\u001b[0m\u001b[1;33m(\u001b[0m\u001b[0mvalue\u001b[0m\u001b[1;33m)\u001b[0m\u001b[1;33m:\u001b[0m\u001b[1;33m\u001b[0m\u001b[1;33m\u001b[0m\u001b[0m\n\u001b[0;32m    445\u001b[0m                 \u001b[1;32mif\u001b[0m \u001b[0mfactor\u001b[0m \u001b[1;32mnot\u001b[0m \u001b[1;32min\u001b[0m \u001b[0mcat_sniffers\u001b[0m\u001b[1;33m:\u001b[0m\u001b[1;33m\u001b[0m\u001b[1;33m\u001b[0m\u001b[0m\n",
      "\u001b[1;32m~\\anaconda3\\lib\\site-packages\\patsy\\eval.py\u001b[0m in \u001b[0;36meval\u001b[1;34m(self, memorize_state, data)\u001b[0m\n\u001b[0;32m    562\u001b[0m \u001b[1;33m\u001b[0m\u001b[0m\n\u001b[0;32m    563\u001b[0m     \u001b[1;32mdef\u001b[0m \u001b[0meval\u001b[0m\u001b[1;33m(\u001b[0m\u001b[0mself\u001b[0m\u001b[1;33m,\u001b[0m \u001b[0mmemorize_state\u001b[0m\u001b[1;33m,\u001b[0m \u001b[0mdata\u001b[0m\u001b[1;33m)\u001b[0m\u001b[1;33m:\u001b[0m\u001b[1;33m\u001b[0m\u001b[1;33m\u001b[0m\u001b[0m\n\u001b[1;32m--> 564\u001b[1;33m         return self._eval(memorize_state[\"eval_code\"],\n\u001b[0m\u001b[0;32m    565\u001b[0m                           \u001b[0mmemorize_state\u001b[0m\u001b[1;33m,\u001b[0m\u001b[1;33m\u001b[0m\u001b[1;33m\u001b[0m\u001b[0m\n\u001b[0;32m    566\u001b[0m                           data)\n",
      "\u001b[1;32m~\\anaconda3\\lib\\site-packages\\patsy\\eval.py\u001b[0m in \u001b[0;36m_eval\u001b[1;34m(self, code, memorize_state, data)\u001b[0m\n\u001b[0;32m    545\u001b[0m     \u001b[1;32mdef\u001b[0m \u001b[0m_eval\u001b[0m\u001b[1;33m(\u001b[0m\u001b[0mself\u001b[0m\u001b[1;33m,\u001b[0m \u001b[0mcode\u001b[0m\u001b[1;33m,\u001b[0m \u001b[0mmemorize_state\u001b[0m\u001b[1;33m,\u001b[0m \u001b[0mdata\u001b[0m\u001b[1;33m)\u001b[0m\u001b[1;33m:\u001b[0m\u001b[1;33m\u001b[0m\u001b[1;33m\u001b[0m\u001b[0m\n\u001b[0;32m    546\u001b[0m         \u001b[0minner_namespace\u001b[0m \u001b[1;33m=\u001b[0m \u001b[0mVarLookupDict\u001b[0m\u001b[1;33m(\u001b[0m\u001b[1;33m[\u001b[0m\u001b[0mdata\u001b[0m\u001b[1;33m,\u001b[0m \u001b[0mmemorize_state\u001b[0m\u001b[1;33m[\u001b[0m\u001b[1;34m\"transforms\"\u001b[0m\u001b[1;33m]\u001b[0m\u001b[1;33m]\u001b[0m\u001b[1;33m)\u001b[0m\u001b[1;33m\u001b[0m\u001b[1;33m\u001b[0m\u001b[0m\n\u001b[1;32m--> 547\u001b[1;33m         return call_and_wrap_exc(\"Error evaluating factor\",\n\u001b[0m\u001b[0;32m    548\u001b[0m                                  \u001b[0mself\u001b[0m\u001b[1;33m,\u001b[0m\u001b[1;33m\u001b[0m\u001b[1;33m\u001b[0m\u001b[0m\n\u001b[0;32m    549\u001b[0m                                  \u001b[0mmemorize_state\u001b[0m\u001b[1;33m[\u001b[0m\u001b[1;34m\"eval_env\"\u001b[0m\u001b[1;33m]\u001b[0m\u001b[1;33m.\u001b[0m\u001b[0meval\u001b[0m\u001b[1;33m,\u001b[0m\u001b[1;33m\u001b[0m\u001b[1;33m\u001b[0m\u001b[0m\n",
      "\u001b[1;32m~\\anaconda3\\lib\\site-packages\\patsy\\compat.py\u001b[0m in \u001b[0;36mcall_and_wrap_exc\u001b[1;34m(msg, origin, f, *args, **kwargs)\u001b[0m\n\u001b[0;32m     41\u001b[0m                                  origin)\n\u001b[0;32m     42\u001b[0m             \u001b[1;31m# Use 'exec' to hide this syntax from the Python 2 parser:\u001b[0m\u001b[1;33m\u001b[0m\u001b[1;33m\u001b[0m\u001b[0m\n\u001b[1;32m---> 43\u001b[1;33m             \u001b[0mexec\u001b[0m\u001b[1;33m(\u001b[0m\u001b[1;34m\"raise new_exc from e\"\u001b[0m\u001b[1;33m)\u001b[0m\u001b[1;33m\u001b[0m\u001b[1;33m\u001b[0m\u001b[0m\n\u001b[0m\u001b[0;32m     44\u001b[0m         \u001b[1;32melse\u001b[0m\u001b[1;33m:\u001b[0m\u001b[1;33m\u001b[0m\u001b[1;33m\u001b[0m\u001b[0m\n\u001b[0;32m     45\u001b[0m             \u001b[1;31m# In python 2, we just let the original exception escape -- better\u001b[0m\u001b[1;33m\u001b[0m\u001b[1;33m\u001b[0m\u001b[0m\n",
      "\u001b[1;32m~\\anaconda3\\lib\\site-packages\\patsy\\compat.py\u001b[0m in \u001b[0;36m<module>\u001b[1;34m\u001b[0m\n",
      "\u001b[1;31mPatsyError\u001b[0m: Error evaluating factor: NameError: name 'age_binned' is not defined\n    Survived~ Pclass + Sex + Age + SibSp + Parch + Fare + Embarked + age_binned\n                                                                     ^^^^^^^^^^"
     ]
    }
   ],
   "source": [
    "logit_model1 = sm.logit(formula = 'Survived~ Pclass + Sex + Age + SibSp + Parch + Fare + Embarked + age_binned', data = final_train).fit()\n",
    "logit_model1.summary()"
   ]
  },
  {
   "cell_type": "code",
   "execution_count": null,
   "id": "92e6fff3",
   "metadata": {},
   "outputs": [],
   "source": [
    "final_train = train_with_age.drop(columns = ['PassengerId', 'Name', 'Ticket'])"
   ]
  },
  {
   "cell_type": "code",
   "execution_count": null,
   "id": "ded307ba",
   "metadata": {},
   "outputs": [],
   "source": [
    "final_train = pd.get_dummies(final_train, columns = ['Sex'], drop_first = True)"
   ]
  },
  {
   "cell_type": "code",
   "execution_count": null,
   "id": "0ec36999",
   "metadata": {},
   "outputs": [],
   "source": [
    "final_train.rename(columns={\"Sex_male\": \"Sex\"}, inplace = True)"
   ]
  },
  {
   "cell_type": "code",
   "execution_count": null,
   "id": "80e6e3ac",
   "metadata": {},
   "outputs": [],
   "source": [
    "final_train['Embarked'] = final_train['Embarked'].apply(lambda x: 1 if x == 'S' else \n",
    "                                                               2 if x == 'C' else \n",
    "                                                               0)"
   ]
  },
  {
   "cell_type": "code",
   "execution_count": null,
   "id": "b39af2f1",
   "metadata": {},
   "outputs": [],
   "source": [
    "X_train = final_train[['Pclass', 'Sex', 'Age', 'SibSp', 'Parch', 'Fare', 'Embarked']]"
   ]
  },
  {
   "cell_type": "code",
   "execution_count": null,
   "id": "99973c4b",
   "metadata": {},
   "outputs": [],
   "source": [
    "y = final_train.Survived\n",
    "X = final_train.drop('Survived', axis = 1)"
   ]
  },
  {
   "cell_type": "code",
   "execution_count": null,
   "id": "073298ed",
   "metadata": {},
   "outputs": [],
   "source": [
    "X_train, X_test, y_train, y_test = train_test_split(X, y, test_size = 0.15, random_state = 45)"
   ]
  },
  {
   "cell_type": "code",
   "execution_count": null,
   "id": "c654633a",
   "metadata": {},
   "outputs": [],
   "source": [
    "X_train = X_train.drop('age_binned', axis = 1)\n",
    "X_test = X_test.drop('age_binned', axis = 1)"
   ]
  },
  {
   "cell_type": "code",
   "execution_count": null,
   "id": "d6922add",
   "metadata": {},
   "outputs": [],
   "source": [
    "sklearn_model = LogisticRegression(max_iter=500)\n",
    "sklearn_model.fit(X_train, y_train)"
   ]
  },
  {
   "cell_type": "code",
   "execution_count": null,
   "id": "87ab98b0",
   "metadata": {},
   "outputs": [],
   "source": [
    "y_pred_test = sklearn_model.predict(X_test)\n",
    "print('Accuracy of logistic regression on test set : {:.4f}'.format(sklearn_model.score(X_test, y_test)))"
   ]
  },
  {
   "cell_type": "code",
   "execution_count": null,
   "id": "8a04cc89",
   "metadata": {},
   "outputs": [],
   "source": [
    "def fit_logistic_reg(X,Y):\n",
    "    #Fit linear regression model and return RSS and R squared values\n",
    "    model_k = linear_model.LogisticRegression()\n",
    "    model_k.fit(X,Y)\n",
    "    RSS = mean_squared_error(Y,model_k.predict(X)) * len(Y)\n",
    "    R_squared = model_k.score(X,Y)\n",
    "    return RSS, R_squared"
   ]
  },
  {
   "cell_type": "code",
   "execution_count": null,
   "id": "ad2a90c2",
   "metadata": {},
   "outputs": [],
   "source": [
    "k = 11\n",
    "RSS_list, R_squared_list, feature_list = [],[], []\n",
    "numb_features = []\n",
    "\n",
    "#Looping over k = 1 to k = 11 features in X\n",
    "for k in tnrange(1,len(X_train.columns) + 1, desc = 'Loop...'):\n",
    "\n",
    "    #Looping over all possible combinations: from 11 choose k\n",
    "    for combo in itertools.combinations(X_train.columns,k):\n",
    "        tmp_result = fit_logistic_reg(X_train[list(combo)],y_train)   #Store temp result \n",
    "        RSS_list.append(tmp_result[0])                  #Append lists\n",
    "        R_squared_list.append(tmp_result[1])\n",
    "        feature_list.append(combo)\n",
    "        numb_features.append(len(combo))   \n",
    "\n",
    "#Store in DataFrame\n",
    "df = pd.DataFrame({'numb_features': numb_features,'RSS': RSS_list, 'R_squared':R_squared_list,'features':feature_list})"
   ]
  },
  {
   "cell_type": "code",
   "execution_count": null,
   "id": "8001d034",
   "metadata": {},
   "outputs": [],
   "source": [
    "df_min = df[df.groupby('numb_features')['RSS'].transform(min) == df['RSS']]\n",
    "df_max = df[df.groupby('numb_features')['R_squared'].transform(max) == df['R_squared']]\n",
    "display(df_min.head(10))\n",
    "display(df_max.head(10))"
   ]
  },
  {
   "cell_type": "code",
   "execution_count": null,
   "id": "f72e12b5",
   "metadata": {},
   "outputs": [],
   "source": [
    "df['min_RSS'] = df.groupby('numb_features')['RSS'].transform(min)\n",
    "df['max_R_squared'] = df.groupby('numb_features')['R_squared'].transform(max)\n",
    "df.head()"
   ]
  },
  {
   "cell_type": "code",
   "execution_count": null,
   "id": "3bba5b65",
   "metadata": {},
   "outputs": [],
   "source": [
    "fig = plt.figure(figsize = (16,6))\n",
    "ax = fig.add_subplot(1, 2, 1)\n",
    "\n",
    "ax.scatter(df.numb_features,df.RSS, alpha = .2, color = 'darkblue' )\n",
    "ax.set_xlabel('# Features')\n",
    "ax.set_ylabel('RSS')\n",
    "ax.set_title('RSS - Best subset selection')\n",
    "ax.plot(df.numb_features,df.min_RSS,color = 'r', label = 'Best subset')\n",
    "ax.legend()\n",
    "\n",
    "ax = fig.add_subplot(1, 2, 2)\n",
    "ax.scatter(df.numb_features,df.R_squared, alpha = .2, color = 'darkblue' )\n",
    "ax.plot(df.numb_features,df.max_R_squared,color = 'r', label = 'Best subset')\n",
    "ax.set_xlabel('# Features')\n",
    "ax.set_ylabel('R squared')\n",
    "ax.set_title('R_squared - Best subset selection')\n",
    "ax.legend()\n",
    "\n",
    "plt.show()"
   ]
  },
  {
   "cell_type": "code",
   "execution_count": null,
   "id": "9a389f79",
   "metadata": {},
   "outputs": [],
   "source": [
    "df[(df[\"numb_features\"] == 6)].sort_values(by = ['R_squared'], ascending=False)"
   ]
  },
  {
   "cell_type": "code",
   "execution_count": null,
   "id": "a13f2f9a",
   "metadata": {},
   "outputs": [],
   "source": [
    "df[(df[\"numb_features\"] == 7)].sort_values(by = ['R_squared'], ascending=False)"
   ]
  },
  {
   "cell_type": "code",
   "execution_count": null,
   "id": "f2768ed7",
   "metadata": {},
   "outputs": [],
   "source": [
    "### Selected variables: (Pclass, Age, SibSp, Parch, Embarked, Sex)\t"
   ]
  },
  {
   "cell_type": "code",
   "execution_count": null,
   "id": "b1462a20",
   "metadata": {},
   "outputs": [],
   "source": [
    "X_train = X_train.drop('Fare', axis = 1)\n",
    "X_test = X_test.drop('Fare', axis = 1)"
   ]
  },
  {
   "cell_type": "code",
   "execution_count": null,
   "id": "5e9986da",
   "metadata": {},
   "outputs": [],
   "source": [
    "sklearn_model = LogisticRegression()\n",
    "sklearn_model.fit(X_train, y_train)\n",
    "\n",
    "y_pred_test = sklearn_model.predict(X_test)\n",
    "print('Accuracy of logistic regression on test set : {:.4f}'.format(sklearn_model.score(X_test, y_test)))"
   ]
  },
  {
   "cell_type": "code",
   "execution_count": null,
   "id": "8d0881e6",
   "metadata": {},
   "outputs": [],
   "source": [
    "final_train.dtypes"
   ]
  },
  {
   "cell_type": "code",
   "execution_count": null,
   "id": "91d3d45c",
   "metadata": {},
   "outputs": [],
   "source": [
    "final_train['SibSp'] = pd.to_numeric(final_train['SibSp'])\n",
    "final_train['Parch'] = pd.to_numeric(final_train['Parch'])\n",
    "final_train['Pclass'] = pd.to_numeric(final_train['Pclass'])"
   ]
  },
  {
   "cell_type": "code",
   "execution_count": null,
   "id": "8cf1ad11",
   "metadata": {},
   "outputs": [],
   "source": [
    "# Interacation between SibSp and Parch\n",
    "\n",
    "def jitter(values,j):\n",
    "    return values + np.random.normal(j,0.02,values.shape)\n",
    "sns.scatterplot(x=jitter(final_train.SibSp,0), y = jitter(final_train.Parch,0),data = final_train, color = 'orange')"
   ]
  },
  {
   "cell_type": "code",
   "execution_count": null,
   "id": "79a75a02",
   "metadata": {},
   "outputs": [],
   "source": [
    "# SibSP\n",
    "sns.scatterplot(x = jitter(final_train.SibSp,0), y = jitter(final_train.Survived,0), color = 'orange')\n",
    "model = smf.logit(formula = 'Survived~SibSp', data = final_train).fit()\n",
    "sns.lineplot(x = 'SibSp', y= model.predict(final_train), data = final_train, color = 'blue') \n",
    "model.llf"
   ]
  },
  {
   "cell_type": "code",
   "execution_count": null,
   "id": "7ede879e",
   "metadata": {},
   "outputs": [],
   "source": [
    "# SibSP squared\n",
    "sns.scatterplot(x = jitter(final_train.SibSp,0), y = jitter(final_train.Survived,0), color = 'orange')\n",
    "model = smf.logit(formula = 'Survived~SibSp+I(SibSp**2)', data = final_train).fit()\n",
    "sns.lineplot(x = 'SibSp', y= model.predict(final_train), data = final_train, color = 'blue') \n",
    "model.llf"
   ]
  },
  {
   "cell_type": "code",
   "execution_count": null,
   "id": "abc59a66",
   "metadata": {},
   "outputs": [],
   "source": [
    "# Parch\n",
    "sns.scatterplot(x = jitter(final_train.Parch,0), y = jitter(final_train.Survived,0), color = 'orange')\n",
    "model = smf.logit(formula = 'Survived~Parch', data = final_train).fit()\n",
    "sns.lineplot(x = 'Parch', y= model.predict(final_train), data = final_train, color = 'blue') \n",
    "model.llf"
   ]
  },
  {
   "cell_type": "code",
   "execution_count": null,
   "id": "2fa1ab54",
   "metadata": {},
   "outputs": [],
   "source": [
    "# Parch squared\n",
    "sns.scatterplot(x = jitter(final_train.Parch,0), y = jitter(final_train.Survived,0), color = 'orange')\n",
    "model = smf.logit(formula = 'Survived~Parch+I(Parch**2)', data = final_train).fit()\n",
    "sns.lineplot(x = 'Parch', y= model.predict(final_train), data = final_train, color = 'blue') \n",
    "model.llf"
   ]
  },
  {
   "cell_type": "code",
   "execution_count": null,
   "id": "f799ef64",
   "metadata": {},
   "outputs": [],
   "source": [
    "# age not binned\n",
    "sns.scatterplot(x = jitter(final_train.Age,0), y = jitter(final_train.Survived,0), color = 'orange')\n",
    "model = smf.logit(formula = 'Survived~Age', data = final_train).fit()\n",
    "sns.lineplot(x = 'Age', y= model.predict(final_train), data = final_train, color = 'blue') \n",
    "model.llf"
   ]
  },
  {
   "cell_type": "code",
   "execution_count": null,
   "id": "1db9e0e4",
   "metadata": {},
   "outputs": [],
   "source": [
    "# age binned\n",
    "sns.scatterplot(x = jitter(final_train.Age,0), y = jitter(final_train.Survived,0), color = 'orange')\n",
    "model = smf.logit(formula = 'Survived~age_binned', data = final_train).fit()\n",
    "sns.lineplot(x = 'Age', y= model.predict(final_train), data = final_train, color = 'blue') \n",
    "model.llf"
   ]
  },
  {
   "cell_type": "code",
   "execution_count": null,
   "id": "3493f5f6",
   "metadata": {},
   "outputs": [],
   "source": [
    "# age squared\n",
    "sns.scatterplot(x = jitter(final_train.Age,0), y = jitter(final_train.Survived,0), color = 'orange')\n",
    "model = smf.logit(formula = 'Survived~Age+I(Age**2)', data = final_train).fit()\n",
    "sns.lineplot(x = 'Age', y= model.predict(final_train), data = final_train, color = 'blue') \n",
    "model.llf"
   ]
  },
  {
   "cell_type": "code",
   "execution_count": null,
   "id": "b7a179a6",
   "metadata": {},
   "outputs": [],
   "source": [
    "sns.countplot(x = 'age_binned',hue = 'Survived', data = final_train )"
   ]
  },
  {
   "cell_type": "code",
   "execution_count": null,
   "id": "eaf2deac",
   "metadata": {},
   "outputs": [],
   "source": [
    "final_train.head()"
   ]
  },
  {
   "cell_type": "code",
   "execution_count": null,
   "id": "d4073d09",
   "metadata": {},
   "outputs": [],
   "source": [
    "X_train1 = X_train.copy()\n",
    "X_train1['Age_binned'] = final_train['age_binned']\n",
    "X_train1['agePclass']= final_train.Age * final_train.Pclass\n",
    "X_train1['ParchSibSp']= final_train.SibSp * final_train.Parch\n",
    "X_train1['EmbarkedPclass']= final_train.Embarked * final_train.Pclass\n",
    "X_train1 = X_train1.drop(['Age_binned'], axis = 1)"
   ]
  },
  {
   "cell_type": "code",
   "execution_count": null,
   "id": "e9621e92",
   "metadata": {},
   "outputs": [],
   "source": [
    "X_test1 = X_test.copy()\n",
    "X_test1['Parch'] = pd.to_numeric(X_test1.Parch)\n",
    "X_test1['SibSp'] = pd.to_numeric(X_test1.SibSp)\n",
    "X_test1['Pclass'] = pd.to_numeric(X_test1.Pclass)\n",
    "X_test1['agePclass']= X_test1.Age * X_test1.Pclass\n",
    "X_test1['ParchSibSp']= X_test1.SibSp * X_test1.Parch\n",
    "X_test1['EmbarkedPclass']= X_test1.Embarked * X_test1.Pclass"
   ]
  },
  {
   "cell_type": "markdown",
   "id": "6444e611",
   "metadata": {},
   "source": [
    "### Code fitting the final model"
   ]
  },
  {
   "cell_type": "markdown",
   "id": "f6cae72f",
   "metadata": {},
   "source": [
    "Put the code(s) that fit the final model(s) in separate cell(s), i.e., the code with the `.ols()` or `.logit()` functions."
   ]
  },
  {
   "cell_type": "code",
   "execution_count": null,
   "id": "e763161f",
   "metadata": {},
   "outputs": [],
   "source": [
    "sklearn_model_1 = LogisticRegression()\n",
    "sklearn_model_1.fit(X_train1, y_train)"
   ]
  },
  {
   "cell_type": "code",
   "execution_count": null,
   "id": "0acfbbd2",
   "metadata": {},
   "outputs": [],
   "source": [
    "y_pred_test = sklearn_model_1.predict(X_test1)\n",
    "print('Accuracy of logistic regression on test set : {:.4f}'.format(sklearn_model_1.score(X_test1, y_test)))"
   ]
  },
  {
   "cell_type": "code",
   "execution_count": null,
   "id": "5d531c92",
   "metadata": {},
   "outputs": [],
   "source": [
    "print(classification_report(y_test, y_pred_test))"
   ]
  },
  {
   "cell_type": "markdown",
   "id": "b986bdec",
   "metadata": {},
   "source": [
    "### Performance Measurement "
   ]
  },
  {
   "cell_type": "code",
   "execution_count": null,
   "id": "8ef027ff",
   "metadata": {},
   "outputs": [],
   "source": [
    "# confusion matrix\n",
    "cm = confusion_matrix(y_test, y_pred_test) \n",
    "print (\"Confusion Matrix : \\n\", cm) \n",
    "  \n",
    "# accuracy score of the model\n",
    "print('Test accuracy = ', accuracy_score(y_test, y_pred_test))\n",
    "\n",
    "disp = ConfusionMatrixDisplay(confusion_matrix=cm,\n",
    "                               display_labels=sklearn_model_1.classes_)\n",
    "disp.plot()\n",
    "\n",
    "plt.show()"
   ]
  },
  {
   "cell_type": "code",
   "execution_count": null,
   "id": "cfa62692",
   "metadata": {},
   "outputs": [],
   "source": [
    "metrics.plot_roc_curve(sklearn_model_1, X_test1, y_test)\n",
    "plt.show()"
   ]
  },
  {
   "cell_type": "code",
   "execution_count": null,
   "id": "9fe1db45",
   "metadata": {},
   "outputs": [],
   "source": [
    "ypred = sklearn_model_1.predict(X_train1)\n",
    "y = y_train\n",
    "# ypred = logit_model_diabetes.predict(train)\n",
    "p, r, thresholds = precision_recall_curve(y, ypred)\n",
    "def plot_precision_recall_vs_threshold(precisions, recalls, thresholds):\n",
    "    plt.figure(figsize=(8, 8))\n",
    "    plt.title(\"Precision and Recall Scores as a function of the decision threshold\")\n",
    "    plt.plot(thresholds, precisions[:-1], \"b--\", label=\"Precision\")\n",
    "    plt.plot(thresholds, recalls[:-1], \"g-\", label=\"Recall\")\n",
    "    plt.ylabel(\"Score\")\n",
    "    plt.xlabel(\"Decision Threshold\")\n",
    "    plt.legend(loc='best')\n",
    "    plt.legend()\n",
    "plot_precision_recall_vs_threshold(p, r, thresholds)"
   ]
  },
  {
   "cell_type": "markdown",
   "id": "62a185cb",
   "metadata": {},
   "source": [
    "## Conclusions and Recommendations to stakeholder(s)\n",
    "\n",
    "# You may or may not have code to put in this section. Delete this section if it is irrelevant."
   ]
  }
 ],
 "metadata": {
  "kernelspec": {
   "display_name": "Python 3 (ipykernel)",
   "language": "python",
   "name": "python3"
  },
  "language_info": {
   "codemirror_mode": {
    "name": "ipython",
    "version": 3
   },
   "file_extension": ".py",
   "mimetype": "text/x-python",
   "name": "python",
   "nbconvert_exporter": "python",
   "pygments_lexer": "ipython3",
   "version": "3.8.8"
  }
 },
 "nbformat": 4,
 "nbformat_minor": 5
}
